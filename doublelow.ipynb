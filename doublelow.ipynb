{
  "nbformat": 4,
  "nbformat_minor": 0,
  "metadata": {
    "colab": {
      "name": "doublelow.ipynb",
      "provenance": [],
      "authorship_tag": "ABX9TyPEGjT0l53AJGh076rK4MKv",
      "include_colab_link": true
    },
    "kernelspec": {
      "name": "python3",
      "display_name": "Python 3"
    }
  },
  "cells": [
    {
      "cell_type": "markdown",
      "metadata": {
        "id": "view-in-github",
        "colab_type": "text"
      },
      "source": [
        "<a href=\"https://colab.research.google.com/github/vitaldb/examples/blob/master/doublelow.ipynb\" target=\"_parent\"><img src=\"https://colab.research.google.com/assets/colab-badge.svg\" alt=\"Open In Colab\"/></a>"
      ]
    },
    {
      "cell_type": "code",
      "metadata": {
        "id": "jYMeFhyTpUZE",
        "colab_type": "code",
        "colab": {}
      },
      "source": [
        "import pandas as pd\n",
        "import numpy as np\n",
        "import vitaldb\n",
        "\n",
        "df_cases = pd.read_csv(\"https://api.vitaldb.net/cases\")  # 임상 정보\n",
        "df_trks = pd.read_csv('https://api.vitaldb.net/v2/trks')  # 트랙 목록\n",
        "\n",
        "caseids = list(\n",
        "    set(df_trks[df_trks['tname'] == 'Solar8000/ART_MBP']['caseid']) & \n",
        "    set(df_trks[df_trks['tname'] == 'BIS/BIS']['caseid']) & \n",
        "    set(df_cases[df_cases['department'] == 'General surgery']['caseid']) &\n",
        "    set(df_cases[df_cases['emop'] == 'Y']['caseid'])\n",
        ")\n",
        "print('Total {} cases found'.format(len(caseids)))\n",
        "\n",
        "df = pd.DataFrame(columns=['mbp_under_65', 'bis_under_20', 'death'])\n",
        "for caseid in caseids:\n",
        "    print('loading {}...'.format(caseid), flush=True, end='')\n",
        "\n",
        "    tid_mbp = df_trks[(df_trks['caseid'] == caseid) & (df_trks['tname'] == 'Solar8000/ART_MBP')]['tid'].values[0]\n",
        "    tid_bis = df_trks[(df_trks['caseid'] == caseid) & (df_trks['tname'] == 'BIS/BIS')]['tid'].values[0]\n",
        "\n",
        "    vals = vitaldb.load_trks([tid_mbp, tid_bis], 60)\n",
        "\n",
        "    valid_mask = (vals[:,0] > 20) & (vals[:,0] < 150) & (vals[:,1] > 0) & (vals[:,1] < 80)\n",
        "    vals = vals[valid_mask]\n",
        "\n",
        "    if len(vals) < 10:\n",
        "        print()\n",
        "        continue\n",
        "    \n",
        "    mbp_under_65 = np.nanmean(vals[:,0] < 65) * 100\n",
        "    bis_under_20 = np.nanmean(vals[:,1] < 20) * 100\n",
        "    double_low = np.nanmean((vals[:,0] < 65) & (vals[:,1] < 20)) * 100\n",
        "\n",
        "    death = df_cases[df_cases['caseid'] == caseid]['death_inhosp'].values[0] == 'Y'\n",
        "\n",
        "    df = df.append({'mbp_under_65':mbp_under_65, 'bis_under_20':bis_under_20, 'double_low':double_low, 'death':death}, ignore_index=True)\n",
        "\n",
        "    print('mbp<65 {:.1f}%, {}'.format(mbp_under_65, 'death' if death else ''))\n",
        "\n",
        "df['death'] = df['death'].astype(bool)\n",
        "\n",
        "# group comparison\n",
        "print(df.groupby('death').mean())"
      ],
      "execution_count": null,
      "outputs": []
    }
  ]
}