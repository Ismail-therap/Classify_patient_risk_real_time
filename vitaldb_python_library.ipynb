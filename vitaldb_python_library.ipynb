{
  "nbformat": 4,
  "nbformat_minor": 0,
  "metadata": {
    "colab": {
      "name": "vitaldb_python_library.ipynb",
      "provenance": [],
      "authorship_tag": "ABX9TyOMYrSFMBLXLXq38eswOjjd",
      "include_colab_link": true
    },
    "kernelspec": {
      "name": "python3",
      "display_name": "Python 3"
    }
  },
  "cells": [
    {
      "cell_type": "markdown",
      "metadata": {
        "id": "view-in-github",
        "colab_type": "text"
      },
      "source": [
        "<a href=\"https://colab.research.google.com/github/vitaldb/examples/blob/master/vitaldb_python_library.ipynb\" target=\"_parent\"><img src=\"https://colab.research.google.com/assets/colab-badge.svg\" alt=\"Open In Colab\"/></a>"
      ]
    },
    {
      "cell_type": "markdown",
      "metadata": {
        "id": "X2COxMJNUxIh"
      },
      "source": [
        "# VitalDB Python Library\n",
        "In this example, we will learn how to handle Vital files using `vitaldb` Python library."
      ]
    },
    {
      "cell_type": "markdown",
      "metadata": {
        "id": "0pAlf-93XLo9"
      },
      "source": [
        "## Preparation"
      ]
    },
    {
      "cell_type": "markdown",
      "metadata": {
        "id": "Yz6rZEtHVQwG"
      },
      "source": [
        "### Install 'vitaldb' library\n",
        "Intall `vitaldb` library in order to read Vital files."
      ]
    },
    {
      "cell_type": "code",
      "metadata": {
        "id": "t88MHi_hcHAT",
        "colab": {
          "base_uri": "https://localhost:8080/"
        },
        "outputId": "92e48114-d21c-4412-cd28-75151bb2c1fa"
      },
      "source": [
        "!pip install vitaldb"
      ],
      "execution_count": null,
      "outputs": [
        {
          "output_type": "stream",
          "name": "stdout",
          "text": [
            "Looking in indexes: https://pypi.org/simple, https://us-python.pkg.dev/colab-wheels/public/simple/\n",
            "Collecting vitaldb\n",
            "  Downloading vitaldb-0.2.8-py3-none-any.whl (49 kB)\n",
            "\u001b[K     |████████████████████████████████| 49 kB 1.9 MB/s \n",
            "\u001b[?25hRequirement already satisfied: pandas in /usr/local/lib/python3.7/dist-packages (from vitaldb) (1.3.5)\n",
            "Requirement already satisfied: requests in /usr/local/lib/python3.7/dist-packages (from vitaldb) (2.23.0)\n",
            "Collecting s3fs\n",
            "  Downloading s3fs-2022.5.0-py3-none-any.whl (27 kB)\n",
            "Requirement already satisfied: numpy in /usr/local/lib/python3.7/dist-packages (from vitaldb) (1.21.6)\n",
            "Requirement already satisfied: pyarrow in /usr/local/lib/python3.7/dist-packages (from vitaldb) (6.0.1)\n",
            "Requirement already satisfied: pytz>=2017.3 in /usr/local/lib/python3.7/dist-packages (from pandas->vitaldb) (2022.1)\n",
            "Requirement already satisfied: python-dateutil>=2.7.3 in /usr/local/lib/python3.7/dist-packages (from pandas->vitaldb) (2.8.2)\n",
            "Requirement already satisfied: six>=1.5 in /usr/local/lib/python3.7/dist-packages (from python-dateutil>=2.7.3->pandas->vitaldb) (1.15.0)\n",
            "Requirement already satisfied: certifi>=2017.4.17 in /usr/local/lib/python3.7/dist-packages (from requests->vitaldb) (2022.6.15)\n",
            "Requirement already satisfied: urllib3!=1.25.0,!=1.25.1,<1.26,>=1.21.1 in /usr/local/lib/python3.7/dist-packages (from requests->vitaldb) (1.24.3)\n",
            "Requirement already satisfied: chardet<4,>=3.0.2 in /usr/local/lib/python3.7/dist-packages (from requests->vitaldb) (3.0.4)\n",
            "Requirement already satisfied: idna<3,>=2.5 in /usr/local/lib/python3.7/dist-packages (from requests->vitaldb) (2.10)\n",
            "Collecting aiohttp<=4\n",
            "  Downloading aiohttp-3.8.1-cp37-cp37m-manylinux_2_5_x86_64.manylinux1_x86_64.manylinux_2_12_x86_64.manylinux2010_x86_64.whl (1.1 MB)\n",
            "\u001b[K     |████████████████████████████████| 1.1 MB 31.0 MB/s \n",
            "\u001b[?25hCollecting aiobotocore~=2.3.0\n",
            "  Downloading aiobotocore-2.3.3.tar.gz (65 kB)\n",
            "\u001b[K     |████████████████████████████████| 65 kB 4.3 MB/s \n",
            "\u001b[?25hCollecting fsspec==2022.5.0\n",
            "  Downloading fsspec-2022.5.0-py3-none-any.whl (140 kB)\n",
            "\u001b[K     |████████████████████████████████| 140 kB 40.1 MB/s \n",
            "\u001b[?25hCollecting botocore<1.24.22,>=1.24.21\n",
            "  Downloading botocore-1.24.21-py3-none-any.whl (8.6 MB)\n",
            "\u001b[K     |████████████████████████████████| 8.6 MB 11.7 MB/s \n",
            "\u001b[?25hRequirement already satisfied: wrapt>=1.10.10 in /usr/local/lib/python3.7/dist-packages (from aiobotocore~=2.3.0->s3fs->vitaldb) (1.14.1)\n",
            "Collecting aioitertools>=0.5.1\n",
            "  Downloading aioitertools-0.10.0-py3-none-any.whl (23 kB)\n",
            "Collecting multidict<7.0,>=4.5\n",
            "  Downloading multidict-6.0.2-cp37-cp37m-manylinux_2_17_x86_64.manylinux2014_x86_64.whl (94 kB)\n",
            "\u001b[K     |████████████████████████████████| 94 kB 2.2 MB/s \n",
            "\u001b[?25hRequirement already satisfied: charset-normalizer<3.0,>=2.0 in /usr/local/lib/python3.7/dist-packages (from aiohttp<=4->s3fs->vitaldb) (2.0.12)\n",
            "Collecting asynctest==0.13.0\n",
            "  Downloading asynctest-0.13.0-py3-none-any.whl (26 kB)\n",
            "Collecting async-timeout<5.0,>=4.0.0a3\n",
            "  Downloading async_timeout-4.0.2-py3-none-any.whl (5.8 kB)\n",
            "Requirement already satisfied: typing-extensions>=3.7.4 in /usr/local/lib/python3.7/dist-packages (from aiohttp<=4->s3fs->vitaldb) (4.1.1)\n",
            "Collecting frozenlist>=1.1.1\n",
            "  Downloading frozenlist-1.3.0-cp37-cp37m-manylinux_2_5_x86_64.manylinux1_x86_64.manylinux_2_17_x86_64.manylinux2014_x86_64.whl (144 kB)\n",
            "\u001b[K     |████████████████████████████████| 144 kB 40.0 MB/s \n",
            "\u001b[?25hCollecting yarl<2.0,>=1.0\n",
            "  Downloading yarl-1.7.2-cp37-cp37m-manylinux_2_5_x86_64.manylinux1_x86_64.manylinux_2_12_x86_64.manylinux2010_x86_64.whl (271 kB)\n",
            "\u001b[K     |████████████████████████████████| 271 kB 50.9 MB/s \n",
            "\u001b[?25hRequirement already satisfied: attrs>=17.3.0 in /usr/local/lib/python3.7/dist-packages (from aiohttp<=4->s3fs->vitaldb) (21.4.0)\n",
            "Collecting aiosignal>=1.1.2\n",
            "  Downloading aiosignal-1.2.0-py3-none-any.whl (8.2 kB)\n",
            "Collecting jmespath<2.0.0,>=0.7.1\n",
            "  Downloading jmespath-1.0.1-py3-none-any.whl (20 kB)\n",
            "Collecting urllib3!=1.25.0,!=1.25.1,<1.26,>=1.21.1\n",
            "  Downloading urllib3-1.25.11-py2.py3-none-any.whl (127 kB)\n",
            "\u001b[K     |████████████████████████████████| 127 kB 21.5 MB/s \n",
            "\u001b[?25hBuilding wheels for collected packages: aiobotocore\n",
            "  Building wheel for aiobotocore (setup.py) ... \u001b[?25l\u001b[?25hdone\n",
            "  Created wheel for aiobotocore: filename=aiobotocore-2.3.3-py3-none-any.whl size=64640 sha256=1b159722a6a19ce40079cc565bcd15a572caf69b0882300a0be60d5ce33f1ad8\n",
            "  Stored in directory: /root/.cache/pip/wheels/71/90/2f/bf0c130857587a589d0faa0fb743a7e52b915037532008aabe\n",
            "Successfully built aiobotocore\n",
            "Installing collected packages: multidict, frozenlist, yarl, urllib3, jmespath, asynctest, async-timeout, aiosignal, botocore, aioitertools, aiohttp, fsspec, aiobotocore, s3fs, vitaldb\n",
            "  Attempting uninstall: urllib3\n",
            "    Found existing installation: urllib3 1.24.3\n",
            "    Uninstalling urllib3-1.24.3:\n",
            "      Successfully uninstalled urllib3-1.24.3\n",
            "\u001b[31mERROR: pip's dependency resolver does not currently take into account all the packages that are installed. This behaviour is the source of the following dependency conflicts.\n",
            "datascience 0.10.6 requires folium==0.2.1, but you have folium 0.8.3 which is incompatible.\u001b[0m\n",
            "Successfully installed aiobotocore-2.3.3 aiohttp-3.8.1 aioitertools-0.10.0 aiosignal-1.2.0 async-timeout-4.0.2 asynctest-0.13.0 botocore-1.24.21 frozenlist-1.3.0 fsspec-2022.5.0 jmespath-1.0.1 multidict-6.0.2 s3fs-2022.5.0 urllib3-1.25.11 vitaldb-0.2.8 yarl-1.7.2\n"
          ]
        }
      ]
    },
    {
      "cell_type": "markdown",
      "source": [
        "###Download sample vital files\n",
        "Download sample vital files from the VitalDB website using the command below."
      ],
      "metadata": {
        "id": "hI2a3YxAfzME"
      }
    },
    {
      "cell_type": "code",
      "metadata": {
        "id": "jK_-H6WtUz_9",
        "colab": {
          "base_uri": "https://localhost:8080/"
        },
        "outputId": "24111f82-769e-481c-b594-c9e3b208d895"
      },
      "source": [
        "!wget https://vitaldb.net/samples.zip\n",
        "!unzip samples.zip"
      ],
      "execution_count": null,
      "outputs": [
        {
          "output_type": "stream",
          "name": "stdout",
          "text": [
            "--2022-06-26 18:44:49--  https://vitaldb.net/samples.zip\n",
            "Resolving vitaldb.net (vitaldb.net)... 15.197.255.47\n",
            "Connecting to vitaldb.net (vitaldb.net)|15.197.255.47|:443... connected.\n",
            "HTTP request sent, awaiting response... 200 OK\n",
            "Length: 104335514 (100M) [application/zip]\n",
            "Saving to: ‘samples.zip’\n",
            "\n",
            "samples.zip         100%[===================>]  99.50M  27.7MB/s    in 4.4s    \n",
            "\n",
            "2022-06-26 18:44:54 (22.8 MB/s) - ‘samples.zip’ saved [104335514/104335514]\n",
            "\n",
            "Archive:  samples.zip\n",
            "  inflating: 1-1.vital               \n",
            "  inflating: 1-2.vital               \n",
            "  inflating: 1.vital                 \n",
            "  inflating: 2.vital                 \n",
            "  inflating: 3.vital                 \n",
            "  inflating: 4.vital                 \n"
          ]
        }
      ]
    },
    {
      "cell_type": "markdown",
      "metadata": {
        "id": "eYpeIKUmelcZ"
      },
      "source": [
        "import `vitaldb` library to read vital file."
      ]
    },
    {
      "cell_type": "code",
      "metadata": {
        "id": "coK6GckfcSkq"
      },
      "source": [
        "import vitaldb"
      ],
      "execution_count": null,
      "outputs": []
    },
    {
      "cell_type": "markdown",
      "source": [
        "## Vital File API\n",
        "The Vital File API provides easy functions (`vital_trks`, `vital_recs`) and class (`VitalFile`) for reading a track list and contents from a vital file."
      ],
      "metadata": {
        "id": "EmgInduClfAR"
      }
    },
    {
      "cell_type": "markdown",
      "metadata": {
        "id": "IVniWCJAU7Wj"
      },
      "source": [
        "###Read the track list from a vital file\n",
        "You can read the track list from a vital file using `vital_trks` function."
      ]
    },
    {
      "cell_type": "code",
      "metadata": {
        "id": "oh_54t5FZkYM",
        "colab": {
          "base_uri": "https://localhost:8080/"
        },
        "outputId": "388e5e55-5e82-4bdb-bc64-684dd75d6c48"
      },
      "source": [
        "trks = vitaldb.vital_trks('1.vital')\n",
        "trks"
      ],
      "execution_count": 39,
      "outputs": [
        {
          "output_type": "execute_result",
          "data": {
            "text/plain": [
              "['Primus/AWP']"
            ]
          },
          "metadata": {},
          "execution_count": 39
        }
      ]
    },
    {
      "cell_type": "markdown",
      "metadata": {
        "id": "XARQ3Zs1WVE7"
      },
      "source": [
        "### Read the samples in a vital file\n",
        "You can read the samples(values) in a vital file using `vital_recs` function. It returns the samples in a numpy array."
      ]
    },
    {
      "cell_type": "code",
      "metadata": {
        "id": "qsQ-vSMpUjp5",
        "colab": {
          "base_uri": "https://localhost:8080/",
          "height": 721
        },
        "outputId": "be8a7b47-e5ed-4a38-ecf9-1da9bb5a8c1b"
      },
      "source": [
        "vals = vitaldb.vital_recs('1.vital', ['ECG_II','ART'], 1/100)\n",
        "print(vals)\n",
        "\n",
        "ecg = vals[:,0]\n",
        "art = vals[:,1]\n",
        "\n",
        "# plot\n",
        "import matplotlib.pyplot as plt\n",
        "plt.figure(figsize=(20,10))\n",
        "plt.subplot(211)\n",
        "plt.plot(ecg[110000:111000], color='g')\n",
        "plt.subplot(212)\n",
        "plt.plot(art[110000:111000], color='r')\n",
        "plt.show()"
      ],
      "execution_count": 38,
      "outputs": [
        {
          "output_type": "stream",
          "name": "stdout",
          "text": [
            "[[nan nan]\n",
            " [nan nan]\n",
            " [nan nan]\n",
            " ...\n",
            " [nan nan]\n",
            " [nan nan]\n",
            " [nan nan]]\n"
          ]
        },
        {
          "output_type": "display_data",
          "data": {
            "text/plain": [
              "<Figure size 1440x720 with 2 Axes>"
            ],
            "image/png": "[encoded data removed]"
          },
          "metadata": {
            "needs_background": "light"
          }
        }
      ]
    },
    {
      "cell_type": "markdown",
      "source": [
        "### Create VitalFile object\n",
        "`VitalFile` class helps you read, write, and edit vital file easily and seamlessly. You can create `VitalFile` object by opening one or list of local or online vital file(s)."
      ],
      "metadata": {
        "id": "UwgzMGYvXyIZ"
      }
    },
    {
      "cell_type": "code",
      "source": [
        "vf = vitaldb.VitalFile('1.vital')\n",
        "print(f'duration {vf.dtend - vf.dtstart:.3f} seconds {len(vf.trks)} tracks')"
      ],
      "metadata": {
        "id": "9-769iObcIms",
        "outputId": "a76c8a64-3cf1-4db5-b3d1-71cd61d22f6b",
        "colab": {
          "base_uri": "https://localhost:8080/"
        }
      },
      "execution_count": null,
      "outputs": [
        {
          "output_type": "stream",
          "name": "stdout",
          "text": [
            "duration 11542.097 seconds 79 tracks\n"
          ]
        }
      ]
    },
    {
      "cell_type": "markdown",
      "source": [
        "You can even directly read the vital file online."
      ],
      "metadata": {
        "id": "aq38cDeobuKO"
      }
    },
    {
      "cell_type": "code",
      "source": [
        "vf = vitaldb.VitalFile('https://vitaldb.net/1.vital')\n",
        "print(f'duration {vf.dtend - vf.dtstart:.3f} seconds {len(vf.trks)} tracks')"
      ],
      "metadata": {
        "id": "L5Fyv9l8biP6",
        "outputId": "2fa08d98-20ba-4c99-c3e7-1f9f22b37201",
        "colab": {
          "base_uri": "https://localhost:8080/"
        }
      },
      "execution_count": null,
      "outputs": [
        {
          "output_type": "stream",
          "name": "stdout",
          "text": [
            "duration 11542.097 seconds 79 tracks\n"
          ]
        }
      ]
    },
    {
      "cell_type": "markdown",
      "source": [
        "The code below create `VitalFile` object by merging two vital files.\n",
        "\n",
        "> Note: Only vital files within 2 days can be merged into one file."
      ],
      "metadata": {
        "id": "dBz7vEL2bNb7"
      }
    },
    {
      "cell_type": "code",
      "source": [
        "vf1 = vitaldb.VitalFile('1-1.vital')\n",
        "print(f'1-1 duration {vf1.dtend - vf1.dtstart:.3f} seconds {len(vf1.trks)} tracks')\n",
        "\n",
        "vf2 = vitaldb.VitalFile('1-2.vital')\n",
        "print(f'1-2 duration {vf2.dtend - vf2.dtstart:.3f} seconds {len(vf2.trks)} tracks')\n",
        "\n",
        "vf = vitaldb.VitalFile(['1-1.vital', '1-2.vital'])  # merged\n",
        "print(f'merged duration {vf.dtend - vf.dtstart:.3f} seconds {len(vf.trks)} tracks')"
      ],
      "metadata": {
        "id": "IZmvNSBXaJ_e",
        "outputId": "0c19ea4f-5047-4043-91e7-0b1e22fd4e47",
        "colab": {
          "base_uri": "https://localhost:8080/"
        }
      },
      "execution_count": null,
      "outputs": [
        {
          "output_type": "stream",
          "name": "stdout",
          "text": [
            "1-1 duration 3908.135 seconds 79 tracks\n",
            "1-2 duration 6621.162 seconds 79 tracks\n",
            "merged duration 11542.097 seconds 79 tracks\n"
          ]
        }
      ]
    },
    {
      "cell_type": "markdown",
      "source": [
        "### Read information from the VitalFile object"
      ],
      "metadata": {
        "id": "GjPFDoI9fM4D"
      }
    },
    {
      "cell_type": "markdown",
      "source": [
        "All information such as track list and measured samples are in the `vf` object. For example, you can get a list of track names using the `vf.get_track_names()` method or `vf.trks.keys()`."
      ],
      "metadata": {
        "id": "3NH19cpsdB8w"
      }
    },
    {
      "cell_type": "code",
      "source": [
        "vf.get_track_names()"
      ],
      "metadata": {
        "id": "5EVoYx14dBCP",
        "outputId": "134f4be7-5ad9-4ba9-a1a8-90b12ff60738",
        "colab": {
          "base_uri": "https://localhost:8080/"
        }
      },
      "execution_count": null,
      "outputs": [
        {
          "output_type": "execute_result",
          "data": {
            "text/plain": [
              "['SNUADC/ART',\n",
              " 'SNUADC/ECG_II',\n",
              " 'SNUADC/ECG_V5',\n",
              " 'SNUADC/PLETH',\n",
              " 'Primus/CO2',\n",
              " 'Primus/AWP',\n",
              " 'Primus/INSP_SEVO',\n",
              " 'Primus/EXP_SEVO',\n",
              " 'Primus/PAMB_MBAR',\n",
              " 'Primus/MAWP_MBAR',\n",
              " 'Primus/MAC',\n",
              " 'Primus/VENT_LEAK',\n",
              " 'Primus/INCO2',\n",
              " 'Primus/ETCO2',\n",
              " 'Primus/FEO2',\n",
              " 'Primus/FIO2',\n",
              " 'Primus/FIN2O',\n",
              " 'Primus/FEN2O',\n",
              " 'Primus/SET_FIO2',\n",
              " 'Primus/SET_FRESH_FLOW',\n",
              " 'Primus/SET_AGE',\n",
              " 'Primus/PIP_MBAR',\n",
              " 'Primus/COMPLIANCE',\n",
              " 'Primus/PPLAT_MBAR',\n",
              " 'Primus/PEEP_MBAR',\n",
              " 'Primus/TV',\n",
              " 'Primus/MV',\n",
              " 'Primus/RR_CO2',\n",
              " 'Primus/SET_TV_L',\n",
              " 'Primus/SET_INSP_TM',\n",
              " 'Primus/SET_RR_IPPV',\n",
              " 'Primus/SET_INTER_PEEP',\n",
              " 'Primus/SET_PIP',\n",
              " 'Primus/SET_INSP_PAUSE',\n",
              " 'Primus/INSP_DES',\n",
              " 'Primus/EXP_DES',\n",
              " 'BIS/EEG1_WAV',\n",
              " 'BIS/EEG2_WAV',\n",
              " 'BIS/BIS',\n",
              " 'BIS/SQI',\n",
              " 'BIS/EMG',\n",
              " 'BIS/SR',\n",
              " 'BIS/SEF',\n",
              " 'BIS/TOTPOW',\n",
              " 'Solar8000/HR',\n",
              " 'Solar8000/ST_I',\n",
              " 'Solar8000/ST_II',\n",
              " 'Solar8000/ST_III',\n",
              " 'Solar8000/ST_AVL',\n",
              " 'Solar8000/ST_AVR',\n",
              " 'Solar8000/ST_AVF',\n",
              " 'Solar8000/ART_MBP',\n",
              " 'Solar8000/ART_SBP',\n",
              " 'Solar8000/ART_DBP',\n",
              " 'Solar8000/PLETH_SPO2',\n",
              " 'Solar8000/PLETH_HR',\n",
              " 'Solar8000/BT',\n",
              " 'Solar8000/VENT_MAWP',\n",
              " 'Solar8000/ST_V5',\n",
              " 'Solar8000/NIBP_MBP',\n",
              " 'Solar8000/NIBP_SBP',\n",
              " 'Solar8000/NIBP_DBP',\n",
              " 'Solar8000/VENT_PIP',\n",
              " 'Solar8000/VENT_RR',\n",
              " 'Solar8000/VENT_MV',\n",
              " 'Solar8000/VENT_TV',\n",
              " 'Solar8000/VENT_PPLAT',\n",
              " 'Solar8000/GAS2_AGENT',\n",
              " 'Solar8000/GAS2_EXPIRED',\n",
              " 'Solar8000/GAS2_INSPIRED',\n",
              " 'Solar8000/ETCO2',\n",
              " 'Solar8000/INCO2',\n",
              " 'Solar8000/RR_CO2',\n",
              " 'Solar8000/FEO2',\n",
              " 'Solar8000/FIO2',\n",
              " 'Solar8000/VENT_INSP_TM',\n",
              " 'Solar8000/VENT_SET_TV',\n",
              " 'Solar8000/VENT_SET_PCP',\n",
              " 'EVENT']"
            ]
          },
          "metadata": {},
          "execution_count": 19
        }
      ]
    },
    {
      "cell_type": "markdown",
      "source": [
        "You can read the samples using `to_numpy()` method which will give you the same results with `vitaldb.vital_recs()`."
      ],
      "metadata": {
        "id": "PkGaO65Fdg9s"
      }
    },
    {
      "cell_type": "code",
      "source": [
        "vf.to_numpy(['ECG_II','ART'], 1/100)"
      ],
      "metadata": {
        "id": "8uWxgPWudtFZ",
        "outputId": "3d2d4020-9cbf-4172-cbad-875194a1d32f",
        "colab": {
          "base_uri": "https://localhost:8080/"
        }
      },
      "execution_count": null,
      "outputs": [
        {
          "output_type": "execute_result",
          "data": {
            "text/plain": [
              "array([[         nan,          nan],\n",
              "       [         nan,          nan],\n",
              "       [         nan,          nan],\n",
              "       ...,\n",
              "       [ -0.09797144, -20.65918   ],\n",
              "       [ -0.06834793,  32.663483  ],\n",
              "       [  0.45500422,  -4.8598633 ]], dtype=float32)"
            ]
          },
          "metadata": {},
          "execution_count": 10
        }
      ]
    },
    {
      "cell_type": "markdown",
      "source": [
        "You can get the samples as a pandas DataFrame using `to_pandas()` method."
      ],
      "metadata": {
        "id": "4aw1kKSnj-m-"
      }
    },
    {
      "cell_type": "code",
      "source": [
        "df = vf.to_pandas(['ECG_II', 'ART'], 1/100, return_datetime=True)\n",
        "df"
      ],
      "metadata": {
        "id": "vFRJZEhLkPb0",
        "outputId": "20d4d3b6-f155-425f-c26f-c5e6488ec962",
        "colab": {
          "base_uri": "https://localhost:8080/",
          "height": 424
        }
      },
      "execution_count": null,
      "outputs": [
        {
          "output_type": "execute_result",
          "data": {
            "text/plain": [
              "                                    Time    ECG_II        ART\n",
              "0              2100-01-01 00:00:00+00:00       NaN        NaN\n",
              "1       2100-01-01 00:00:00.010000+00:00       NaN        NaN\n",
              "2       2100-01-01 00:00:00.020000+00:00       NaN        NaN\n",
              "3       2100-01-01 00:00:00.030000+00:00       NaN        NaN\n",
              "4       2100-01-01 00:00:00.040000+00:00       NaN        NaN\n",
              "...                                  ...       ...        ...\n",
              "1154205 2100-01-01 03:12:22.050000+00:00 -0.413958   5.014709\n",
              "1154206 2100-01-01 03:12:22.060000+00:00  0.366133   4.027252\n",
              "1154207 2100-01-01 03:12:22.070000+00:00 -0.097971  -20.65918\n",
              "1154208 2100-01-01 03:12:22.080000+00:00 -0.068348  32.663483\n",
              "1154209 2100-01-01 03:12:22.090000+00:00  0.455004  -4.859863\n",
              "\n",
              "[1154210 rows x 3 columns]"
            ],
            "text/html": [
              "\n",
              "  <div id=\"df-fdc14cf0-a29e-4de4-8bcf-cfd8aa226912\">\n",
              "    <div class=\"colab-df-container\">\n",
              "      <div>\n",
              "<style scoped>\n",
              "    .dataframe tbody tr th:only-of-type {\n",
              "        vertical-align: middle;\n",
              "    }\n",
              "\n",
              "    .dataframe tbody tr th {\n",
              "        vertical-align: top;\n",
              "    }\n",
              "\n",
              "    .dataframe thead th {\n",
              "        text-align: right;\n",
              "    }\n",
              "</style>\n",
              "<table border=\"1\" class=\"dataframe\">\n",
              "  <thead>\n",
              "    <tr style=\"text-align: right;\">\n",
              "      <th></th>\n",
              "      <th>Time</th>\n",
              "      <th>ECG_II</th>\n",
              "      <th>ART</th>\n",
              "    </tr>\n",
              "  </thead>\n",
              "  <tbody>\n",
              "    <tr>\n",
              "      <th>0</th>\n",
              "      <td>2100-01-01 00:00:00+00:00</td>\n",
              "      <td>NaN</td>\n",
              "      <td>NaN</td>\n",
              "    </tr>\n",
              "    <tr>\n",
              "      <th>1</th>\n",
              "      <td>2100-01-01 00:00:00.010000+00:00</td>\n",
              "      <td>NaN</td>\n",
              "      <td>NaN</td>\n",
              "    </tr>\n",
              "    <tr>\n",
              "      <th>2</th>\n",
              "      <td>2100-01-01 00:00:00.020000+00:00</td>\n",
              "      <td>NaN</td>\n",
              "      <td>NaN</td>\n",
              "    </tr>\n",
              "    <tr>\n",
              "      <th>3</th>\n",
              "      <td>2100-01-01 00:00:00.030000+00:00</td>\n",
              "      <td>NaN</td>\n",
              "      <td>NaN</td>\n",
              "    </tr>\n",
              "    <tr>\n",
              "      <th>4</th>\n",
              "      <td>2100-01-01 00:00:00.040000+00:00</td>\n",
              "      <td>NaN</td>\n",
              "      <td>NaN</td>\n",
              "    </tr>\n",
              "    <tr>\n",
              "      <th>...</th>\n",
              "      <td>...</td>\n",
              "      <td>...</td>\n",
              "      <td>...</td>\n",
              "    </tr>\n",
              "    <tr>\n",
              "      <th>1154205</th>\n",
              "      <td>2100-01-01 03:12:22.050000+00:00</td>\n",
              "      <td>-0.413958</td>\n",
              "      <td>5.014709</td>\n",
              "    </tr>\n",
              "    <tr>\n",
              "      <th>1154206</th>\n",
              "      <td>2100-01-01 03:12:22.060000+00:00</td>\n",
              "      <td>0.366133</td>\n",
              "      <td>4.027252</td>\n",
              "    </tr>\n",
              "    <tr>\n",
              "      <th>1154207</th>\n",
              "      <td>2100-01-01 03:12:22.070000+00:00</td>\n",
              "      <td>-0.097971</td>\n",
              "      <td>-20.65918</td>\n",
              "    </tr>\n",
              "    <tr>\n",
              "      <th>1154208</th>\n",
              "      <td>2100-01-01 03:12:22.080000+00:00</td>\n",
              "      <td>-0.068348</td>\n",
              "      <td>32.663483</td>\n",
              "    </tr>\n",
              "    <tr>\n",
              "      <th>1154209</th>\n",
              "      <td>2100-01-01 03:12:22.090000+00:00</td>\n",
              "      <td>0.455004</td>\n",
              "      <td>-4.859863</td>\n",
              "    </tr>\n",
              "  </tbody>\n",
              "</table>\n",
              "<p>1154210 rows × 3 columns</p>\n",
              "</div>\n",
              "      <button class=\"colab-df-convert\" onclick=\"convertToInteractive('df-fdc14cf0-a29e-4de4-8bcf-cfd8aa226912')\"\n",
              "              title=\"Convert this dataframe to an interactive table.\"\n",
              "              style=\"display:none;\">\n",
              "        \n",
              "  <svg xmlns=\"http://www.w3.org/2000/svg\" height=\"24px\"viewBox=\"0 0 24 24\"\n",
              "       width=\"24px\">\n",
              "    <path d=\"M0 0h24v24H0V0z\" fill=\"none\"/>\n",
              "    <path d=\"M18.56 5.44l.94 2.06.94-2.06 2.06-.94-2.06-.94-.94-2.06-.94 2.06-2.06.94zm-11 1L8.5 8.5l.94-2.06 2.06-.94-2.06-.94L8.5 2.5l-.94 2.06-2.06.94zm10 10l.94 2.06.94-2.06 2.06-.94-2.06-.94-.94-2.06-.94 2.06-2.06.94z\"/><path d=\"M17.41 7.96l-1.37-1.37c-.4-.4-.92-.59-1.43-.59-.52 0-1.04.2-1.43.59L10.3 9.45l-7.72 7.72c-.78.78-.78 2.05 0 2.83L4 21.41c.39.39.9.59 1.41.59.51 0 1.02-.2 1.41-.59l7.78-7.78 2.81-2.81c.8-.78.8-2.07 0-2.86zM5.41 20L4 18.59l7.72-7.72 1.47 1.35L5.41 20z\"/>\n",
              "  </svg>\n",
              "      </button>\n",
              "      \n",
              "  <style>\n",
              "    .colab-df-container {\n",
              "      display:flex;\n",
              "      flex-wrap:wrap;\n",
              "      gap: 12px;\n",
              "    }\n",
              "\n",
              "    .colab-df-convert {\n",
              "      background-color: #E8F0FE;\n",
              "      border: none;\n",
              "      border-radius: 50%;\n",
              "      cursor: pointer;\n",
              "      display: none;\n",
              "      fill: #1967D2;\n",
              "      height: 32px;\n",
              "      padding: 0 0 0 0;\n",
              "      width: 32px;\n",
              "    }\n",
              "\n",
              "    .colab-df-convert:hover {\n",
              "      background-color: #E2EBFA;\n",
              "      box-shadow: 0px 1px 2px rgba(60, 64, 67, 0.3), 0px 1px 3px 1px rgba(60, 64, 67, 0.15);\n",
              "      fill: #174EA6;\n",
              "    }\n",
              "\n",
              "    [theme=dark] .colab-df-convert {\n",
              "      background-color: #3B4455;\n",
              "      fill: #D2E3FC;\n",
              "    }\n",
              "\n",
              "    [theme=dark] .colab-df-convert:hover {\n",
              "      background-color: #434B5C;\n",
              "      box-shadow: 0px 1px 3px 1px rgba(0, 0, 0, 0.15);\n",
              "      filter: drop-shadow(0px 1px 2px rgba(0, 0, 0, 0.3));\n",
              "      fill: #FFFFFF;\n",
              "    }\n",
              "  </style>\n",
              "\n",
              "      <script>\n",
              "        const buttonEl =\n",
              "          document.querySelector('#df-fdc14cf0-a29e-4de4-8bcf-cfd8aa226912 button.colab-df-convert');\n",
              "        buttonEl.style.display =\n",
              "          google.colab.kernel.accessAllowed ? 'block' : 'none';\n",
              "\n",
              "        async function convertToInteractive(key) {\n",
              "          const element = document.querySelector('#df-fdc14cf0-a29e-4de4-8bcf-cfd8aa226912');\n",
              "          const dataTable =\n",
              "            await google.colab.kernel.invokeFunction('convertToInteractive',\n",
              "                                                     [key], {});\n",
              "          if (!dataTable) return;\n",
              "\n",
              "          const docLinkHtml = 'Like what you see? Visit the ' +\n",
              "            '<a target=\"_blank\" href=https://colab.research.google.com/notebooks/data_table.ipynb>data table notebook</a>'\n",
              "            + ' to learn more about interactive tables.';\n",
              "          element.innerHTML = '';\n",
              "          dataTable['output_type'] = 'display_data';\n",
              "          await google.colab.output.renderOutput(dataTable, element);\n",
              "          const docLink = document.createElement('div');\n",
              "          docLink.innerHTML = docLinkHtml;\n",
              "          element.appendChild(docLink);\n",
              "        }\n",
              "      </script>\n",
              "    </div>\n",
              "  </div>\n",
              "  "
            ]
          },
          "metadata": {},
          "execution_count": 20
        }
      ]
    },
    {
      "cell_type": "markdown",
      "source": [
        "### Save the VitalFile object to vital file\n",
        "To save `VitalFile` object to vital file, call `to_vital()` with the file path to save."
      ],
      "metadata": {
        "id": "ogWGHQ5lfZP2"
      }
    },
    {
      "cell_type": "code",
      "source": [
        "vf.to_vital('1_copyed.vital')"
      ],
      "metadata": {
        "id": "4tLbry76e3qr",
        "outputId": "f67b123b-0373-44a7-92ed-0d3c50a5a9fb",
        "colab": {
          "base_uri": "https://localhost:8080/"
        }
      },
      "execution_count": null,
      "outputs": [
        {
          "output_type": "execute_result",
          "data": {
            "text/plain": [
              "True"
            ]
          },
          "metadata": {},
          "execution_count": 21
        }
      ]
    },
    {
      "cell_type": "markdown",
      "source": [
        "### Save the VitalFile object to csv file"
      ],
      "metadata": {
        "id": "wKlN4U3miUee"
      }
    },
    {
      "cell_type": "code",
      "source": [
        "vf.to_csv('1.csv', ['ECG_II', 'ART'], 1/100, return_datetime=True)\n",
        "\n",
        "import pandas as pd\n",
        "pd.read_csv('1.csv')"
      ],
      "metadata": {
        "id": "r9ff2be7lmG1",
        "outputId": "cde1d457-d6fe-48d1-e6da-42e963bfd524",
        "colab": {
          "base_uri": "https://localhost:8080/",
          "height": 424
        }
      },
      "execution_count": null,
      "outputs": [
        {
          "output_type": "execute_result",
          "data": {
            "text/plain": [
              "                                     Time    ECG_II        ART\n",
              "0               2100-01-01 00:00:00+00:00       NaN        NaN\n",
              "1        2100-01-01 00:00:00.010000+00:00       NaN        NaN\n",
              "2        2100-01-01 00:00:00.020000+00:00       NaN        NaN\n",
              "3        2100-01-01 00:00:00.030000+00:00       NaN        NaN\n",
              "4        2100-01-01 00:00:00.040000+00:00       NaN        NaN\n",
              "...                                   ...       ...        ...\n",
              "1154205  2100-01-01 03:12:22.050000+00:00 -0.413958   5.014709\n",
              "1154206  2100-01-01 03:12:22.060000+00:00  0.366133   4.027252\n",
              "1154207  2100-01-01 03:12:22.070000+00:00 -0.097971 -20.659180\n",
              "1154208  2100-01-01 03:12:22.080000+00:00 -0.068348  32.663483\n",
              "1154209  2100-01-01 03:12:22.090000+00:00  0.455004  -4.859863\n",
              "\n",
              "[1154210 rows x 3 columns]"
            ],
            "text/html": [
              "\n",
              "  <div id=\"df-a23ab175-b80d-49e5-a660-04c1d77da77b\">\n",
              "    <div class=\"colab-df-container\">\n",
              "      <div>\n",
              "<style scoped>\n",
              "    .dataframe tbody tr th:only-of-type {\n",
              "        vertical-align: middle;\n",
              "    }\n",
              "\n",
              "    .dataframe tbody tr th {\n",
              "        vertical-align: top;\n",
              "    }\n",
              "\n",
              "    .dataframe thead th {\n",
              "        text-align: right;\n",
              "    }\n",
              "</style>\n",
              "<table border=\"1\" class=\"dataframe\">\n",
              "  <thead>\n",
              "    <tr style=\"text-align: right;\">\n",
              "      <th></th>\n",
              "      <th>Time</th>\n",
              "      <th>ECG_II</th>\n",
              "      <th>ART</th>\n",
              "    </tr>\n",
              "  </thead>\n",
              "  <tbody>\n",
              "    <tr>\n",
              "      <th>0</th>\n",
              "      <td>2100-01-01 00:00:00+00:00</td>\n",
              "      <td>NaN</td>\n",
              "      <td>NaN</td>\n",
              "    </tr>\n",
              "    <tr>\n",
              "      <th>1</th>\n",
              "      <td>2100-01-01 00:00:00.010000+00:00</td>\n",
              "      <td>NaN</td>\n",
              "      <td>NaN</td>\n",
              "    </tr>\n",
              "    <tr>\n",
              "      <th>2</th>\n",
              "      <td>2100-01-01 00:00:00.020000+00:00</td>\n",
              "      <td>NaN</td>\n",
              "      <td>NaN</td>\n",
              "    </tr>\n",
              "    <tr>\n",
              "      <th>3</th>\n",
              "      <td>2100-01-01 00:00:00.030000+00:00</td>\n",
              "      <td>NaN</td>\n",
              "      <td>NaN</td>\n",
              "    </tr>\n",
              "    <tr>\n",
              "      <th>4</th>\n",
              "      <td>2100-01-01 00:00:00.040000+00:00</td>\n",
              "      <td>NaN</td>\n",
              "      <td>NaN</td>\n",
              "    </tr>\n",
              "    <tr>\n",
              "      <th>...</th>\n",
              "      <td>...</td>\n",
              "      <td>...</td>\n",
              "      <td>...</td>\n",
              "    </tr>\n",
              "    <tr>\n",
              "      <th>1154205</th>\n",
              "      <td>2100-01-01 03:12:22.050000+00:00</td>\n",
              "      <td>-0.413958</td>\n",
              "      <td>5.014709</td>\n",
              "    </tr>\n",
              "    <tr>\n",
              "      <th>1154206</th>\n",
              "      <td>2100-01-01 03:12:22.060000+00:00</td>\n",
              "      <td>0.366133</td>\n",
              "      <td>4.027252</td>\n",
              "    </tr>\n",
              "    <tr>\n",
              "      <th>1154207</th>\n",
              "      <td>2100-01-01 03:12:22.070000+00:00</td>\n",
              "      <td>-0.097971</td>\n",
              "      <td>-20.659180</td>\n",
              "    </tr>\n",
              "    <tr>\n",
              "      <th>1154208</th>\n",
              "      <td>2100-01-01 03:12:22.080000+00:00</td>\n",
              "      <td>-0.068348</td>\n",
              "      <td>32.663483</td>\n",
              "    </tr>\n",
              "    <tr>\n",
              "      <th>1154209</th>\n",
              "      <td>2100-01-01 03:12:22.090000+00:00</td>\n",
              "      <td>0.455004</td>\n",
              "      <td>-4.859863</td>\n",
              "    </tr>\n",
              "  </tbody>\n",
              "</table>\n",
              "<p>1154210 rows × 3 columns</p>\n",
              "</div>\n",
              "      <button class=\"colab-df-convert\" onclick=\"convertToInteractive('df-a23ab175-b80d-49e5-a660-04c1d77da77b')\"\n",
              "              title=\"Convert this dataframe to an interactive table.\"\n",
              "              style=\"display:none;\">\n",
              "        \n",
              "  <svg xmlns=\"http://www.w3.org/2000/svg\" height=\"24px\"viewBox=\"0 0 24 24\"\n",
              "       width=\"24px\">\n",
              "    <path d=\"M0 0h24v24H0V0z\" fill=\"none\"/>\n",
              "    <path d=\"M18.56 5.44l.94 2.06.94-2.06 2.06-.94-2.06-.94-.94-2.06-.94 2.06-2.06.94zm-11 1L8.5 8.5l.94-2.06 2.06-.94-2.06-.94L8.5 2.5l-.94 2.06-2.06.94zm10 10l.94 2.06.94-2.06 2.06-.94-2.06-.94-.94-2.06-.94 2.06-2.06.94z\"/><path d=\"M17.41 7.96l-1.37-1.37c-.4-.4-.92-.59-1.43-.59-.52 0-1.04.2-1.43.59L10.3 9.45l-7.72 7.72c-.78.78-.78 2.05 0 2.83L4 21.41c.39.39.9.59 1.41.59.51 0 1.02-.2 1.41-.59l7.78-7.78 2.81-2.81c.8-.78.8-2.07 0-2.86zM5.41 20L4 18.59l7.72-7.72 1.47 1.35L5.41 20z\"/>\n",
              "  </svg>\n",
              "      </button>\n",
              "      \n",
              "  <style>\n",
              "    .colab-df-container {\n",
              "      display:flex;\n",
              "      flex-wrap:wrap;\n",
              "      gap: 12px;\n",
              "    }\n",
              "\n",
              "    .colab-df-convert {\n",
              "      background-color: #E8F0FE;\n",
              "      border: none;\n",
              "      border-radius: 50%;\n",
              "      cursor: pointer;\n",
              "      display: none;\n",
              "      fill: #1967D2;\n",
              "      height: 32px;\n",
              "      padding: 0 0 0 0;\n",
              "      width: 32px;\n",
              "    }\n",
              "\n",
              "    .colab-df-convert:hover {\n",
              "      background-color: #E2EBFA;\n",
              "      box-shadow: 0px 1px 2px rgba(60, 64, 67, 0.3), 0px 1px 3px 1px rgba(60, 64, 67, 0.15);\n",
              "      fill: #174EA6;\n",
              "    }\n",
              "\n",
              "    [theme=dark] .colab-df-convert {\n",
              "      background-color: #3B4455;\n",
              "      fill: #D2E3FC;\n",
              "    }\n",
              "\n",
              "    [theme=dark] .colab-df-convert:hover {\n",
              "      background-color: #434B5C;\n",
              "      box-shadow: 0px 1px 3px 1px rgba(0, 0, 0, 0.15);\n",
              "      filter: drop-shadow(0px 1px 2px rgba(0, 0, 0, 0.3));\n",
              "      fill: #FFFFFF;\n",
              "    }\n",
              "  </style>\n",
              "\n",
              "      <script>\n",
              "        const buttonEl =\n",
              "          document.querySelector('#df-a23ab175-b80d-49e5-a660-04c1d77da77b button.colab-df-convert');\n",
              "        buttonEl.style.display =\n",
              "          google.colab.kernel.accessAllowed ? 'block' : 'none';\n",
              "\n",
              "        async function convertToInteractive(key) {\n",
              "          const element = document.querySelector('#df-a23ab175-b80d-49e5-a660-04c1d77da77b');\n",
              "          const dataTable =\n",
              "            await google.colab.kernel.invokeFunction('convertToInteractive',\n",
              "                                                     [key], {});\n",
              "          if (!dataTable) return;\n",
              "\n",
              "          const docLinkHtml = 'Like what you see? Visit the ' +\n",
              "            '<a target=\"_blank\" href=https://colab.research.google.com/notebooks/data_table.ipynb>data table notebook</a>'\n",
              "            + ' to learn more about interactive tables.';\n",
              "          element.innerHTML = '';\n",
              "          dataTable['output_type'] = 'display_data';\n",
              "          await google.colab.output.renderOutput(dataTable, element);\n",
              "          const docLink = document.createElement('div');\n",
              "          docLink.innerHTML = docLinkHtml;\n",
              "          element.appendChild(docLink);\n",
              "        }\n",
              "      </script>\n",
              "    </div>\n",
              "  </div>\n",
              "  "
            ]
          },
          "metadata": {},
          "execution_count": 26
        }
      ]
    },
    {
      "cell_type": "markdown",
      "source": [
        "### Batch extraction of specific tracks from multiple vital files\n",
        "The code below explains how to extract tracks from several vital files in the specific folder and save them with csv file format."
      ],
      "metadata": {
        "id": "TA_SAsyTggDN"
      }
    },
    {
      "cell_type": "code",
      "source": [
        "import os\n",
        "\n",
        "TRACK_NAMES = ['ECG_II', 'ART']\n",
        "for filename in os.listdir('.'):  # iterate files\n",
        "    if filename.endswith('.vital'):\n",
        "        print('converting:' + filename, end='...', flush=True)\n",
        "        vf = vitaldb.VitalFile(filename, TRACK_NAMES)  # read vital file\n",
        "        vf.to_csv(filename + '.csv.gz', TRACK_NAMES, 1/100)  # save as compressed csv\n",
        "        print('done')\n",
        "\n",
        "import pandas as pd\n",
        "pd.read_csv('1.vital.csv.gz')"
      ],
      "metadata": {
        "id": "4SgDfHe1jphi",
        "outputId": "b211a924-a23f-4a42-fbc1-9c59d72b0a0d",
        "colab": {
          "base_uri": "https://localhost:8080/",
          "height": 552
        }
      },
      "execution_count": null,
      "outputs": [
        {
          "output_type": "stream",
          "name": "stdout",
          "text": [
            "converting:1-1.vital...done\n",
            "converting:2.vital...done\n",
            "converting:3.vital...done\n",
            "converting:1.vital...done\n",
            "converting:1-2.vital...done\n",
            "converting:4.vital...done\n",
            "converting:1_copyed.vital...done\n"
          ]
        },
        {
          "output_type": "execute_result",
          "data": {
            "text/plain": [
              "           ECG_II        ART\n",
              "0             NaN        NaN\n",
              "1             NaN        NaN\n",
              "2             NaN        NaN\n",
              "3             NaN        NaN\n",
              "4             NaN        NaN\n",
              "...           ...        ...\n",
              "1154205 -0.413958   5.014710\n",
              "1154206  0.366133   4.027252\n",
              "1154207 -0.097971 -20.659180\n",
              "1154208 -0.068348  32.663483\n",
              "1154209  0.455004  -4.859863\n",
              "\n",
              "[1154210 rows x 2 columns]"
            ],
            "text/html": [
              "\n",
              "  <div id=\"df-38960a27-019e-4924-9034-4adbed0ec442\">\n",
              "    <div class=\"colab-df-container\">\n",
              "      <div>\n",
              "<style scoped>\n",
              "    .dataframe tbody tr th:only-of-type {\n",
              "        vertical-align: middle;\n",
              "    }\n",
              "\n",
              "    .dataframe tbody tr th {\n",
              "        vertical-align: top;\n",
              "    }\n",
              "\n",
              "    .dataframe thead th {\n",
              "        text-align: right;\n",
              "    }\n",
              "</style>\n",
              "<table border=\"1\" class=\"dataframe\">\n",
              "  <thead>\n",
              "    <tr style=\"text-align: right;\">\n",
              "      <th></th>\n",
              "      <th>ECG_II</th>\n",
              "      <th>ART</th>\n",
              "    </tr>\n",
              "  </thead>\n",
              "  <tbody>\n",
              "    <tr>\n",
              "      <th>0</th>\n",
              "      <td>NaN</td>\n",
              "      <td>NaN</td>\n",
              "    </tr>\n",
              "    <tr>\n",
              "      <th>1</th>\n",
              "      <td>NaN</td>\n",
              "      <td>NaN</td>\n",
              "    </tr>\n",
              "    <tr>\n",
              "      <th>2</th>\n",
              "      <td>NaN</td>\n",
              "      <td>NaN</td>\n",
              "    </tr>\n",
              "    <tr>\n",
              "      <th>3</th>\n",
              "      <td>NaN</td>\n",
              "      <td>NaN</td>\n",
              "    </tr>\n",
              "    <tr>\n",
              "      <th>4</th>\n",
              "      <td>NaN</td>\n",
              "      <td>NaN</td>\n",
              "    </tr>\n",
              "    <tr>\n",
              "      <th>...</th>\n",
              "      <td>...</td>\n",
              "      <td>...</td>\n",
              "    </tr>\n",
              "    <tr>\n",
              "      <th>1154205</th>\n",
              "      <td>-0.413958</td>\n",
              "      <td>5.014710</td>\n",
              "    </tr>\n",
              "    <tr>\n",
              "      <th>1154206</th>\n",
              "      <td>0.366133</td>\n",
              "      <td>4.027252</td>\n",
              "    </tr>\n",
              "    <tr>\n",
              "      <th>1154207</th>\n",
              "      <td>-0.097971</td>\n",
              "      <td>-20.659180</td>\n",
              "    </tr>\n",
              "    <tr>\n",
              "      <th>1154208</th>\n",
              "      <td>-0.068348</td>\n",
              "      <td>32.663483</td>\n",
              "    </tr>\n",
              "    <tr>\n",
              "      <th>1154209</th>\n",
              "      <td>0.455004</td>\n",
              "      <td>-4.859863</td>\n",
              "    </tr>\n",
              "  </tbody>\n",
              "</table>\n",
              "<p>1154210 rows × 2 columns</p>\n",
              "</div>\n",
              "      <button class=\"colab-df-convert\" onclick=\"convertToInteractive('df-38960a27-019e-4924-9034-4adbed0ec442')\"\n",
              "              title=\"Convert this dataframe to an interactive table.\"\n",
              "              style=\"display:none;\">\n",
              "        \n",
              "  <svg xmlns=\"http://www.w3.org/2000/svg\" height=\"24px\"viewBox=\"0 0 24 24\"\n",
              "       width=\"24px\">\n",
              "    <path d=\"M0 0h24v24H0V0z\" fill=\"none\"/>\n",
              "    <path d=\"M18.56 5.44l.94 2.06.94-2.06 2.06-.94-2.06-.94-.94-2.06-.94 2.06-2.06.94zm-11 1L8.5 8.5l.94-2.06 2.06-.94-2.06-.94L8.5 2.5l-.94 2.06-2.06.94zm10 10l.94 2.06.94-2.06 2.06-.94-2.06-.94-.94-2.06-.94 2.06-2.06.94z\"/><path d=\"M17.41 7.96l-1.37-1.37c-.4-.4-.92-.59-1.43-.59-.52 0-1.04.2-1.43.59L10.3 9.45l-7.72 7.72c-.78.78-.78 2.05 0 2.83L4 21.41c.39.39.9.59 1.41.59.51 0 1.02-.2 1.41-.59l7.78-7.78 2.81-2.81c.8-.78.8-2.07 0-2.86zM5.41 20L4 18.59l7.72-7.72 1.47 1.35L5.41 20z\"/>\n",
              "  </svg>\n",
              "      </button>\n",
              "      \n",
              "  <style>\n",
              "    .colab-df-container {\n",
              "      display:flex;\n",
              "      flex-wrap:wrap;\n",
              "      gap: 12px;\n",
              "    }\n",
              "\n",
              "    .colab-df-convert {\n",
              "      background-color: #E8F0FE;\n",
              "      border: none;\n",
              "      border-radius: 50%;\n",
              "      cursor: pointer;\n",
              "      display: none;\n",
              "      fill: #1967D2;\n",
              "      height: 32px;\n",
              "      padding: 0 0 0 0;\n",
              "      width: 32px;\n",
              "    }\n",
              "\n",
              "    .colab-df-convert:hover {\n",
              "      background-color: #E2EBFA;\n",
              "      box-shadow: 0px 1px 2px rgba(60, 64, 67, 0.3), 0px 1px 3px 1px rgba(60, 64, 67, 0.15);\n",
              "      fill: #174EA6;\n",
              "    }\n",
              "\n",
              "    [theme=dark] .colab-df-convert {\n",
              "      background-color: #3B4455;\n",
              "      fill: #D2E3FC;\n",
              "    }\n",
              "\n",
              "    [theme=dark] .colab-df-convert:hover {\n",
              "      background-color: #434B5C;\n",
              "      box-shadow: 0px 1px 3px 1px rgba(0, 0, 0, 0.15);\n",
              "      filter: drop-shadow(0px 1px 2px rgba(0, 0, 0, 0.3));\n",
              "      fill: #FFFFFF;\n",
              "    }\n",
              "  </style>\n",
              "\n",
              "      <script>\n",
              "        const buttonEl =\n",
              "          document.querySelector('#df-38960a27-019e-4924-9034-4adbed0ec442 button.colab-df-convert');\n",
              "        buttonEl.style.display =\n",
              "          google.colab.kernel.accessAllowed ? 'block' : 'none';\n",
              "\n",
              "        async function convertToInteractive(key) {\n",
              "          const element = document.querySelector('#df-38960a27-019e-4924-9034-4adbed0ec442');\n",
              "          const dataTable =\n",
              "            await google.colab.kernel.invokeFunction('convertToInteractive',\n",
              "                                                     [key], {});\n",
              "          if (!dataTable) return;\n",
              "\n",
              "          const docLinkHtml = 'Like what you see? Visit the ' +\n",
              "            '<a target=\"_blank\" href=https://colab.research.google.com/notebooks/data_table.ipynb>data table notebook</a>'\n",
              "            + ' to learn more about interactive tables.';\n",
              "          element.innerHTML = '';\n",
              "          dataTable['output_type'] = 'display_data';\n",
              "          await google.colab.output.renderOutput(dataTable, element);\n",
              "          const docLink = document.createElement('div');\n",
              "          docLink.innerHTML = docLinkHtml;\n",
              "          element.appendChild(docLink);\n",
              "        }\n",
              "      </script>\n",
              "    </div>\n",
              "  </div>\n",
              "  "
            ]
          },
          "metadata": {},
          "execution_count": 29
        }
      ]
    },
    {
      "cell_type": "markdown",
      "source": [
        "## Platform API\n",
        "You can login, list, and download vital files from the VitalDB platform using the `vitaldb` Platform API."
      ],
      "metadata": {
        "id": "kjTvUx8BhH0r"
      }
    },
    {
      "cell_type": "code",
      "source": [
        "# path to save downloaded files\n",
        "import os\n",
        "DOWNLOAD_DIR = \"download\"\n",
        "if not os.path.exists(DOWNLOAD_DIR):\n",
        "    os.mkdir(DOWNLOAD_DIR)\n",
        "\n",
        "if vitaldb.api.login(id=\"vitaldb_test\", pw=\"vitaldb_test\"):\n",
        "    for file in vitaldb.api.filelist(None, '2021-10-01'):\n",
        "        print(\"Downloading: \" + file['filename'], end='...', flush=True)\n",
        "        vitaldb.api.download(file['filename'], DOWNLOAD_DIR + '/' + file['filename'])\n",
        "        print('done')\n",
        "else:\n",
        "    print('login error')"
      ],
      "metadata": {
        "id": "wD7i3z3LhsVn",
        "outputId": "8c918c83-e621-4072-a226-81dc65970569",
        "colab": {
          "base_uri": "https://localhost:8080/"
        }
      },
      "execution_count": null,
      "outputs": [
        {
          "output_type": "stream",
          "name": "stdout",
          "text": [
            "Downloading: TEST1_211020_142621.vital...done\n",
            "Downloading: TEST2_211019_102621.vital...done\n",
            "Downloading: TEST2_211020_101124.vital...done\n"
          ]
        }
      ]
    },
    {
      "cell_type": "markdown",
      "source": [
        "You can read the vital file directly from the server by not specifing the file path to the `vitaldb.api.download` method."
      ],
      "metadata": {
        "id": "JG9qJHAdlQws"
      }
    },
    {
      "cell_type": "code",
      "source": [
        "vitaldb.api.login(id=\"vitaldb_test\", pw=\"vitaldb_test\")\n",
        "filename = vitaldb.api.filelist()[0]['filename']\n",
        "print(filename, end='...', flush=True)\n",
        "\n",
        "# read the vital file directly from the server (no local file will be created)\n",
        "vf = vitaldb.VitalFile(vitaldb.api.download(filename))\n",
        "print(f'{len(vf.get_track_names())} tracks')"
      ],
      "metadata": {
        "id": "iPgRJnp8leVo",
        "outputId": "416b43d2-4c91-4f96-999e-4d762a4bf94d",
        "colab": {
          "base_uri": "https://localhost:8080/"
        }
      },
      "execution_count": null,
      "outputs": [
        {
          "output_type": "stream",
          "name": "stdout",
          "text": [
            "TEST1_211020_142621.vital...79 tracks\n"
          ]
        }
      ]
    },
    {
      "cell_type": "markdown",
      "source": [
        "### Intranet server\n",
        "For the intranet server, you can pass the host name and port number to the `vitaldb.api.login` method."
      ],
      "metadata": {
        "id": "PSrSBxyTpY7_"
      }
    },
    {
      "cell_type": "code",
      "source": [
        "# the code below will only be executed at SNUH\n",
        "vitaldb.api.login(id='admin', pw='pass', host='snuh.vitaldb.net', port=80)"
      ],
      "metadata": {
        "id": "zHur5QU9jDXV"
      },
      "execution_count": null,
      "outputs": []
    },
    {
      "cell_type": "markdown",
      "source": [
        "## Open Dataset API\n",
        "VitalDB open dataset is the world largest intraoperative biosignal dataset that can be publicly accessible. You can use vitaldb open datasets with vitaldb python library."
      ],
      "metadata": {
        "id": "Oe3WAu3oem38"
      }
    },
    {
      "cell_type": "markdown",
      "source": [
        "### Find cases in the VitalDB open dataset"
      ],
      "metadata": {
        "id": "36dVA4UMYhOe"
      }
    },
    {
      "cell_type": "code",
      "source": [
        "caseids = vitaldb.find_cases(['ECG_II', 'ART'])\n",
        "len(caseids)"
      ],
      "metadata": {
        "id": "5g-6tMedY14-",
        "outputId": "e387a105-f17a-4f98-9ee1-2e23b9269374",
        "colab": {
          "base_uri": "https://localhost:8080/"
        }
      },
      "execution_count": null,
      "outputs": [
        {
          "output_type": "execute_result",
          "data": {
            "text/plain": [
              "3644"
            ]
          },
          "metadata": {},
          "execution_count": 32
        }
      ]
    },
    {
      "cell_type": "markdown",
      "source": [
        "### Read an open dataset case\n"
      ],
      "metadata": {
        "id": "bxrktnXaXPQ7"
      }
    },
    {
      "cell_type": "code",
      "source": [
        "vals = vitaldb.load_case(caseids[0], ['ECG_II','ART'], 1/100)\n",
        "print(vals)\n",
        "\n",
        "ecg = vals[:,0]\n",
        "art = vals[:,1]\n",
        "\n",
        "# plot\n",
        "import matplotlib.pyplot as plt\n",
        "plt.figure(figsize=(20,10))\n",
        "plt.subplot(211)\n",
        "plt.plot(ecg[110000:111000], color='g')\n",
        "plt.subplot(212)\n",
        "plt.plot(art[110000:111000], color='r')\n",
        "plt.show()"
      ],
      "metadata": {
        "id": "zSv9M0h7ZZuE",
        "outputId": "72d66ee8-0579-40f3-ea57-4bdffc5d0fdd",
        "colab": {
          "base_uri": "https://localhost:8080/",
          "height": 723
        }
      },
      "execution_count": null,
      "outputs": [
        {
          "output_type": "stream",
          "name": "stdout",
          "text": [
            "[[       nan        nan]\n",
            " [       nan        nan]\n",
            " [       nan        nan]\n",
            " ...\n",
            " [  0.148893 -32.5087  ]\n",
            " [ -0.325087  19.8266  ]\n",
            " [       nan        nan]]\n"
          ]
        },
        {
          "output_type": "display_data",
          "data": {
            "text/plain": [
              "<Figure size 1440x720 with 2 Axes>"
            ],
            "image/png": "[encoded data removed]"
          },
          "metadata": {
            "needs_background": "light"
          }
        }
      ]
    },
    {
      "cell_type": "markdown",
      "source": [
        "Same as `load_case` in the functional API, you can download the tracks from the VitalDB open dataset."
      ],
      "metadata": {
        "id": "2ETIrPMJb4DQ"
      }
    },
    {
      "cell_type": "code",
      "source": [
        "vf = vitaldb.VitalFile(1, ['ECG_II', 'ART'])  # load the first case from open dataset\n",
        "print(f'{len(vf.get_track_names())} tracks')"
      ],
      "metadata": {
        "id": "czvq-HfaaXRa",
        "outputId": "5b4b2b74-e1d8-40f5-aeb3-b225207d04f2",
        "colab": {
          "base_uri": "https://localhost:8080/"
        }
      },
      "execution_count": null,
      "outputs": [
        {
          "output_type": "stream",
          "name": "stdout",
          "text": [
            "2 tracks\n"
          ]
        }
      ]
    },
    {
      "cell_type": "markdown",
      "source": [
        "With the code below, you can download the first 5 cases that have 'Primus/AWP' track in the open dataset."
      ],
      "metadata": {
        "id": "FvWQq9yAc7QN"
      }
    },
    {
      "cell_type": "code",
      "source": [
        "track_names = ['AWP']\n",
        "for caseid in vitaldb.find_cases(track_names)[:5]:\n",
        "    vf = vitaldb.VitalFile(caseid, track_names)\n",
        "    vf.to_vital(f'awp{caseid}.vital')"
      ],
      "metadata": {
        "id": "aOACz9m-caOL"
      },
      "execution_count": null,
      "outputs": []
    }
  ]
}