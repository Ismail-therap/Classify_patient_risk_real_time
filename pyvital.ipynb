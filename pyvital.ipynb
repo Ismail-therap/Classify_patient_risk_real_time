{
  "nbformat": 4,
  "nbformat_minor": 0,
  "metadata": {
    "colab": {
      "name": "pyvital.ipynb",
      "provenance": [],
      "toc_visible": true,
      "authorship_tag": "ABX9TyNIMjj20aoSZi6mmrnV9dly",
      "include_colab_link": true
    },
    "kernelspec": {
      "name": "python3",
      "display_name": "Python 3"
    }
  },
  "cells": [
    {
      "cell_type": "markdown",
      "metadata": {
        "id": "view-in-github",
        "colab_type": "text"
      },
      "source": [
        "<a href=\"https://colab.research.google.com/github/vitaldb/examples/blob/master/pyvital.ipynb\" target=\"_parent\"><img src=\"https://colab.research.google.com/assets/colab-badge.svg\" alt=\"Open In Colab\"/></a>"
      ]
    },
    {
      "cell_type": "markdown",
      "metadata": {
        "id": "X2COxMJNUxIh"
      },
      "source": [
        "# Pyvital\n",
        "In this example, we will learn how to handle Vital files derived from VitalRecorder using Python programming language."
      ]
    },
    {
      "cell_type": "markdown",
      "metadata": {
        "id": "0pAlf-93XLo9"
      },
      "source": [
        "## Preparation"
      ]
    },
    {
      "cell_type": "markdown",
      "source": [
        "###Download sample vital files\n",
        "Download sample vital files from vitaldb using the command below."
      ],
      "metadata": {
        "id": "hI2a3YxAfzME"
      }
    },
    {
      "cell_type": "code",
      "metadata": {
        "id": "jK_-H6WtUz_9",
        "colab": {
          "base_uri": "https://localhost:8080/"
        },
        "outputId": "f88d782e-6ec7-45b9-8dcd-18b4661230d5"
      },
      "source": [
        "!wget https://vitaldb.net/samples.zip\n",
        "!unzip samples.zip"
      ],
      "execution_count": null,
      "outputs": [
        {
          "output_type": "stream",
          "name": "stdout",
          "text": [
            "--2022-06-25 19:59:13--  https://vitaldb.net/samples.zip\n",
            "Resolving vitaldb.net (vitaldb.net)... 15.197.255.47\n",
            "Connecting to vitaldb.net (vitaldb.net)|15.197.255.47|:443... connected.\n",
            "HTTP request sent, awaiting response... 200 OK\n",
            "Length: 137243688 (131M) [application/zip]\n",
            "Saving to: ‘samples.zip’\n",
            "\n",
            "samples.zip         100%[===================>] 130.89M  69.2MB/s    in 1.9s    \n",
            "\n",
            "2022-06-25 19:59:16 (69.2 MB/s) - ‘samples.zip’ saved [137243688/137243688]\n",
            "\n",
            "Archive:  samples.zip\n",
            "  inflating: 1-1.vital               \n",
            "  inflating: 1-2.vital               \n",
            "  inflating: 1.vital                 \n",
            "  inflating: 2.vital                 \n",
            "  inflating: 3.vital                 \n",
            "  inflating: 4.vital                 \n",
            "  inflating: 5.vital                 \n"
          ]
        }
      ]
    },
    {
      "cell_type": "markdown",
      "metadata": {
        "id": "Yz6rZEtHVQwG"
      },
      "source": [
        "### Download 'vitaldb' library\n",
        "Intall `vitaldb` library in order to read Vital files."
      ]
    },
    {
      "cell_type": "code",
      "metadata": {
        "id": "t88MHi_hcHAT",
        "colab": {
          "base_uri": "https://localhost:8080/"
        },
        "outputId": "c29afb1b-db68-4541-a754-113a8def0a57"
      },
      "source": [
        "!pip install vitaldb"
      ],
      "execution_count": null,
      "outputs": [
        {
          "output_type": "stream",
          "name": "stdout",
          "text": [
            "Looking in indexes: https://pypi.org/simple, https://us-python.pkg.dev/colab-wheels/public/simple/\n",
            "Requirement already satisfied: vitaldb in /usr/local/lib/python3.7/dist-packages (0.1.20)\n",
            "Requirement already satisfied: s3fs in /usr/local/lib/python3.7/dist-packages (from vitaldb) (2022.5.0)\n",
            "Requirement already satisfied: pandas in /usr/local/lib/python3.7/dist-packages (from vitaldb) (1.3.5)\n",
            "Requirement already satisfied: requests in /usr/local/lib/python3.7/dist-packages (from vitaldb) (2.23.0)\n",
            "Requirement already satisfied: pyarrow in /usr/local/lib/python3.7/dist-packages (from vitaldb) (6.0.1)\n",
            "Requirement already satisfied: numpy in /usr/local/lib/python3.7/dist-packages (from vitaldb) (1.21.6)\n",
            "Requirement already satisfied: python-dateutil>=2.7.3 in /usr/local/lib/python3.7/dist-packages (from pandas->vitaldb) (2.8.2)\n",
            "Requirement already satisfied: pytz>=2017.3 in /usr/local/lib/python3.7/dist-packages (from pandas->vitaldb) (2022.1)\n",
            "Requirement already satisfied: six>=1.5 in /usr/local/lib/python3.7/dist-packages (from python-dateutil>=2.7.3->pandas->vitaldb) (1.15.0)\n",
            "Requirement already satisfied: idna<3,>=2.5 in /usr/local/lib/python3.7/dist-packages (from requests->vitaldb) (2.10)\n",
            "Requirement already satisfied: certifi>=2017.4.17 in /usr/local/lib/python3.7/dist-packages (from requests->vitaldb) (2022.6.15)\n",
            "Requirement already satisfied: chardet<4,>=3.0.2 in /usr/local/lib/python3.7/dist-packages (from requests->vitaldb) (3.0.4)\n",
            "Requirement already satisfied: urllib3!=1.25.0,!=1.25.1,<1.26,>=1.21.1 in /usr/local/lib/python3.7/dist-packages (from requests->vitaldb) (1.25.11)\n",
            "Requirement already satisfied: aiohttp<=4 in /usr/local/lib/python3.7/dist-packages (from s3fs->vitaldb) (3.8.1)\n",
            "Requirement already satisfied: fsspec==2022.5.0 in /usr/local/lib/python3.7/dist-packages (from s3fs->vitaldb) (2022.5.0)\n",
            "Requirement already satisfied: aiobotocore~=2.3.0 in /usr/local/lib/python3.7/dist-packages (from s3fs->vitaldb) (2.3.3)\n",
            "Requirement already satisfied: wrapt>=1.10.10 in /usr/local/lib/python3.7/dist-packages (from aiobotocore~=2.3.0->s3fs->vitaldb) (1.14.1)\n",
            "Requirement already satisfied: aioitertools>=0.5.1 in /usr/local/lib/python3.7/dist-packages (from aiobotocore~=2.3.0->s3fs->vitaldb) (0.10.0)\n",
            "Requirement already satisfied: botocore<1.24.22,>=1.24.21 in /usr/local/lib/python3.7/dist-packages (from aiobotocore~=2.3.0->s3fs->vitaldb) (1.24.21)\n",
            "Requirement already satisfied: attrs>=17.3.0 in /usr/local/lib/python3.7/dist-packages (from aiohttp<=4->s3fs->vitaldb) (21.4.0)\n",
            "Requirement already satisfied: yarl<2.0,>=1.0 in /usr/local/lib/python3.7/dist-packages (from aiohttp<=4->s3fs->vitaldb) (1.7.2)\n",
            "Requirement already satisfied: asynctest==0.13.0 in /usr/local/lib/python3.7/dist-packages (from aiohttp<=4->s3fs->vitaldb) (0.13.0)\n",
            "Requirement already satisfied: typing-extensions>=3.7.4 in /usr/local/lib/python3.7/dist-packages (from aiohttp<=4->s3fs->vitaldb) (4.1.1)\n",
            "Requirement already satisfied: multidict<7.0,>=4.5 in /usr/local/lib/python3.7/dist-packages (from aiohttp<=4->s3fs->vitaldb) (6.0.2)\n",
            "Requirement already satisfied: charset-normalizer<3.0,>=2.0 in /usr/local/lib/python3.7/dist-packages (from aiohttp<=4->s3fs->vitaldb) (2.0.12)\n",
            "Requirement already satisfied: frozenlist>=1.1.1 in /usr/local/lib/python3.7/dist-packages (from aiohttp<=4->s3fs->vitaldb) (1.3.0)\n",
            "Requirement already satisfied: async-timeout<5.0,>=4.0.0a3 in /usr/local/lib/python3.7/dist-packages (from aiohttp<=4->s3fs->vitaldb) (4.0.2)\n",
            "Requirement already satisfied: aiosignal>=1.1.2 in /usr/local/lib/python3.7/dist-packages (from aiohttp<=4->s3fs->vitaldb) (1.2.0)\n",
            "Requirement already satisfied: jmespath<2.0.0,>=0.7.1 in /usr/local/lib/python3.7/dist-packages (from botocore<1.24.22,>=1.24.21->aiobotocore~=2.3.0->s3fs->vitaldb) (1.0.1)\n"
          ]
        }
      ]
    },
    {
      "cell_type": "markdown",
      "metadata": {
        "id": "eYpeIKUmelcZ"
      },
      "source": [
        "import `vitaldb` library to read vital file."
      ]
    },
    {
      "cell_type": "code",
      "metadata": {
        "id": "coK6GckfcSkq"
      },
      "source": [
        "import vitaldb"
      ],
      "execution_count": null,
      "outputs": []
    },
    {
      "cell_type": "markdown",
      "source": [
        "## Functional API\n",
        "The functional API provides easy functions for reading a track list (`vital_trks`) and contents (`vital_recs`) from vital file."
      ],
      "metadata": {
        "id": "EmgInduClfAR"
      }
    },
    {
      "cell_type": "markdown",
      "metadata": {
        "id": "IVniWCJAU7Wj"
      },
      "source": [
        "###Read a track list from vital file\n",
        "You can read a track list from vital file using `vital_trks` function."
      ]
    },
    {
      "cell_type": "code",
      "metadata": {
        "id": "oh_54t5FZkYM",
        "colab": {
          "base_uri": "https://localhost:8080/"
        },
        "outputId": "088e3603-33cc-4dfd-9465-463960f97d8c"
      },
      "source": [
        "trks = vitaldb.vital_trks('00001.vital')\n",
        "trks"
      ],
      "execution_count": null,
      "outputs": [
        {
          "output_type": "execute_result",
          "data": {
            "text/plain": [
              "['/EVENT',\n",
              " 'SNUADC/ART',\n",
              " 'SNUADC/ECG_II',\n",
              " 'SNUADC/ECG_V5',\n",
              " 'SNUADC/PLETH',\n",
              " 'Solar 8000M/HR',\n",
              " 'Solar 8000M/ST_I',\n",
              " 'Solar 8000M/ST_II',\n",
              " 'Solar 8000M/ST_III',\n",
              " 'Solar 8000M/ST_AVL',\n",
              " 'Solar 8000M/ST_AVR',\n",
              " 'Solar 8000M/ST_AVF',\n",
              " 'Solar 8000M/ART_MBP',\n",
              " 'Solar 8000M/ART_SBP',\n",
              " 'Solar 8000M/ART_DBP',\n",
              " 'Solar 8000M/PLETH_SPO2',\n",
              " 'Solar 8000M/PLETH_HR',\n",
              " 'Solar 8000M/BT',\n",
              " 'Solar 8000M/VENT_MAWP',\n",
              " 'Solar 8000M/ST_V5',\n",
              " 'Solar 8000M/NIBP_MBP',\n",
              " 'Solar 8000M/NIBP_SBP',\n",
              " 'Solar 8000M/NIBP_DBP',\n",
              " 'Solar 8000M/VENT_PIP',\n",
              " 'Solar 8000M/VENT_RR',\n",
              " 'Solar 8000M/VENT_MV',\n",
              " 'Solar 8000M/VENT_TV',\n",
              " 'Solar 8000M/VENT_PPLAT',\n",
              " 'Solar 8000M/GAS2_AGENT',\n",
              " 'Solar 8000M/GAS2_EXPIRED',\n",
              " 'Solar 8000M/GAS2_INSPIRED',\n",
              " 'Solar 8000M/ETCO2',\n",
              " 'Solar 8000M/INCO2',\n",
              " 'Solar 8000M/RR_CO2',\n",
              " 'Solar 8000M/FEO2',\n",
              " 'Solar 8000M/FIO2',\n",
              " 'Solar 8000M/VENT_INSP_TM',\n",
              " 'Solar 8000M/VENT_SET_TV',\n",
              " 'Solar 8000M/VENT_SET_PCP',\n",
              " 'Primus/CO2',\n",
              " 'Primus/AWP',\n",
              " 'Primus/INSP_SEVO',\n",
              " 'Primus/EXP_SEVO',\n",
              " 'Primus/PAMB_MBAR',\n",
              " 'Primus/MAWP_MBAR',\n",
              " 'Primus/MAC',\n",
              " 'Primus/VENT_LEAK',\n",
              " 'Primus/INCO2_PERCENT',\n",
              " 'Primus/ETCO2_PERCENT',\n",
              " 'Primus/ETCO2_KPA',\n",
              " 'Primus/INCO2',\n",
              " 'Primus/ETCO2',\n",
              " 'Primus/FEO2',\n",
              " 'Primus/FIO2',\n",
              " 'Primus/FIN2O',\n",
              " 'Primus/FEN2O',\n",
              " 'Primus/INCO2_KPA',\n",
              " 'Primus/SET_FIO2',\n",
              " 'Primus/SET_FRESH_FLOW',\n",
              " 'Primus/SET_AGE',\n",
              " 'Primus/PIP_MBAR',\n",
              " 'Primus/COMPLIANCE',\n",
              " 'Primus/PPLAT_MBAR',\n",
              " 'Primus/PEEP_MBAR',\n",
              " 'Primus/TV',\n",
              " 'Primus/MV',\n",
              " 'Primus/RR_VF',\n",
              " 'Primus/RR_CO2',\n",
              " 'Primus/SET_TV_L',\n",
              " 'Primus/SET_INSP_TM',\n",
              " 'Primus/SET_RR_IPPV',\n",
              " 'Primus/SET_INTER_PEEP',\n",
              " 'Primus/SET_PIP',\n",
              " 'Primus/SET_INSP_PAUSE',\n",
              " 'Primus/INSP_DES',\n",
              " 'Primus/EXP_DES',\n",
              " 'BIS/EEG1_WAV',\n",
              " 'BIS/EEG2_WAV',\n",
              " 'BIS/BIS',\n",
              " 'BIS/SQI',\n",
              " 'BIS/EMG',\n",
              " 'BIS/SR',\n",
              " 'BIS/SEF',\n",
              " 'BIS/TOTPOW']"
            ]
          },
          "metadata": {},
          "execution_count": 6
        }
      ]
    },
    {
      "cell_type": "markdown",
      "metadata": {
        "id": "XARQ3Zs1WVE7"
      },
      "source": [
        "### Read a content of vital file\n",
        "You can read a content of vital file using `vital_recs` function."
      ]
    },
    {
      "cell_type": "code",
      "metadata": {
        "id": "qsQ-vSMpUjp5",
        "colab": {
          "base_uri": "https://localhost:8080/"
        },
        "outputId": "d1588017-762a-4b81-a0a4-8d5563f4a8c6"
      },
      "source": [
        "vals = vitaldb.vital_recs('00001.vital', ['ECG_II','ART'], 1/100)\n",
        "vals"
      ],
      "execution_count": null,
      "outputs": [
        {
          "output_type": "execute_result",
          "data": {
            "text/plain": [
              "array([[         nan,          nan],\n",
              "       [         nan,          nan],\n",
              "       [         nan,          nan],\n",
              "       ...,\n",
              "       [ -0.09797144, -20.65918   ],\n",
              "       [ -0.06834793,  32.663483  ],\n",
              "       [  0.45500422,  -4.8598633 ]], dtype=float32)"
            ]
          },
          "metadata": {},
          "execution_count": 7
        }
      ]
    },
    {
      "cell_type": "code",
      "metadata": {
        "id": "OXpRzZG7hR4U",
        "colab": {
          "base_uri": "https://localhost:8080/",
          "height": 320
        },
        "outputId": "4976835e-5d57-4259-9712-90f76bb6097d"
      },
      "source": [
        "import matplotlib.pyplot as plt\n",
        "\n",
        "# plot a waveform for ECG_II\n",
        "ecg = vals[:,0]\n",
        "plt.figure(figsize=(20,5))\n",
        "plt.plot(ecg[110000:111000], color='g')\n",
        "plt.show()"
      ],
      "execution_count": null,
      "outputs": [
        {
          "output_type": "display_data",
          "data": {
            "text/plain": [
              "<Figure size 1440x360 with 1 Axes>"
            ],
            "image/png": "[encoded data removed]"
          },
          "metadata": {
            "needs_background": "light"
          }
        }
      ]
    },
    {
      "cell_type": "code",
      "metadata": {
        "id": "aVbPASEvhgGN",
        "colab": {
          "base_uri": "https://localhost:8080/",
          "height": 323
        },
        "outputId": "8728d826-9ff1-4fab-89ee-826dbf772462"
      },
      "source": [
        "# Plot a waveform for ART\n",
        "art = vals[:,1]\n",
        "plt.figure(figsize=(20,5))\n",
        "plt.plot(art[110000:111000], color='r')\n",
        "plt.show()"
      ],
      "execution_count": null,
      "outputs": [
        {
          "output_type": "display_data",
          "data": {
            "text/plain": [
              "<Figure size 1440x360 with 1 Axes>"
            ],
            "image/png": "[encoded data removed]"
          },
          "metadata": {
            "needs_background": "light"
          }
        }
      ]
    },
    {
      "cell_type": "markdown",
      "source": [
        "## Object-oriented API\n",
        "The object-oriented API provides an object called `VitalFile` which can read, crop, write, and convert vital file."
      ],
      "metadata": {
        "id": "A19pJeffl_X-"
      }
    },
    {
      "cell_type": "markdown",
      "source": [
        "### Create VitalFile object\n",
        "You can create `VitalFile` object by opening one / list of local / online vital file(s)."
      ],
      "metadata": {
        "id": "UwgzMGYvXyIZ"
      }
    },
    {
      "cell_type": "code",
      "source": [
        "vf = vitaldb.VitalFile('1.vital')"
      ],
      "metadata": {
        "id": "9-769iObcIms"
      },
      "execution_count": null,
      "outputs": []
    },
    {
      "cell_type": "markdown",
      "source": [
        "### Read information from the VitalFile object"
      ],
      "metadata": {
        "id": "GjPFDoI9fM4D"
      }
    },
    {
      "cell_type": "markdown",
      "source": [
        "All information such as track list and measured samples are in the `vf` object. For example, you can get a list of track names using the `vf.get_track_names()` method or `vf.trks.keys()`."
      ],
      "metadata": {
        "id": "3NH19cpsdB8w"
      }
    },
    {
      "cell_type": "code",
      "source": [
        "vf.get_track_names()"
      ],
      "metadata": {
        "id": "5EVoYx14dBCP",
        "outputId": "53b50448-ba2e-4683-a127-559777b3cb9d",
        "colab": {
          "base_uri": "https://localhost:8080/"
        }
      },
      "execution_count": null,
      "outputs": [
        {
          "output_type": "execute_result",
          "data": {
            "text/plain": [
              "['EVENT',\n",
              " 'SNUADC/ART',\n",
              " 'SNUADC/ECG_II',\n",
              " 'SNUADC/ECG_V5',\n",
              " 'SNUADC/PLETH',\n",
              " 'Solar 8000M/HR',\n",
              " 'Solar 8000M/ST_I',\n",
              " 'Solar 8000M/ST_II',\n",
              " 'Solar 8000M/ST_III',\n",
              " 'Solar 8000M/ST_AVL',\n",
              " 'Solar 8000M/ST_AVR',\n",
              " 'Solar 8000M/ST_AVF',\n",
              " 'Solar 8000M/ART_MBP',\n",
              " 'Solar 8000M/ART_SBP',\n",
              " 'Solar 8000M/ART_DBP',\n",
              " 'Solar 8000M/PLETH_SPO2',\n",
              " 'Solar 8000M/PLETH_HR',\n",
              " 'Solar 8000M/BT',\n",
              " 'Solar 8000M/VENT_MAWP',\n",
              " 'Solar 8000M/ST_V5',\n",
              " 'Solar 8000M/NIBP_MBP',\n",
              " 'Solar 8000M/NIBP_SBP',\n",
              " 'Solar 8000M/NIBP_DBP',\n",
              " 'Solar 8000M/VENT_PIP',\n",
              " 'Solar 8000M/VENT_RR',\n",
              " 'Solar 8000M/VENT_MV',\n",
              " 'Solar 8000M/VENT_TV',\n",
              " 'Solar 8000M/VENT_PPLAT',\n",
              " 'Solar 8000M/GAS2_AGENT',\n",
              " 'Solar 8000M/GAS2_EXPIRED',\n",
              " 'Solar 8000M/GAS2_INSPIRED',\n",
              " 'Solar 8000M/ETCO2',\n",
              " 'Solar 8000M/INCO2',\n",
              " 'Solar 8000M/RR_CO2',\n",
              " 'Solar 8000M/FEO2',\n",
              " 'Solar 8000M/FIO2',\n",
              " 'Solar 8000M/VENT_INSP_TM',\n",
              " 'Solar 8000M/VENT_SET_TV',\n",
              " 'Solar 8000M/VENT_SET_PCP',\n",
              " 'Primus/CO2',\n",
              " 'Primus/AWP',\n",
              " 'Primus/INSP_SEVO',\n",
              " 'Primus/EXP_SEVO',\n",
              " 'Primus/PAMB_MBAR',\n",
              " 'Primus/MAWP_MBAR',\n",
              " 'Primus/MAC',\n",
              " 'Primus/VENT_LEAK',\n",
              " 'Primus/INCO2_PERCENT',\n",
              " 'Primus/ETCO2_PERCENT',\n",
              " 'Primus/ETCO2_KPA',\n",
              " 'Primus/INCO2',\n",
              " 'Primus/ETCO2',\n",
              " 'Primus/FEO2',\n",
              " 'Primus/FIO2',\n",
              " 'Primus/FIN2O',\n",
              " 'Primus/FEN2O',\n",
              " 'Primus/INCO2_KPA',\n",
              " 'Primus/SET_FIO2',\n",
              " 'Primus/SET_FRESH_FLOW',\n",
              " 'Primus/SET_AGE',\n",
              " 'Primus/PIP_MBAR',\n",
              " 'Primus/COMPLIANCE',\n",
              " 'Primus/PPLAT_MBAR',\n",
              " 'Primus/PEEP_MBAR',\n",
              " 'Primus/TV',\n",
              " 'Primus/MV',\n",
              " 'Primus/RR_VF',\n",
              " 'Primus/RR_CO2',\n",
              " 'Primus/SET_TV_L',\n",
              " 'Primus/SET_INSP_TM',\n",
              " 'Primus/SET_RR_IPPV',\n",
              " 'Primus/SET_INTER_PEEP',\n",
              " 'Primus/SET_PIP',\n",
              " 'Primus/SET_INSP_PAUSE',\n",
              " 'Primus/INSP_DES',\n",
              " 'Primus/EXP_DES',\n",
              " 'BIS/EEG1_WAV',\n",
              " 'BIS/EEG2_WAV',\n",
              " 'BIS/BIS',\n",
              " 'BIS/SQI',\n",
              " 'BIS/EMG',\n",
              " 'BIS/SR',\n",
              " 'BIS/SEF',\n",
              " 'BIS/TOTPOW']"
            ]
          },
          "metadata": {},
          "execution_count": 9
        }
      ]
    },
    {
      "cell_type": "markdown",
      "source": [
        "You can read the samples using `to_numpy()` method which will give you the same results with `vitaldb.vital_recs()`."
      ],
      "metadata": {
        "id": "PkGaO65Fdg9s"
      }
    },
    {
      "cell_type": "code",
      "source": [
        "vf.to_numpy(['ECG_II','ART'], 1/100)"
      ],
      "metadata": {
        "id": "8uWxgPWudtFZ",
        "outputId": "1159ca17-ce82-4f0b-89f7-dccbdd9498bc",
        "colab": {
          "base_uri": "https://localhost:8080/"
        }
      },
      "execution_count": null,
      "outputs": [
        {
          "output_type": "execute_result",
          "data": {
            "text/plain": [
              "array([[         nan,          nan],\n",
              "       [         nan,          nan],\n",
              "       [         nan,          nan],\n",
              "       ...,\n",
              "       [ -0.09797144, -20.65918   ],\n",
              "       [ -0.06834793,  32.663483  ],\n",
              "       [  0.45500422,  -4.8598633 ]], dtype=float32)"
            ]
          },
          "metadata": {},
          "execution_count": 10
        }
      ]
    },
    {
      "cell_type": "markdown",
      "source": [
        "You can even convert the tracks to the pandas DataFrame with `to_pandas()` method."
      ],
      "metadata": {
        "id": "4aw1kKSnj-m-"
      }
    },
    {
      "cell_type": "code",
      "source": [
        "df = vf.to_pandas(['ECG_II', 'ART'], 1/100)\n",
        "df.to_csv('1.csv', index=False, encoding='utf-8-sig')\n",
        "df"
      ],
      "metadata": {
        "id": "vFRJZEhLkPb0",
        "outputId": "a95e00a5-c369-42fd-cedf-8e16ca67025f",
        "colab": {
          "base_uri": "https://localhost:8080/",
          "height": 424
        }
      },
      "execution_count": null,
      "outputs": [
        {
          "output_type": "execute_result",
          "data": {
            "text/plain": [
              "           ECG_II        ART\n",
              "0             NaN        NaN\n",
              "1             NaN        NaN\n",
              "2             NaN        NaN\n",
              "3             NaN        NaN\n",
              "4             NaN        NaN\n",
              "...           ...        ...\n",
              "1154205 -0.413958   5.014709\n",
              "1154206  0.366133   4.027252\n",
              "1154207 -0.097971 -20.659180\n",
              "1154208 -0.068348  32.663483\n",
              "1154209  0.455004  -4.859863\n",
              "\n",
              "[1154210 rows x 2 columns]"
            ],
            "text/html": [
              "\n",
              "  <div id=\"df-499aa5f3-f328-4fd4-8dbd-9f45de5a03b2\">\n",
              "    <div class=\"colab-df-container\">\n",
              "      <div>\n",
              "<style scoped>\n",
              "    .dataframe tbody tr th:only-of-type {\n",
              "        vertical-align: middle;\n",
              "    }\n",
              "\n",
              "    .dataframe tbody tr th {\n",
              "        vertical-align: top;\n",
              "    }\n",
              "\n",
              "    .dataframe thead th {\n",
              "        text-align: right;\n",
              "    }\n",
              "</style>\n",
              "<table border=\"1\" class=\"dataframe\">\n",
              "  <thead>\n",
              "    <tr style=\"text-align: right;\">\n",
              "      <th></th>\n",
              "      <th>ECG_II</th>\n",
              "      <th>ART</th>\n",
              "    </tr>\n",
              "  </thead>\n",
              "  <tbody>\n",
              "    <tr>\n",
              "      <th>0</th>\n",
              "      <td>NaN</td>\n",
              "      <td>NaN</td>\n",
              "    </tr>\n",
              "    <tr>\n",
              "      <th>1</th>\n",
              "      <td>NaN</td>\n",
              "      <td>NaN</td>\n",
              "    </tr>\n",
              "    <tr>\n",
              "      <th>2</th>\n",
              "      <td>NaN</td>\n",
              "      <td>NaN</td>\n",
              "    </tr>\n",
              "    <tr>\n",
              "      <th>3</th>\n",
              "      <td>NaN</td>\n",
              "      <td>NaN</td>\n",
              "    </tr>\n",
              "    <tr>\n",
              "      <th>4</th>\n",
              "      <td>NaN</td>\n",
              "      <td>NaN</td>\n",
              "    </tr>\n",
              "    <tr>\n",
              "      <th>...</th>\n",
              "      <td>...</td>\n",
              "      <td>...</td>\n",
              "    </tr>\n",
              "    <tr>\n",
              "      <th>1154205</th>\n",
              "      <td>-0.413958</td>\n",
              "      <td>5.014709</td>\n",
              "    </tr>\n",
              "    <tr>\n",
              "      <th>1154206</th>\n",
              "      <td>0.366133</td>\n",
              "      <td>4.027252</td>\n",
              "    </tr>\n",
              "    <tr>\n",
              "      <th>1154207</th>\n",
              "      <td>-0.097971</td>\n",
              "      <td>-20.659180</td>\n",
              "    </tr>\n",
              "    <tr>\n",
              "      <th>1154208</th>\n",
              "      <td>-0.068348</td>\n",
              "      <td>32.663483</td>\n",
              "    </tr>\n",
              "    <tr>\n",
              "      <th>1154209</th>\n",
              "      <td>0.455004</td>\n",
              "      <td>-4.859863</td>\n",
              "    </tr>\n",
              "  </tbody>\n",
              "</table>\n",
              "<p>1154210 rows × 2 columns</p>\n",
              "</div>\n",
              "      <button class=\"colab-df-convert\" onclick=\"convertToInteractive('df-499aa5f3-f328-4fd4-8dbd-9f45de5a03b2')\"\n",
              "              title=\"Convert this dataframe to an interactive table.\"\n",
              "              style=\"display:none;\">\n",
              "        \n",
              "  <svg xmlns=\"http://www.w3.org/2000/svg\" height=\"24px\"viewBox=\"0 0 24 24\"\n",
              "       width=\"24px\">\n",
              "    <path d=\"M0 0h24v24H0V0z\" fill=\"none\"/>\n",
              "    <path d=\"M18.56 5.44l.94 2.06.94-2.06 2.06-.94-2.06-.94-.94-2.06-.94 2.06-2.06.94zm-11 1L8.5 8.5l.94-2.06 2.06-.94-2.06-.94L8.5 2.5l-.94 2.06-2.06.94zm10 10l.94 2.06.94-2.06 2.06-.94-2.06-.94-.94-2.06-.94 2.06-2.06.94z\"/><path d=\"M17.41 7.96l-1.37-1.37c-.4-.4-.92-.59-1.43-.59-.52 0-1.04.2-1.43.59L10.3 9.45l-7.72 7.72c-.78.78-.78 2.05 0 2.83L4 21.41c.39.39.9.59 1.41.59.51 0 1.02-.2 1.41-.59l7.78-7.78 2.81-2.81c.8-.78.8-2.07 0-2.86zM5.41 20L4 18.59l7.72-7.72 1.47 1.35L5.41 20z\"/>\n",
              "  </svg>\n",
              "      </button>\n",
              "      \n",
              "  <style>\n",
              "    .colab-df-container {\n",
              "      display:flex;\n",
              "      flex-wrap:wrap;\n",
              "      gap: 12px;\n",
              "    }\n",
              "\n",
              "    .colab-df-convert {\n",
              "      background-color: #E8F0FE;\n",
              "      border: none;\n",
              "      border-radius: 50%;\n",
              "      cursor: pointer;\n",
              "      display: none;\n",
              "      fill: #1967D2;\n",
              "      height: 32px;\n",
              "      padding: 0 0 0 0;\n",
              "      width: 32px;\n",
              "    }\n",
              "\n",
              "    .colab-df-convert:hover {\n",
              "      background-color: #E2EBFA;\n",
              "      box-shadow: 0px 1px 2px rgba(60, 64, 67, 0.3), 0px 1px 3px 1px rgba(60, 64, 67, 0.15);\n",
              "      fill: #174EA6;\n",
              "    }\n",
              "\n",
              "    [theme=dark] .colab-df-convert {\n",
              "      background-color: #3B4455;\n",
              "      fill: #D2E3FC;\n",
              "    }\n",
              "\n",
              "    [theme=dark] .colab-df-convert:hover {\n",
              "      background-color: #434B5C;\n",
              "      box-shadow: 0px 1px 3px 1px rgba(0, 0, 0, 0.15);\n",
              "      filter: drop-shadow(0px 1px 2px rgba(0, 0, 0, 0.3));\n",
              "      fill: #FFFFFF;\n",
              "    }\n",
              "  </style>\n",
              "\n",
              "      <script>\n",
              "        const buttonEl =\n",
              "          document.querySelector('#df-499aa5f3-f328-4fd4-8dbd-9f45de5a03b2 button.colab-df-convert');\n",
              "        buttonEl.style.display =\n",
              "          google.colab.kernel.accessAllowed ? 'block' : 'none';\n",
              "\n",
              "        async function convertToInteractive(key) {\n",
              "          const element = document.querySelector('#df-499aa5f3-f328-4fd4-8dbd-9f45de5a03b2');\n",
              "          const dataTable =\n",
              "            await google.colab.kernel.invokeFunction('convertToInteractive',\n",
              "                                                     [key], {});\n",
              "          if (!dataTable) return;\n",
              "\n",
              "          const docLinkHtml = 'Like what you see? Visit the ' +\n",
              "            '<a target=\"_blank\" href=https://colab.research.google.com/notebooks/data_table.ipynb>data table notebook</a>'\n",
              "            + ' to learn more about interactive tables.';\n",
              "          element.innerHTML = '';\n",
              "          dataTable['output_type'] = 'display_data';\n",
              "          await google.colab.output.renderOutput(dataTable, element);\n",
              "          const docLink = document.createElement('div');\n",
              "          docLink.innerHTML = docLinkHtml;\n",
              "          element.appendChild(docLink);\n",
              "        }\n",
              "      </script>\n",
              "    </div>\n",
              "  </div>\n",
              "  "
            ]
          },
          "metadata": {},
          "execution_count": 16
        }
      ]
    },
    {
      "cell_type": "markdown",
      "source": [
        "### Save the VitalFile object to vital file\n",
        "To save `VitalFile` object to vital file, call `to_vital()` with the file path to save."
      ],
      "metadata": {
        "id": "ogWGHQ5lfZP2"
      }
    },
    {
      "cell_type": "code",
      "source": [
        "vf.to_vital('1_copyed.vital')"
      ],
      "metadata": {
        "id": "4tLbry76e3qr",
        "outputId": "58af698b-b4c1-4741-afde-fdce293bee7d",
        "colab": {
          "base_uri": "https://localhost:8080/"
        }
      },
      "execution_count": null,
      "outputs": [
        {
          "output_type": "execute_result",
          "data": {
            "text/plain": [
              "True"
            ]
          },
          "metadata": {},
          "execution_count": 11
        }
      ]
    },
    {
      "cell_type": "markdown",
      "source": [
        "### Batch extraction of tracks\n",
        "You can extract tracks of several vital files in the specific folder using the `vitaldb` python library."
      ],
      "metadata": {
        "id": "TA_SAsyTggDN"
      }
    },
    {
      "cell_type": "code",
      "source": [
        "import os\n",
        "IDIR = '.'\n",
        "TRACK_NAMES = ['ECG_II', 'ART']\n",
        "for filename in os.listdir(IDIR):\n",
        "    if filename.endswith('.vital'):\n",
        "        print('Converting:' + filename, end='...', flush=True)\n",
        "        vf = vitaldb.VitalFile(IDIR + '/' + filename, TRACK_NAMES)\n",
        "        vf.to_pandas(TRACK_NAMES, 1/100).to_csv(filename + '.csv', index=False, encoding='utf-8-sig')\n",
        "        print('done')"
      ],
      "metadata": {
        "id": "4SgDfHe1jphi",
        "outputId": "62a87519-d63e-4258-e4cd-0b1298b43d03",
        "colab": {
          "base_uri": "https://localhost:8080/"
        }
      },
      "execution_count": null,
      "outputs": [
        {
          "output_type": "stream",
          "name": "stdout",
          "text": [
            "Converting:1-1.vital...done\n",
            "Converting:2.vital...done\n",
            "Converting:3.vital...done\n",
            "Converting:00001.vital...done\n",
            "Converting:1.vital...done\n",
            "Converting:1-2.vital...done\n",
            "Converting:4.vital...done\n",
            "Converting:1_copyed.vital...done\n",
            "Converting:5.vital...done\n"
          ]
        }
      ]
    },
    {
      "cell_type": "markdown",
      "source": [
        "## Platform API\n",
        "You can login, list, and download vital files from the VitalDB platform using the `vitaldb` Platform API."
      ],
      "metadata": {
        "id": "kjTvUx8BhH0r"
      }
    },
    {
      "cell_type": "code",
      "source": [
        "# path to save downloaded files\n",
        "import os\n",
        "DOWNLOAD_DIR = \"download\"\n",
        "if not os.path.exists(DOWNLOAD_DIR):\n",
        "    os.mkdir(DOWNLOAD_DIR)\n",
        "\n",
        "if vitaldb.api.login(id=\"vitaldb_test\", pw=\"vitaldb_test\"):\n",
        "    for file in vitaldb.api.filelist(None, '2021-10-01'):\n",
        "        print(\"Downloading: \" + file['filename'], end='...', flush=True)\n",
        "        vitaldb.api.download(file['filename'], DOWNLOAD_DIR + '/' + file['filename'])\n",
        "        print('done')\n",
        "else:\n",
        "    print('login error')"
      ],
      "metadata": {
        "id": "wD7i3z3LhsVn",
        "outputId": "7c81595a-1cfc-41be-a427-e5a4757c05fa",
        "colab": {
          "base_uri": "https://localhost:8080/"
        }
      },
      "execution_count": null,
      "outputs": [
        {
          "output_type": "stream",
          "name": "stdout",
          "text": [
            "Downloading: TEST1_211020_142621.vital...done\n",
            "Downloading: TEST2_211019_102621.vital...done\n",
            "Downloading: TEST2_211020_101124.vital...done\n"
          ]
        }
      ]
    },
    {
      "cell_type": "markdown",
      "source": [
        "You can read the vital file directly from the server by not specifing the file path to the `vitaldb.api.download` method."
      ],
      "metadata": {
        "id": "JG9qJHAdlQws"
      }
    },
    {
      "cell_type": "code",
      "source": [
        "vitaldb.api.login(id=\"vitaldb_test\", pw=\"vitaldb_test\")\n",
        "filename = vitaldb.api.filelist()[0]['filename']\n",
        "vf = vitaldb.VitalFile(vitaldb.api.download(filename))\n",
        "vf.get_track_names()"
      ],
      "metadata": {
        "id": "iPgRJnp8leVo",
        "outputId": "aa675a54-25ad-4f8f-9579-ee14bcfa2fa7",
        "colab": {
          "base_uri": "https://localhost:8080/"
        }
      },
      "execution_count": null,
      "outputs": [
        {
          "output_type": "execute_result",
          "data": {
            "text/plain": [
              "['EVENT',\n",
              " 'SNUADC/ART',\n",
              " 'SNUADC/ECG_II',\n",
              " 'SNUADC/ECG_V5',\n",
              " 'SNUADC/PLETH',\n",
              " 'Solar8000/HR',\n",
              " 'Solar8000/ST_I',\n",
              " 'Solar8000/ST_II',\n",
              " 'Solar8000/ST_III',\n",
              " 'Solar8000/ST_AVL',\n",
              " 'Solar8000/ST_AVR',\n",
              " 'Solar8000/ST_AVF',\n",
              " 'Solar8000/ART_MBP',\n",
              " 'Solar8000/ART_SBP',\n",
              " 'Solar8000/ART_DBP',\n",
              " 'Solar8000/PLETH_SPO2',\n",
              " 'Solar8000/PLETH_HR',\n",
              " 'Solar8000/BT',\n",
              " 'Solar8000/VENT_MAWP',\n",
              " 'Solar8000/ST_V5',\n",
              " 'Solar8000/NIBP_MBP',\n",
              " 'Solar8000/NIBP_SBP',\n",
              " 'Solar8000/NIBP_DBP',\n",
              " 'Solar8000/VENT_PIP',\n",
              " 'Solar8000/VENT_RR',\n",
              " 'Solar8000/VENT_MV',\n",
              " 'Solar8000/VENT_TV',\n",
              " 'Solar8000/VENT_PPLAT',\n",
              " 'Solar8000/GAS2_AGENT',\n",
              " 'Solar8000/GAS2_EXPIRED',\n",
              " 'Solar8000/GAS2_INSPIRED',\n",
              " 'Solar8000/ETCO2',\n",
              " 'Solar8000/INCO2',\n",
              " 'Solar8000/RR_CO2',\n",
              " 'Solar8000/FEO2',\n",
              " 'Solar8000/FIO2',\n",
              " 'Solar8000/VENT_INSP_TM',\n",
              " 'Solar8000/VENT_SET_TV',\n",
              " 'Solar8000/VENT_SET_PCP',\n",
              " 'Primus/CO2',\n",
              " 'Primus/AWP',\n",
              " 'Primus/INSP_SEVO',\n",
              " 'Primus/EXP_SEVO',\n",
              " 'Primus/PAMB_MBAR',\n",
              " 'Primus/MAWP_MBAR',\n",
              " 'Primus/MAC',\n",
              " 'Primus/VENT_LEAK',\n",
              " 'Primus/INCO2',\n",
              " 'Primus/ETCO2',\n",
              " 'Primus/FEO2',\n",
              " 'Primus/FIO2',\n",
              " 'Primus/FIN2O',\n",
              " 'Primus/FEN2O',\n",
              " 'Primus/SET_FIO2',\n",
              " 'Primus/SET_FRESH_FLOW',\n",
              " 'Primus/SET_AGE',\n",
              " 'Primus/PIP_MBAR',\n",
              " 'Primus/COMPLIANCE',\n",
              " 'Primus/PPLAT_MBAR',\n",
              " 'Primus/PEEP_MBAR',\n",
              " 'Primus/TV',\n",
              " 'Primus/MV',\n",
              " 'Primus/RR_CO2',\n",
              " 'Primus/SET_TV_L',\n",
              " 'Primus/SET_INSP_TM',\n",
              " 'Primus/SET_RR_IPPV',\n",
              " 'Primus/SET_INTER_PEEP',\n",
              " 'Primus/SET_PIP',\n",
              " 'Primus/SET_INSP_PAUSE',\n",
              " 'Primus/INSP_DES',\n",
              " 'Primus/EXP_DES',\n",
              " 'BIS/EEG1_WAV',\n",
              " 'BIS/EEG2_WAV',\n",
              " 'BIS/BIS',\n",
              " 'BIS/SQI',\n",
              " 'BIS/EMG',\n",
              " 'BIS/SR',\n",
              " 'BIS/SEF',\n",
              " 'BIS/TOTPOW']"
            ]
          },
          "metadata": {},
          "execution_count": 21
        }
      ]
    },
    {
      "cell_type": "markdown",
      "source": [
        "For the intranet server, you can pass the host name and port number to the `vitaldb.api.login` method."
      ],
      "metadata": {
        "id": "p_akb_yDi02w"
      }
    },
    {
      "cell_type": "code",
      "source": [
        "vitaldb.api.login(id='admin', pw='pass', host='snuh.vitaldb.net', port=80)"
      ],
      "metadata": {
        "id": "zHur5QU9jDXV"
      },
      "execution_count": null,
      "outputs": []
    }
  ]
}