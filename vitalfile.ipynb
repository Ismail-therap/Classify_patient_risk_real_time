{
  "nbformat": 4,
  "nbformat_minor": 0,
  "metadata": {
    "colab": {
      "name": "vitalfile.ipynb",
      "provenance": [],
      "toc_visible": true,
      "authorship_tag": "ABX9TyPAYepztSY33oMeDLLa49pY",
      "include_colab_link": true
    },
    "kernelspec": {
      "name": "python3",
      "display_name": "Python 3"
    }
  },
  "cells": [
    {
      "cell_type": "markdown",
      "metadata": {
        "id": "view-in-github",
        "colab_type": "text"
      },
      "source": [
        "<a href=\"https://colab.research.google.com/github/vitaldb/examples/blob/master/vitalfile.ipynb\" target=\"_parent\"><img src=\"https://colab.research.google.com/assets/colab-badge.svg\" alt=\"Open In Colab\"/></a>"
      ]
    },
    {
      "cell_type": "markdown",
      "metadata": {
        "id": "X2COxMJNUxIh",
        "colab_type": "text"
      },
      "source": [
        "# Vital 파일 다루기\n",
        "Vital Recorder 에서 생성한 Vital 파일을 파이선으로 읽어오는 방법을 알아보겠습니다."
      ]
    },
    {
      "cell_type": "markdown",
      "metadata": {
        "id": "0pAlf-93XLo9",
        "colab_type": "text"
      },
      "source": [
        "## 샘플 vital 파일 다운로드\n",
        "아래 코드를 실행하여 vitaldb 의 샘플 vital 파일을 다운로드 합니다."
      ]
    },
    {
      "cell_type": "code",
      "metadata": {
        "id": "jK_-H6WtUz_9",
        "colab_type": "code",
        "colab": {}
      },
      "source": [
        "!wget -N https://vitaldb.net/samples/00001.vital"
      ],
      "execution_count": null,
      "outputs": []
    },
    {
      "cell_type": "markdown",
      "metadata": {
        "id": "Yz6rZEtHVQwG",
        "colab_type": "text"
      },
      "source": [
        "## Vital 파일을 읽기 위한 라이브러리 다운로드\n",
        "\n",
        "github에 공개된 vitalutils 코드 중 vital 파일을 읽기 위한 vitaldb 모듈을 읽어옵니다."
      ]
    },
    {
      "cell_type": "code",
      "metadata": {
        "id": "kUNWEjj6Vh1L",
        "colab_type": "code",
        "colab": {}
      },
      "source": [
        "!wget https://raw.githubusercontent.com/vitaldb/vitalutils/master/python/vitaldb.py\n",
        "\n",
        "import vitaldb"
      ],
      "execution_count": null,
      "outputs": []
    },
    {
      "cell_type": "markdown",
      "metadata": {
        "id": "IVniWCJAU7Wj",
        "colab_type": "text"
      },
      "source": [
        "## Vital 파일 트랙 목록 읽기\n",
        "vital_trks 함수를 사용하여 개인이 보유한 vital 파일을 내용을 읽습니다. 본 예제에서는 위에서 다운로드 한 00001.vital 파일을 읽어보겠습니다."
      ]
    },
    {
      "cell_type": "code",
      "metadata": {
        "id": "oh_54t5FZkYM",
        "colab_type": "code",
        "colab": {}
      },
      "source": [
        "import numpy as np\n",
        "import vitaldb\n",
        "\n",
        "trks = vitaldb.vital_trks(\"00001.vital\")\n",
        "trks"
      ],
      "execution_count": null,
      "outputs": []
    },
    {
      "cell_type": "markdown",
      "metadata": {
        "id": "XARQ3Zs1WVE7",
        "colab_type": "text"
      },
      "source": [
        "## Vital 파일 내용 읽기\n",
        "vital_recs 함수를 사용하여 개인이 보유한 vital 파일을 내용을 읽습니다. 본 예제에서는 위에서 다운로드 한 00001.vital 파일을 읽어보겠습니다.\n",
        "\n",
        "어떤 트랙을 읽을지, 한 행은 몇 초 간격으로 읽을지를 지정해야합니다. 트랙 목록을 지정할 때는 `장비명1/트랙명1,장비명2/트랙명2` 형태로 합니다."
      ]
    },
    {
      "cell_type": "code",
      "metadata": {
        "colab_type": "code",
        "id": "qsQ-vSMpUjp5",
        "colab": {}
      },
      "source": [
        "import numpy as np\n",
        "import vitaldb\n",
        "\n",
        "vals = vitaldb.vital_recs(\"00001.vital\", 'SNUADC/ECG_II,Solar 8000M/ST_II', 0.01)\n",
        "# 앞쪽 20초 데이터만 읽음\n",
        "vals = vals[:2000, :]\n",
        "vals"
      ],
      "execution_count": null,
      "outputs": []
    },
    {
      "cell_type": "code",
      "metadata": {
        "id": "OXpRzZG7hR4U",
        "colab_type": "code",
        "colab": {}
      },
      "source": [
        "# ecg 트랙을 그림\n",
        "ecg = vals[:,0]\n",
        "import matplotlib.pyplot as plt\n",
        "plt.plot(np.arange(len(ecg)), ecg)\n",
        "plt.show()"
      ],
      "execution_count": null,
      "outputs": []
    },
    {
      "cell_type": "code",
      "metadata": {
        "id": "aVbPASEvhgGN",
        "colab_type": "code",
        "colab": {}
      },
      "source": [
        "# st 트랙의 유효한 값을 출력\n",
        "st = vals[:,1]\n",
        "st_valid = st[~np.isnan(st)]\n",
        "st_valid"
      ],
      "execution_count": null,
      "outputs": []
    }
  ]
}