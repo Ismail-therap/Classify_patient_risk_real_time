{
  "nbformat": 4,
  "nbformat_minor": 0,
  "metadata": {
    "colab": {
      "name": "vitalfile.ipynb",
      "provenance": [],
      "toc_visible": true,
      "authorship_tag": "ABX9TyOX3aMFFlArJkW7+Y2APrrk",
      "include_colab_link": true
    },
    "kernelspec": {
      "name": "python3",
      "display_name": "Python 3"
    }
  },
  "cells": [
    {
      "cell_type": "markdown",
      "metadata": {
        "id": "view-in-github",
        "colab_type": "text"
      },
      "source": [
        "<a href=\"https://colab.research.google.com/github/vitaldb/examples/blob/master/vitalfile.ipynb\" target=\"_parent\"><img src=\"https://colab.research.google.com/assets/colab-badge.svg\" alt=\"Open In Colab\"/></a>"
      ]
    },
    {
      "cell_type": "markdown",
      "metadata": {
        "id": "X2COxMJNUxIh",
        "colab_type": "text"
      },
      "source": [
        "# Vital 파일 다루기\n",
        "Vital Recorder 에서 생성한 Vital 파일을 파이선으로 읽어오는 방법을 알아보겠습니다."
      ]
    },
    {
      "cell_type": "markdown",
      "metadata": {
        "id": "0pAlf-93XLo9",
        "colab_type": "text"
      },
      "source": [
        "## 샘플 vital 파일 다운로드\n",
        "아래 코드를 실행하여 vitaldb 의 샘플 vital 파일을 다운로드 합니다."
      ]
    },
    {
      "cell_type": "code",
      "metadata": {
        "id": "jK_-H6WtUz_9",
        "colab_type": "code",
        "colab": {}
      },
      "source": [
        "!wget https://vitaldb.net/samples/00001.vital"
      ],
      "execution_count": null,
      "outputs": []
    },
    {
      "cell_type": "markdown",
      "metadata": {
        "id": "Yz6rZEtHVQwG",
        "colab_type": "text"
      },
      "source": [
        "## Vital 파일을 읽기 위한 라이브러리 다운로드\n",
        "\n",
        "github에 공개된 vitalutils 코드 중 vital 파일을 읽기 위한 vitaldb 모듈을 읽어옵니다."
      ]
    },
    {
      "cell_type": "code",
      "metadata": {
        "id": "kUNWEjj6Vh1L",
        "colab_type": "code",
        "colab": {
          "base_uri": "https://localhost:8080/",
          "height": 232
        },
        "outputId": "7accfed0-8fd9-48b3-8cb8-18ab0b7d1a4e"
      },
      "source": [
        "!wget https://raw.githubusercontent.com/vitaldb/vitalutils/master/python/vitaldb.py"
      ],
      "execution_count": 14,
      "outputs": [
        {
          "output_type": "stream",
          "text": [
            "--2020-09-11 23:17:49--  https://raw.githubusercontent.com/vitaldb/vitalutils/master/python/vitaldb.py\n",
            "Resolving raw.githubusercontent.com (raw.githubusercontent.com)... 151.101.0.133, 151.101.64.133, 151.101.128.133, ...\n",
            "Connecting to raw.githubusercontent.com (raw.githubusercontent.com)|151.101.0.133|:443... connected.\n",
            "HTTP request sent, awaiting response... 200 OK\n",
            "Length: 14492 (14K) [text/plain]\n",
            "Saving to: ‘vitaldb.py’\n",
            "\n",
            "\rvitaldb.py            0%[                    ]       0  --.-KB/s               \rvitaldb.py          100%[===================>]  14.15K  --.-KB/s    in 0.01s   \n",
            "\n",
            "2020-09-11 23:17:50 (1.15 MB/s) - ‘vitaldb.py’ saved [14492/14492]\n",
            "\n"
          ],
          "name": "stdout"
        }
      ]
    },
    {
      "cell_type": "markdown",
      "metadata": {
        "id": "IVniWCJAU7Wj",
        "colab_type": "text"
      },
      "source": [
        "## Vital 파일 트랙 목록 읽기\n",
        "vital_trks 함수를 사용하여 개인이 보유한 vital 파일을 내용을 읽습니다. 본 예제에서는 위에서 다운로드 한 00001.vital 파일을 읽어보겠습니다."
      ]
    },
    {
      "cell_type": "code",
      "metadata": {
        "id": "oh_54t5FZkYM",
        "colab_type": "code",
        "colab": {
          "base_uri": "https://localhost:8080/",
          "height": 223
        },
        "outputId": "bca4d231-2519-4fa9-b76a-6896b91ee7a0"
      },
      "source": [
        "import vitaldb\n",
        "\n",
        "trks = vitaldb.vital_trks(\"00001.vital\")\n",
        "trks"
      ],
      "execution_count": 16,
      "outputs": [
        {
          "output_type": "error",
          "ename": "AttributeError",
          "evalue": "ignored",
          "traceback": [
            "\u001b[0;31m---------------------------------------------------------------------------\u001b[0m",
            "\u001b[0;31mAttributeError\u001b[0m                            Traceback (most recent call last)",
            "\u001b[0;32m<ipython-input-16-727bd7a790e3>\u001b[0m in \u001b[0;36m<module>\u001b[0;34m()\u001b[0m\n\u001b[1;32m      1\u001b[0m \u001b[0;32mimport\u001b[0m \u001b[0mvitaldb\u001b[0m\u001b[0;34m\u001b[0m\u001b[0;34m\u001b[0m\u001b[0m\n\u001b[1;32m      2\u001b[0m \u001b[0;34m\u001b[0m\u001b[0m\n\u001b[0;32m----> 3\u001b[0;31m \u001b[0mtrks\u001b[0m \u001b[0;34m=\u001b[0m \u001b[0mvitaldb\u001b[0m\u001b[0;34m.\u001b[0m\u001b[0mvital_trks\u001b[0m\u001b[0;34m(\u001b[0m\u001b[0;34m\"00001.vital\"\u001b[0m\u001b[0;34m)\u001b[0m\u001b[0;34m\u001b[0m\u001b[0;34m\u001b[0m\u001b[0m\n\u001b[0m\u001b[1;32m      4\u001b[0m \u001b[0mtrks\u001b[0m\u001b[0;34m\u001b[0m\u001b[0;34m\u001b[0m\u001b[0m\n",
            "\u001b[0;31mAttributeError\u001b[0m: module 'vitaldb' has no attribute 'vital_trks'"
          ]
        }
      ]
    },
    {
      "cell_type": "markdown",
      "metadata": {
        "id": "XARQ3Zs1WVE7",
        "colab_type": "text"
      },
      "source": [
        "## Vital 파일 내용 읽기\n",
        "vital_recs 함수를 사용하여 개인이 보유한 vital 파일을 내용을 읽습니다. 본 예제에서는 위에서 다운로드 한 00001.vital 파일을 읽어보겠습니다.\n",
        "\n",
        "어떤 트랙을 읽을지, 한 행은 몇 초 간격으로 읽을지를 지정해야합니다. 트랙 목록을 지정할 때는 `장비명1/트랙명1,장비명2/트랙명2` 형태로 합니다."
      ]
    },
    {
      "cell_type": "code",
      "metadata": {
        "colab_type": "code",
        "id": "qsQ-vSMpUjp5",
        "colab": {
          "base_uri": "https://localhost:8080/",
          "height": 424
        },
        "outputId": "fcea0024-29e1-49c5-f531-e7f24be432de"
      },
      "source": [
        "import numpy as np\n",
        "import vitaldb\n",
        "\n",
        "vals = vitaldb.load_vital(\"00001.vital\", 'SNUADC/ECG_II,Solar 8000M/ST_II', 0.01)\n",
        "vals = vals[:2000, :]\n",
        "print(vals)\n",
        "\n",
        "ecg = vals[:,0]\n",
        "print(ecg)\n",
        "\n",
        "st = vals[:,1]\n",
        "st_valid = st[~np.isnan(st)]\n",
        "print(st_valid)\n",
        "\n",
        "import matplotlib.pyplot as plt\n",
        "plt.plot(np.arange(len(ecg)), ecg)\n",
        "plt.plot(np.arange(len(st)), st)\n",
        "plt.show()"
      ],
      "execution_count": null,
      "outputs": [
        {
          "output_type": "stream",
          "text": [
            "[[       nan        nan]\n",
            " [       nan        nan]\n",
            " [       nan        nan]\n",
            " ...\n",
            " [5.14542543        nan]\n",
            " [5.14542543        nan]\n",
            " [5.14542543        nan]]\n",
            "[       nan        nan        nan ... 5.14542543 5.14542543 5.14542543]\n",
            "[-0.2        -0.2        -0.2        -0.40000001 -0.40000001 -0.40000001]\n"
          ],
          "name": "stdout"
        },
        {
          "output_type": "display_data",
          "data": {
            "image/png": "[encoded data removed]",
            "text/plain": [
              "<Figure size 432x288 with 1 Axes>"
            ]
          },
          "metadata": {
            "tags": [],
            "needs_background": "light"
          }
        }
      ]
    }
  ]
}