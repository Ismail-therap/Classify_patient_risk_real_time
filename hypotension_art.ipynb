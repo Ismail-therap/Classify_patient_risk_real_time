{
  "nbformat": 4,
  "nbformat_minor": 0,
  "metadata": {
    "colab": {
      "name": "hypotension.ipynb",
      "provenance": [],
      "authorship_tag": "ABX9TyPHODPwV+EYV9efDsGKs32g",
      "include_colab_link": true
    },
    "kernelspec": {
      "name": "python3",
      "display_name": "Python 3"
    },
    "accelerator": "GPU"
  },
  "cells": [
    {
      "cell_type": "markdown",
      "metadata": {
        "id": "view-in-github",
        "colab_type": "text"
      },
      "source": [
        "<a href=\"https://colab.research.google.com/github/vitaldb/examples/blob/master/hypotension_art.ipynb\" target=\"_parent\"><img src=\"https://colab.research.google.com/assets/colab-badge.svg\" alt=\"Open In Colab\"/></a>"
      ]
    },
    {
      "cell_type": "markdown",
      "metadata": {
        "id": "Fasr2v3HjCtw"
      },
      "source": [
        "# Hypotension prediction using arterial blood pressure waveform"
      ]
    },
    {
      "cell_type": "markdown",
      "source": [
        "In this sample code, we will try to build a machine learning based model for predicting hypotension (MBP < 65mmHg for more than 1 minute) from the arterial blood pressure waveform (ART) in the VitalDB dataset."
      ],
      "metadata": {
        "id": "Wd3cCK39clmX"
      }
    },
    {
      "cell_type": "markdown",
      "metadata": {
        "id": "TB-x1opNjaIa"
      },
      "source": [
        "## Required libraries"
      ]
    },
    {
      "cell_type": "code",
      "metadata": {
        "id": "XFKXGjvNjWuR",
        "colab": {
          "base_uri": "https://localhost:8080/"
        },
        "outputId": "4d4912ce-c02a-4e99-c17b-f6011fbcad0d"
      },
      "source": [
        "import numpy as np\n",
        "import pandas as pd\n",
        "import os\n",
        "import matplotlib.pyplot as plt\n",
        "\n",
        "!pip install vitaldb\n",
        "import vitaldb"
      ],
      "execution_count": 19,
      "outputs": [
        {
          "output_type": "stream",
          "name": "stdout",
          "text": [
            "Requirement already satisfied: vitaldb in /usr/local/lib/python3.7/dist-packages (0.1.19)\n",
            "Requirement already satisfied: s3fs in /usr/local/lib/python3.7/dist-packages (from vitaldb) (2022.5.0)\n",
            "Requirement already satisfied: requests in /usr/local/lib/python3.7/dist-packages (from vitaldb) (2.23.0)\n",
            "Requirement already satisfied: pandas in /usr/local/lib/python3.7/dist-packages (from vitaldb) (1.3.5)\n",
            "Requirement already satisfied: numpy in /usr/local/lib/python3.7/dist-packages (from vitaldb) (1.21.6)\n",
            "Requirement already satisfied: pyarrow in /usr/local/lib/python3.7/dist-packages (from vitaldb) (6.0.1)\n",
            "Requirement already satisfied: pytz>=2017.3 in /usr/local/lib/python3.7/dist-packages (from pandas->vitaldb) (2022.1)\n",
            "Requirement already satisfied: python-dateutil>=2.7.3 in /usr/local/lib/python3.7/dist-packages (from pandas->vitaldb) (2.8.2)\n",
            "Requirement already satisfied: six>=1.5 in /usr/local/lib/python3.7/dist-packages (from python-dateutil>=2.7.3->pandas->vitaldb) (1.15.0)\n",
            "Requirement already satisfied: certifi>=2017.4.17 in /usr/local/lib/python3.7/dist-packages (from requests->vitaldb) (2021.10.8)\n",
            "Requirement already satisfied: chardet<4,>=3.0.2 in /usr/local/lib/python3.7/dist-packages (from requests->vitaldb) (3.0.4)\n",
            "Requirement already satisfied: urllib3!=1.25.0,!=1.25.1,<1.26,>=1.21.1 in /usr/local/lib/python3.7/dist-packages (from requests->vitaldb) (1.25.11)\n",
            "Requirement already satisfied: idna<3,>=2.5 in /usr/local/lib/python3.7/dist-packages (from requests->vitaldb) (2.10)\n",
            "Requirement already satisfied: aiobotocore~=2.3.0 in /usr/local/lib/python3.7/dist-packages (from s3fs->vitaldb) (2.3.2)\n",
            "Requirement already satisfied: fsspec==2022.5.0 in /usr/local/lib/python3.7/dist-packages (from s3fs->vitaldb) (2022.5.0)\n",
            "Requirement already satisfied: aiohttp<=4 in /usr/local/lib/python3.7/dist-packages (from s3fs->vitaldb) (3.8.1)\n",
            "Requirement already satisfied: aioitertools>=0.5.1 in /usr/local/lib/python3.7/dist-packages (from aiobotocore~=2.3.0->s3fs->vitaldb) (0.10.0)\n",
            "Requirement already satisfied: botocore<1.24.22,>=1.24.21 in /usr/local/lib/python3.7/dist-packages (from aiobotocore~=2.3.0->s3fs->vitaldb) (1.24.21)\n",
            "Requirement already satisfied: wrapt>=1.10.10 in /usr/local/lib/python3.7/dist-packages (from aiobotocore~=2.3.0->s3fs->vitaldb) (1.14.1)\n",
            "Requirement already satisfied: attrs>=17.3.0 in /usr/local/lib/python3.7/dist-packages (from aiohttp<=4->s3fs->vitaldb) (21.4.0)\n",
            "Requirement already satisfied: aiosignal>=1.1.2 in /usr/local/lib/python3.7/dist-packages (from aiohttp<=4->s3fs->vitaldb) (1.2.0)\n",
            "Requirement already satisfied: typing-extensions>=3.7.4 in /usr/local/lib/python3.7/dist-packages (from aiohttp<=4->s3fs->vitaldb) (4.2.0)\n",
            "Requirement already satisfied: asynctest==0.13.0 in /usr/local/lib/python3.7/dist-packages (from aiohttp<=4->s3fs->vitaldb) (0.13.0)\n",
            "Requirement already satisfied: async-timeout<5.0,>=4.0.0a3 in /usr/local/lib/python3.7/dist-packages (from aiohttp<=4->s3fs->vitaldb) (4.0.2)\n",
            "Requirement already satisfied: charset-normalizer<3.0,>=2.0 in /usr/local/lib/python3.7/dist-packages (from aiohttp<=4->s3fs->vitaldb) (2.0.12)\n",
            "Requirement already satisfied: frozenlist>=1.1.1 in /usr/local/lib/python3.7/dist-packages (from aiohttp<=4->s3fs->vitaldb) (1.3.0)\n",
            "Requirement already satisfied: multidict<7.0,>=4.5 in /usr/local/lib/python3.7/dist-packages (from aiohttp<=4->s3fs->vitaldb) (6.0.2)\n",
            "Requirement already satisfied: yarl<2.0,>=1.0 in /usr/local/lib/python3.7/dist-packages (from aiohttp<=4->s3fs->vitaldb) (1.7.2)\n",
            "Requirement already satisfied: jmespath<2.0.0,>=0.7.1 in /usr/local/lib/python3.7/dist-packages (from botocore<1.24.22,>=1.24.21->aiobotocore~=2.3.0->s3fs->vitaldb) (1.0.0)\n"
          ]
        }
      ]
    },
    {
      "cell_type": "markdown",
      "metadata": {
        "id": "A0mXIwV0jhvg"
      },
      "source": [
        "## Case Selection"
      ]
    },
    {
      "cell_type": "code",
      "metadata": {
        "id": "QrGHCgBCjfIS",
        "colab": {
          "base_uri": "https://localhost:8080/"
        },
        "outputId": "23842e68-7632-4bf2-a641-3b0295712c8f"
      },
      "source": [
        "df_trks = pd.read_csv('https://api.vitaldb.net/trks')  # read track list\n",
        "df_cases = pd.read_csv(\"https://api.vitaldb.net/cases\")  # read case information\n",
        "\n",
        "# inclusion & exclusion criteria\n",
        "caseids = list(\n",
        "    set(df_trks[df_trks['tname'] == 'SNUADC/ART']['caseid']) &\n",
        "    set(df_cases[df_cases['age'] > 18]['caseid']) &\n",
        "    set(df_cases[~df_cases['opname'].str.contains(\"transplant\")]['caseid']) &\n",
        "    set(df_cases[df_cases['age'] >= 18]['caseid']) & \n",
        "    set(df_cases[df_cases['weight'] >= 30]['caseid']) & \n",
        "    set(df_cases[df_cases['weight'] < 140]['caseid']) & \n",
        "    set(df_cases[df_cases['height'] >= 135]['caseid']) & \n",
        "    set(df_cases[df_cases['height'] < 200]['caseid']) & \n",
        "    set(df_cases[~df_cases['opname'].str.contains(\"heart\")]['caseid']) & \n",
        "    set(df_cases[~df_cases['opname'].str.contains(\"cardiac\")]['caseid']) & \n",
        "    set(df_cases[~df_cases['opname'].str.contains(\"transplant\")]['caseid']) & \n",
        "    set(df_cases[~df_cases['opname'].str.contains(\"aneurysm\")]['caseid']) & \n",
        "    set(df_cases[~df_cases['opname'].str.contains(\"aorto\")]['caseid'])& \n",
        "    set(df_cases[df_cases['ane_type'] == 'General']['caseid'])\n",
        ")\n",
        "print('Total {} cases found'.format(len(caseids)))\n",
        "np.random.shuffle(caseids)  # shuffle caseids"
      ],
      "execution_count": 20,
      "outputs": [
        {
          "output_type": "stream",
          "name": "stdout",
          "text": [
            "Total 3337 cases found\n"
          ]
        }
      ]
    },
    {
      "cell_type": "markdown",
      "metadata": {
        "id": "HwcgHzUfjpyE"
      },
      "source": [
        "## Preprocessing"
      ]
    },
    {
      "cell_type": "markdown",
      "source": [
        "In this section, we will read the MBP data while iterating caseids. Only MAX_CASES (=100) cases will be used for to save time.\n",
        "\n",
        "The arterial waveform data of each case will be read by passing the caseid into the vitaldb python library. Then, the pairs of x (input) and y (label) for training and validation of the model will be extracted."
      ],
      "metadata": {
        "id": "jUhKzPXrjNZu"
      }
    },
    {
      "cell_type": "markdown",
      "source": [
        "![image.png](data:image/png;base64,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)"
      ],
      "metadata": {
        "id": "c0XQYf9IlFxS"
      }
    },
    {
      "cell_type": "code",
      "source": [
        "def make_segments(x, seglen, stride):\n",
        "    # make_segments(np.arange(15), 5, 2)\n",
        "    # [[ 0  1  2  3  4]\n",
        "    #  [ 2  3  4  5  6]\n",
        "    #  [ 4  5  6  7  8]\n",
        "    #  [ 6  7  8  9 10]\n",
        "    #  [ 8  9 10 11 12]\n",
        "    #  [10 11 12 13 14]]\n",
        "    nseg = (len(x) - seglen) // stride + 1\n",
        "    return np.lib.stride_tricks.as_strided(x, strides=(x.strides[0] * stride,) + x.strides, \n",
        "                                              shape=(nseg, seglen) + x.shape[1:])"
      ],
      "metadata": {
        "id": "mJ5FgRN8DP8s"
      },
      "execution_count": 21,
      "outputs": []
    },
    {
      "cell_type": "code",
      "metadata": {
        "id": "4xVxKmNJjxQn",
        "colab": {
          "base_uri": "https://localhost:8080/"
        },
        "outputId": "2ab106fa-0d23-4982-de22-46ffebb0c621"
      },
      "source": [
        "MINUTES_AHEAD = 1  # Predict hypotension 1 minutes ahead\n",
        "BATCH_SIZE = 256  # Batch size for learning\n",
        "MAX_CASES = 100  # Maximum number of cases for this example\n",
        "SRATE = 100  # sampling rate for the arterial waveform signal\n",
        "\n",
        "# Final dataset for training and testing the model\n",
        "x = []  # input with shape of (segements, timepoints)\n",
        "y = []  # output with shape of (segments)\n",
        "valid_mask = []  # validity of each segement\n",
        "c = []  # caseid of each segment\n",
        "\n",
        "# maximum number of cases\n",
        "for caseid in caseids:\n",
        "    print(f'loading {caseid}', end='...', flush=True)\n",
        "\n",
        "    # read the arterial waveform\n",
        "    arts = vitaldb.load_case(caseid, ['SNUADC/ART'], 1 / SRATE).flatten()\n",
        "\n",
        "    case_sample = 0\n",
        "    case_event = 0\n",
        "    for i in range(0, len(arts) - SRATE * (20 + (1 + MINUTES_AHEAD) * 60), 10 * SRATE):\n",
        "        segx = arts[i:i + SRATE * 20]\n",
        "        segy = arts[i + SRATE * (20 + MINUTES_AHEAD * 60):i + SRATE * (20 + (MINUTES_AHEAD + 1) * 60)]\n",
        "\n",
        "        # check the validity of this segment\n",
        "        valid = True\n",
        "        if np.isnan(segx).mean() > 0.1:\n",
        "            valid = False\n",
        "        elif np.isnan(segy).mean() > 0.1:\n",
        "            valid = False\n",
        "        elif (segx > 200).any():\n",
        "            valid = False\n",
        "        elif (segy > 200).any():\n",
        "            valid = False\n",
        "        elif (segx < 30).any():\n",
        "            valid = False\n",
        "        elif (segy < 30).any():\n",
        "            valid = False\n",
        "        elif np.max(segx) - np.min(segx) < 30:\n",
        "            valid = False\n",
        "        elif np.max(segy) - np.min(segy) < 30:\n",
        "            valid = False\n",
        "        elif (np.abs(np.diff(segx)) > 30).any():  # abrupt change -> noise\n",
        "            valid = False\n",
        "        elif (np.abs(np.diff(segy)) > 30).any():  # abrupt change -> noise\n",
        "            valid = False\n",
        "\n",
        "        # 2 sec moving avg\n",
        "        n = 2 * SRATE  \n",
        "        segy = np.nancumsum(segy, dtype=np.float32)\n",
        "        segy[n:] = segy[n:] - segy[:-n]\n",
        "        segy = segy[n - 1:] / n\n",
        "\n",
        "        evt = np.nanmax(segy) < 65\n",
        "        x.append(segx)\n",
        "        y.append(evt)\n",
        "        valid_mask.append(valid)\n",
        "        c.append(caseid)\n",
        "        \n",
        "        if valid:\n",
        "            case_sample += 1\n",
        "            if evt:\n",
        "                case_event += 1\n",
        "\n",
        "    if case_sample > 0:\n",
        "        print(\"{} samples {} ({:.1f} %) events\".format(case_sample, case_event, 100 * case_event / case_sample))\n",
        "    else:\n",
        "        print('no sample')\n",
        "\n",
        "    if len(np.unique(c)) >= MAX_CASES:\n",
        "        break\n",
        "\n",
        "# final caseids\n",
        "caseids = np.unique(c)\n",
        "\n",
        "# convert lists to numpy array\n",
        "x = np.array(x)\n",
        "y = np.array(y) \n",
        "valid_mask = np.array(valid_mask)\n",
        "c = np.array(c)\n",
        "\n",
        "# forward filling\n",
        "x = pd.DataFrame(x).fillna(method='ffill', axis=1).fillna(method='bfill', axis=1).values\n",
        "\n",
        "# normalization\n",
        "x -= 65\n",
        "x /= 65\n",
        "\n",
        "# add axis for CNN\n",
        "x = x[...,None]  \n",
        "\n",
        "print(x.shape)\n",
        "print(y.shape)"
      ],
      "execution_count": 22,
      "outputs": [
        {
          "output_type": "stream",
          "name": "stdout",
          "text": [
            "loading 2509...586 samples 0 (0.0 %) events\n",
            "loading 4933...850 samples 50 (5.9 %) events\n",
            "loading 3126...407 samples 19 (4.7 %) events\n",
            "loading 5745...427 samples 0 (0.0 %) events\n",
            "loading 3852...1256 samples 0 (0.0 %) events\n",
            "loading 2970...1298 samples 0 (0.0 %) events\n",
            "loading 3623...874 samples 45 (5.1 %) events\n",
            "loading 5474...543 samples 0 (0.0 %) events\n",
            "loading 2788...289 samples 0 (0.0 %) events\n",
            "loading 6362...1126 samples 50 (4.4 %) events\n",
            "loading 22...1183 samples 0 (0.0 %) events\n",
            "loading 3355...225 samples 6 (2.7 %) events\n",
            "loading 140...1623 samples 1 (0.1 %) events\n",
            "loading 4241...1352 samples 0 (0.0 %) events\n",
            "loading 716...864 samples 0 (0.0 %) events\n",
            "loading 564...1581 samples 0 (0.0 %) events\n",
            "loading 2072...1035 samples 11 (1.1 %) events\n",
            "loading 5476...247 samples 0 (0.0 %) events\n",
            "loading 53...953 samples 0 (0.0 %) events\n",
            "loading 3725...794 samples 5 (0.6 %) events\n",
            "loading 6273...862 samples 0 (0.0 %) events\n",
            "loading 678...1561 samples 45 (2.9 %) events\n",
            "loading 4498...1131 samples 9 (0.8 %) events\n",
            "loading 4142...366 samples 0 (0.0 %) events\n",
            "loading 3398...637 samples 0 (0.0 %) events\n",
            "loading 6129...1566 samples 62 (4.0 %) events\n",
            "loading 5533...442 samples 0 (0.0 %) events\n",
            "loading 1891...1582 samples 0 (0.0 %) events\n",
            "loading 3050...469 samples 0 (0.0 %) events\n",
            "loading 3879...1193 samples 110 (9.2 %) events\n",
            "loading 3331...1829 samples 72 (3.9 %) events\n",
            "loading 3529...304 samples 31 (10.2 %) events\n",
            "loading 3189...1346 samples 0 (0.0 %) events\n",
            "loading 2561...268 samples 0 (0.0 %) events\n",
            "loading 1882...815 samples 0 (0.0 %) events\n",
            "loading 74...1357 samples 0 (0.0 %) events\n",
            "loading 3275...752 samples 132 (17.6 %) events\n",
            "loading 3499...1633 samples 0 (0.0 %) events\n",
            "loading 5844...1948 samples 0 (0.0 %) events\n",
            "loading 4191...1627 samples 0 (0.0 %) events\n",
            "loading 707...no sample\n",
            "loading 4660...1255 samples 4 (0.3 %) events\n",
            "loading 5484...1254 samples 0 (0.0 %) events\n",
            "loading 4658...875 samples 9 (1.0 %) events\n",
            "loading 4805...1272 samples 16 (1.3 %) events\n",
            "loading 2169...1613 samples 5 (0.3 %) events\n",
            "loading 3475...1021 samples 0 (0.0 %) events\n",
            "loading 4724...748 samples 0 (0.0 %) events\n",
            "loading 2015...240 samples 0 (0.0 %) events\n",
            "loading 3950...2054 samples 0 (0.0 %) events\n",
            "loading 3803...818 samples 133 (16.3 %) events\n",
            "loading 1754...793 samples 0 (0.0 %) events\n",
            "loading 3674...1098 samples 0 (0.0 %) events\n",
            "loading 5497...2181 samples 357 (16.4 %) events\n",
            "loading 1268...861 samples 0 (0.0 %) events\n",
            "loading 4985...132 samples 67 (50.8 %) events\n",
            "loading 243...761 samples 0 (0.0 %) events\n",
            "loading 105...1408 samples 127 (9.0 %) events\n",
            "loading 2905...1111 samples 1 (0.1 %) events\n",
            "loading 386...no sample\n",
            "loading 1936...3358 samples 256 (7.6 %) events\n",
            "loading 2394...1063 samples 0 (0.0 %) events\n",
            "loading 4111...794 samples 0 (0.0 %) events\n",
            "loading 1302...1164 samples 0 (0.0 %) events\n",
            "loading 2808...955 samples 0 (0.0 %) events\n",
            "loading 2664...2184 samples 3 (0.1 %) events\n",
            "loading 4237...428 samples 120 (28.0 %) events\n",
            "loading 5364...1160 samples 76 (6.6 %) events\n",
            "loading 1524...91 samples 0 (0.0 %) events\n",
            "loading 115...no sample\n",
            "loading 2573...no sample\n",
            "loading 4316...951 samples 1 (0.1 %) events\n",
            "loading 1046...769 samples 5 (0.7 %) events\n",
            "loading 408...720 samples 0 (0.0 %) events\n",
            "loading 5617...506 samples 0 (0.0 %) events\n",
            "loading 855...763 samples 0 (0.0 %) events\n",
            "loading 2041...1187 samples 4 (0.3 %) events\n",
            "loading 5942...619 samples 8 (1.3 %) events\n",
            "loading 2652...1438 samples 0 (0.0 %) events\n",
            "loading 3711...1236 samples 37 (3.0 %) events\n",
            "loading 476...1428 samples 40 (2.8 %) events\n",
            "loading 1024...631 samples 22 (3.5 %) events\n",
            "loading 3070...722 samples 0 (0.0 %) events\n",
            "loading 3805...1475 samples 249 (16.9 %) events\n",
            "loading 438...no sample\n",
            "loading 1313...1243 samples 3 (0.2 %) events\n",
            "loading 5692...762 samples 0 (0.0 %) events\n",
            "loading 3709...334 samples 7 (2.1 %) events\n",
            "loading 1422...1075 samples 55 (5.1 %) events\n",
            "loading 6133...843 samples 10 (1.2 %) events\n",
            "loading 4214...1719 samples 0 (0.0 %) events\n",
            "loading 4733...4 samples 0 (0.0 %) events\n",
            "loading 152...501 samples 3 (0.6 %) events\n",
            "loading 6298...1077 samples 3 (0.3 %) events\n",
            "loading 3138...1013 samples 34 (3.4 %) events\n",
            "loading 2236...888 samples 73 (8.2 %) events\n",
            "loading 6000...2194 samples 24 (1.1 %) events\n",
            "loading 793...1007 samples 32 (3.2 %) events\n",
            "loading 4718...676 samples 29 (4.3 %) events\n",
            "loading 3713...1334 samples 12 (0.9 %) events\n",
            "(133198, 2000, 1)\n",
            "(133198,)\n"
          ]
        }
      ]
    },
    {
      "cell_type": "markdown",
      "metadata": {
        "id": "O2yXKrxSkFV_"
      },
      "source": [
        "## Splitting samples into training and testing dataset\n"
      ]
    },
    {
      "cell_type": "code",
      "metadata": {
        "id": "xhQRw4QMkJTa",
        "colab": {
          "base_uri": "https://localhost:8080/"
        },
        "outputId": "e84a17bd-2ae5-4214-f7b3-3ef06ee23d67"
      },
      "source": [
        "ncase = len(caseids)\n",
        "ntest = int(ncase * 0.2)\n",
        "ntrain = ncase - ntest\n",
        "caseids_train = caseids[:ntrain]\n",
        "caseids_test = caseids[ncase - ntest:ncase]\n",
        "\n",
        "# splitting into train set and test set\n",
        "train_mask = np.isin(c, caseids_train)\n",
        "test_mask = np.isin(c, caseids_test)\n",
        "\n",
        "train_x = x[train_mask]\n",
        "train_y = y[train_mask]\n",
        "test_x = x[test_mask]\n",
        "test_y = y[test_mask]\n",
        "\n",
        "train_x_valid = x[train_mask & valid_mask]\n",
        "train_y_valid = y[train_mask & valid_mask]\n",
        "test_x_valid = x[test_mask & valid_mask]\n",
        "test_y_valid = y[test_mask & valid_mask]\n",
        "\n",
        "testname = '{}cases {}ahead batchsize={} total {}, train {} ({} events {:.1f}%), test {} ({} events {:.1f}%)'.format(MAX_CASES, MINUTES_AHEAD, BATCH_SIZE, len(y), \\\n",
        "    len(train_y_valid), sum(train_y_valid), 100 * np.mean(train_y_valid), \\\n",
        "    len(test_y_valid), sum(test_y_valid), 100 * np.mean(test_y_valid))\n",
        "print(testname)"
      ],
      "execution_count": 23,
      "outputs": [
        {
          "output_type": "stream",
          "name": "stdout",
          "text": [
            "100cases 1ahead batchsize=256 total 133198, train 76997 (1750 events 2.3%), test 20011 (723 events 3.6%)\n"
          ]
        }
      ]
    },
    {
      "cell_type": "markdown",
      "metadata": {
        "id": "rW8w8ZuDkQ6e"
      },
      "source": [
        "## Model building and training"
      ]
    },
    {
      "cell_type": "code",
      "metadata": {
        "id": "QpxNAdARkTEU",
        "colab": {
          "base_uri": "https://localhost:8080/",
          "height": 415
        },
        "outputId": "f2ac1c86-9ba7-4610-c4a5-d4d200dfe061"
      },
      "source": [
        "from keras.models import Sequential\n",
        "from keras.models import Model, load_model\n",
        "from keras.layers import Dense, Conv1D, MaxPooling1D, GlobalMaxPool1D, BatchNormalization, Dropout\n",
        "from keras.callbacks import ModelCheckpoint, EarlyStopping\n",
        "import tensorflow as tf\n",
        "\n",
        "# making output folder\n",
        "tempdir = 'output'\n",
        "if not os.path.exists(tempdir):\n",
        "    os.mkdir(tempdir)\n",
        "weight_path = tempdir + \"/weights.hdf5\"\n",
        "\n",
        "# hyper parameter\n",
        "CNN_LAYERS = [64] * 6\n",
        "\n",
        "# build a model\n",
        "model = Sequential()\n",
        "for num_node in CNN_LAYERS:\n",
        "    model.add(Conv1D(filters=num_node, kernel_size=3, padding='valid'))\n",
        "    model.add(BatchNormalization())\n",
        "    model.add(MaxPooling1D())\n",
        "model.add(GlobalMaxPool1D())\n",
        "model.add(Dense(16, activation='relu'))\n",
        "model.add(Dropout(0.2))\n",
        "model.add(Dense(1, activation='sigmoid'))\n",
        "model.compile(loss='binary_crossentropy', optimizer='adam', metrics=['accuracy', tf.keras.metrics.AUC()])\n",
        "\n",
        "hist = model.fit(train_x_valid, train_y_valid, validation_split=0.1, epochs=100, batch_size=BATCH_SIZE, class_weight={0:1, 1:5},\n",
        "                 callbacks=[ModelCheckpoint(monitor='val_loss', filepath=weight_path, verbose=1, save_best_only=True),\n",
        "                            EarlyStopping(monitor='val_loss', patience=2, verbose=0, mode='auto')])\n",
        "\n",
        "# reload the best model\n",
        "model.load_weights(weight_path)\n",
        "open(tempdir + \"/model.json\", \"wt\").write(model.to_json())"
      ],
      "execution_count": 24,
      "outputs": [
        {
          "output_type": "stream",
          "name": "stdout",
          "text": [
            "Epoch 1/100\n",
            " 66/271 [======>.......................] - ETA: 9:18 - loss: 0.2018 - accuracy: 0.9537 - auc: 0.9407"
          ]
        },
        {
          "output_type": "error",
          "ename": "KeyboardInterrupt",
          "evalue": "ignored",
          "traceback": [
            "\u001b[0;31m---------------------------------------------------------------------------\u001b[0m",
            "\u001b[0;31mKeyboardInterrupt\u001b[0m                         Traceback (most recent call last)",
            "\u001b[0;32m<ipython-input-24-d8604ef73ca5>\u001b[0m in \u001b[0;36m<module>\u001b[0;34m()\u001b[0m\n\u001b[1;32m     28\u001b[0m hist = model.fit(train_x_valid, train_y_valid, validation_split=0.1, epochs=100, batch_size=BATCH_SIZE, class_weight={0:1, 1:5},\n\u001b[1;32m     29\u001b[0m                  callbacks=[ModelCheckpoint(monitor='val_loss', filepath=weight_path, verbose=1, save_best_only=True),\n\u001b[0;32m---> 30\u001b[0;31m                             EarlyStopping(monitor='val_loss', patience=2, verbose=0, mode='auto')])\n\u001b[0m\u001b[1;32m     31\u001b[0m \u001b[0;34m\u001b[0m\u001b[0m\n\u001b[1;32m     32\u001b[0m \u001b[0;31m# reload the best model\u001b[0m\u001b[0;34m\u001b[0m\u001b[0;34m\u001b[0m\u001b[0;34m\u001b[0m\u001b[0m\n",
            "\u001b[0;32m/usr/local/lib/python3.7/dist-packages/keras/utils/traceback_utils.py\u001b[0m in \u001b[0;36merror_handler\u001b[0;34m(*args, **kwargs)\u001b[0m\n\u001b[1;32m     62\u001b[0m     \u001b[0mfiltered_tb\u001b[0m \u001b[0;34m=\u001b[0m \u001b[0;32mNone\u001b[0m\u001b[0;34m\u001b[0m\u001b[0;34m\u001b[0m\u001b[0m\n\u001b[1;32m     63\u001b[0m     \u001b[0;32mtry\u001b[0m\u001b[0;34m:\u001b[0m\u001b[0;34m\u001b[0m\u001b[0;34m\u001b[0m\u001b[0m\n\u001b[0;32m---> 64\u001b[0;31m       \u001b[0;32mreturn\u001b[0m \u001b[0mfn\u001b[0m\u001b[0;34m(\u001b[0m\u001b[0;34m*\u001b[0m\u001b[0margs\u001b[0m\u001b[0;34m,\u001b[0m \u001b[0;34m**\u001b[0m\u001b[0mkwargs\u001b[0m\u001b[0;34m)\u001b[0m\u001b[0;34m\u001b[0m\u001b[0;34m\u001b[0m\u001b[0m\n\u001b[0m\u001b[1;32m     65\u001b[0m     \u001b[0;32mexcept\u001b[0m \u001b[0mException\u001b[0m \u001b[0;32mas\u001b[0m \u001b[0me\u001b[0m\u001b[0;34m:\u001b[0m  \u001b[0;31m# pylint: disable=broad-except\u001b[0m\u001b[0;34m\u001b[0m\u001b[0;34m\u001b[0m\u001b[0m\n\u001b[1;32m     66\u001b[0m       \u001b[0mfiltered_tb\u001b[0m \u001b[0;34m=\u001b[0m \u001b[0m_process_traceback_frames\u001b[0m\u001b[0;34m(\u001b[0m\u001b[0me\u001b[0m\u001b[0;34m.\u001b[0m\u001b[0m__traceback__\u001b[0m\u001b[0;34m)\u001b[0m\u001b[0;34m\u001b[0m\u001b[0;34m\u001b[0m\u001b[0m\n",
            "\u001b[0;32m/usr/local/lib/python3.7/dist-packages/keras/engine/training.py\u001b[0m in \u001b[0;36mfit\u001b[0;34m(self, x, y, batch_size, epochs, verbose, callbacks, validation_split, validation_data, shuffle, class_weight, sample_weight, initial_epoch, steps_per_epoch, validation_steps, validation_batch_size, validation_freq, max_queue_size, workers, use_multiprocessing)\u001b[0m\n\u001b[1;32m   1382\u001b[0m                 _r=1):\n\u001b[1;32m   1383\u001b[0m               \u001b[0mcallbacks\u001b[0m\u001b[0;34m.\u001b[0m\u001b[0mon_train_batch_begin\u001b[0m\u001b[0;34m(\u001b[0m\u001b[0mstep\u001b[0m\u001b[0;34m)\u001b[0m\u001b[0;34m\u001b[0m\u001b[0;34m\u001b[0m\u001b[0m\n\u001b[0;32m-> 1384\u001b[0;31m               \u001b[0mtmp_logs\u001b[0m \u001b[0;34m=\u001b[0m \u001b[0mself\u001b[0m\u001b[0;34m.\u001b[0m\u001b[0mtrain_function\u001b[0m\u001b[0;34m(\u001b[0m\u001b[0miterator\u001b[0m\u001b[0;34m)\u001b[0m\u001b[0;34m\u001b[0m\u001b[0;34m\u001b[0m\u001b[0m\n\u001b[0m\u001b[1;32m   1385\u001b[0m               \u001b[0;32mif\u001b[0m \u001b[0mdata_handler\u001b[0m\u001b[0;34m.\u001b[0m\u001b[0mshould_sync\u001b[0m\u001b[0;34m:\u001b[0m\u001b[0;34m\u001b[0m\u001b[0;34m\u001b[0m\u001b[0m\n\u001b[1;32m   1386\u001b[0m                 \u001b[0mcontext\u001b[0m\u001b[0;34m.\u001b[0m\u001b[0masync_wait\u001b[0m\u001b[0;34m(\u001b[0m\u001b[0;34m)\u001b[0m\u001b[0;34m\u001b[0m\u001b[0;34m\u001b[0m\u001b[0m\n",
            "\u001b[0;32m/usr/local/lib/python3.7/dist-packages/tensorflow/python/util/traceback_utils.py\u001b[0m in \u001b[0;36merror_handler\u001b[0;34m(*args, **kwargs)\u001b[0m\n\u001b[1;32m    148\u001b[0m     \u001b[0mfiltered_tb\u001b[0m \u001b[0;34m=\u001b[0m \u001b[0;32mNone\u001b[0m\u001b[0;34m\u001b[0m\u001b[0;34m\u001b[0m\u001b[0m\n\u001b[1;32m    149\u001b[0m     \u001b[0;32mtry\u001b[0m\u001b[0;34m:\u001b[0m\u001b[0;34m\u001b[0m\u001b[0;34m\u001b[0m\u001b[0m\n\u001b[0;32m--> 150\u001b[0;31m       \u001b[0;32mreturn\u001b[0m \u001b[0mfn\u001b[0m\u001b[0;34m(\u001b[0m\u001b[0;34m*\u001b[0m\u001b[0margs\u001b[0m\u001b[0;34m,\u001b[0m \u001b[0;34m**\u001b[0m\u001b[0mkwargs\u001b[0m\u001b[0;34m)\u001b[0m\u001b[0;34m\u001b[0m\u001b[0;34m\u001b[0m\u001b[0m\n\u001b[0m\u001b[1;32m    151\u001b[0m     \u001b[0;32mexcept\u001b[0m \u001b[0mException\u001b[0m \u001b[0;32mas\u001b[0m \u001b[0me\u001b[0m\u001b[0;34m:\u001b[0m\u001b[0;34m\u001b[0m\u001b[0;34m\u001b[0m\u001b[0m\n\u001b[1;32m    152\u001b[0m       \u001b[0mfiltered_tb\u001b[0m \u001b[0;34m=\u001b[0m \u001b[0m_process_traceback_frames\u001b[0m\u001b[0;34m(\u001b[0m\u001b[0me\u001b[0m\u001b[0;34m.\u001b[0m\u001b[0m__traceback__\u001b[0m\u001b[0;34m)\u001b[0m\u001b[0;34m\u001b[0m\u001b[0;34m\u001b[0m\u001b[0m\n",
            "\u001b[0;32m/usr/local/lib/python3.7/dist-packages/tensorflow/python/eager/def_function.py\u001b[0m in \u001b[0;36m__call__\u001b[0;34m(self, *args, **kwds)\u001b[0m\n\u001b[1;32m    913\u001b[0m \u001b[0;34m\u001b[0m\u001b[0m\n\u001b[1;32m    914\u001b[0m       \u001b[0;32mwith\u001b[0m \u001b[0mOptionalXlaContext\u001b[0m\u001b[0;34m(\u001b[0m\u001b[0mself\u001b[0m\u001b[0;34m.\u001b[0m\u001b[0m_jit_compile\u001b[0m\u001b[0;34m)\u001b[0m\u001b[0;34m:\u001b[0m\u001b[0;34m\u001b[0m\u001b[0;34m\u001b[0m\u001b[0m\n\u001b[0;32m--> 915\u001b[0;31m         \u001b[0mresult\u001b[0m \u001b[0;34m=\u001b[0m \u001b[0mself\u001b[0m\u001b[0;34m.\u001b[0m\u001b[0m_call\u001b[0m\u001b[0;34m(\u001b[0m\u001b[0;34m*\u001b[0m\u001b[0margs\u001b[0m\u001b[0;34m,\u001b[0m \u001b[0;34m**\u001b[0m\u001b[0mkwds\u001b[0m\u001b[0;34m)\u001b[0m\u001b[0;34m\u001b[0m\u001b[0;34m\u001b[0m\u001b[0m\n\u001b[0m\u001b[1;32m    916\u001b[0m \u001b[0;34m\u001b[0m\u001b[0m\n\u001b[1;32m    917\u001b[0m       \u001b[0mnew_tracing_count\u001b[0m \u001b[0;34m=\u001b[0m \u001b[0mself\u001b[0m\u001b[0;34m.\u001b[0m\u001b[0mexperimental_get_tracing_count\u001b[0m\u001b[0;34m(\u001b[0m\u001b[0;34m)\u001b[0m\u001b[0;34m\u001b[0m\u001b[0;34m\u001b[0m\u001b[0m\n",
            "\u001b[0;32m/usr/local/lib/python3.7/dist-packages/tensorflow/python/eager/def_function.py\u001b[0m in \u001b[0;36m_call\u001b[0;34m(self, *args, **kwds)\u001b[0m\n\u001b[1;32m    945\u001b[0m       \u001b[0;31m# In this case we have created variables on the first call, so we run the\u001b[0m\u001b[0;34m\u001b[0m\u001b[0;34m\u001b[0m\u001b[0;34m\u001b[0m\u001b[0m\n\u001b[1;32m    946\u001b[0m       \u001b[0;31m# defunned version which is guaranteed to never create variables.\u001b[0m\u001b[0;34m\u001b[0m\u001b[0;34m\u001b[0m\u001b[0;34m\u001b[0m\u001b[0m\n\u001b[0;32m--> 947\u001b[0;31m       \u001b[0;32mreturn\u001b[0m \u001b[0mself\u001b[0m\u001b[0;34m.\u001b[0m\u001b[0m_stateless_fn\u001b[0m\u001b[0;34m(\u001b[0m\u001b[0;34m*\u001b[0m\u001b[0margs\u001b[0m\u001b[0;34m,\u001b[0m \u001b[0;34m**\u001b[0m\u001b[0mkwds\u001b[0m\u001b[0;34m)\u001b[0m  \u001b[0;31m# pylint: disable=not-callable\u001b[0m\u001b[0;34m\u001b[0m\u001b[0;34m\u001b[0m\u001b[0m\n\u001b[0m\u001b[1;32m    948\u001b[0m     \u001b[0;32melif\u001b[0m \u001b[0mself\u001b[0m\u001b[0;34m.\u001b[0m\u001b[0m_stateful_fn\u001b[0m \u001b[0;32mis\u001b[0m \u001b[0;32mnot\u001b[0m \u001b[0;32mNone\u001b[0m\u001b[0;34m:\u001b[0m\u001b[0;34m\u001b[0m\u001b[0;34m\u001b[0m\u001b[0m\n\u001b[1;32m    949\u001b[0m       \u001b[0;31m# Release the lock early so that multiple threads can perform the call\u001b[0m\u001b[0;34m\u001b[0m\u001b[0;34m\u001b[0m\u001b[0;34m\u001b[0m\u001b[0m\n",
            "\u001b[0;32m/usr/local/lib/python3.7/dist-packages/tensorflow/python/eager/function.py\u001b[0m in \u001b[0;36m__call__\u001b[0;34m(self, *args, **kwargs)\u001b[0m\n\u001b[1;32m   2955\u001b[0m        filtered_flat_args) = self._maybe_define_function(args, kwargs)\n\u001b[1;32m   2956\u001b[0m     return graph_function._call_flat(\n\u001b[0;32m-> 2957\u001b[0;31m         filtered_flat_args, captured_inputs=graph_function.captured_inputs)  # pylint: disable=protected-access\n\u001b[0m\u001b[1;32m   2958\u001b[0m \u001b[0;34m\u001b[0m\u001b[0m\n\u001b[1;32m   2959\u001b[0m   \u001b[0;34m@\u001b[0m\u001b[0mproperty\u001b[0m\u001b[0;34m\u001b[0m\u001b[0;34m\u001b[0m\u001b[0m\n",
            "\u001b[0;32m/usr/local/lib/python3.7/dist-packages/tensorflow/python/eager/function.py\u001b[0m in \u001b[0;36m_call_flat\u001b[0;34m(self, args, captured_inputs, cancellation_manager)\u001b[0m\n\u001b[1;32m   1852\u001b[0m       \u001b[0;31m# No tape is watching; skip to running the function.\u001b[0m\u001b[0;34m\u001b[0m\u001b[0;34m\u001b[0m\u001b[0;34m\u001b[0m\u001b[0m\n\u001b[1;32m   1853\u001b[0m       return self._build_call_outputs(self._inference_function.call(\n\u001b[0;32m-> 1854\u001b[0;31m           ctx, args, cancellation_manager=cancellation_manager))\n\u001b[0m\u001b[1;32m   1855\u001b[0m     forward_backward = self._select_forward_and_backward_functions(\n\u001b[1;32m   1856\u001b[0m         \u001b[0margs\u001b[0m\u001b[0;34m,\u001b[0m\u001b[0;34m\u001b[0m\u001b[0;34m\u001b[0m\u001b[0m\n",
            "\u001b[0;32m/usr/local/lib/python3.7/dist-packages/tensorflow/python/eager/function.py\u001b[0m in \u001b[0;36mcall\u001b[0;34m(self, ctx, args, cancellation_manager)\u001b[0m\n\u001b[1;32m    502\u001b[0m               \u001b[0minputs\u001b[0m\u001b[0;34m=\u001b[0m\u001b[0margs\u001b[0m\u001b[0;34m,\u001b[0m\u001b[0;34m\u001b[0m\u001b[0;34m\u001b[0m\u001b[0m\n\u001b[1;32m    503\u001b[0m               \u001b[0mattrs\u001b[0m\u001b[0;34m=\u001b[0m\u001b[0mattrs\u001b[0m\u001b[0;34m,\u001b[0m\u001b[0;34m\u001b[0m\u001b[0;34m\u001b[0m\u001b[0m\n\u001b[0;32m--> 504\u001b[0;31m               ctx=ctx)\n\u001b[0m\u001b[1;32m    505\u001b[0m         \u001b[0;32melse\u001b[0m\u001b[0;34m:\u001b[0m\u001b[0;34m\u001b[0m\u001b[0;34m\u001b[0m\u001b[0m\n\u001b[1;32m    506\u001b[0m           outputs = execute.execute_with_cancellation(\n",
            "\u001b[0;32m/usr/local/lib/python3.7/dist-packages/tensorflow/python/eager/execute.py\u001b[0m in \u001b[0;36mquick_execute\u001b[0;34m(op_name, num_outputs, inputs, attrs, ctx, name)\u001b[0m\n\u001b[1;32m     53\u001b[0m     \u001b[0mctx\u001b[0m\u001b[0;34m.\u001b[0m\u001b[0mensure_initialized\u001b[0m\u001b[0;34m(\u001b[0m\u001b[0;34m)\u001b[0m\u001b[0;34m\u001b[0m\u001b[0;34m\u001b[0m\u001b[0m\n\u001b[1;32m     54\u001b[0m     tensors = pywrap_tfe.TFE_Py_Execute(ctx._handle, device_name, op_name,\n\u001b[0;32m---> 55\u001b[0;31m                                         inputs, attrs, num_outputs)\n\u001b[0m\u001b[1;32m     56\u001b[0m   \u001b[0;32mexcept\u001b[0m \u001b[0mcore\u001b[0m\u001b[0;34m.\u001b[0m\u001b[0m_NotOkStatusException\u001b[0m \u001b[0;32mas\u001b[0m \u001b[0me\u001b[0m\u001b[0;34m:\u001b[0m\u001b[0;34m\u001b[0m\u001b[0;34m\u001b[0m\u001b[0m\n\u001b[1;32m     57\u001b[0m     \u001b[0;32mif\u001b[0m \u001b[0mname\u001b[0m \u001b[0;32mis\u001b[0m \u001b[0;32mnot\u001b[0m \u001b[0;32mNone\u001b[0m\u001b[0;34m:\u001b[0m\u001b[0;34m\u001b[0m\u001b[0;34m\u001b[0m\u001b[0m\n",
            "\u001b[0;31mKeyboardInterrupt\u001b[0m: "
          ]
        }
      ]
    },
    {
      "cell_type": "markdown",
      "metadata": {
        "id": "WxyxDHv3kcrx"
      },
      "source": [
        "## Evaluation of the model performance"
      ]
    },
    {
      "cell_type": "code",
      "metadata": {
        "id": "djtCfcu1kfLX"
      },
      "source": [
        "from sklearn.metrics import auc, classification_report, confusion_matrix, accuracy_score, roc_curve, roc_auc_score, f1_score, precision_recall_curve\n",
        "\n",
        "# make prediction on the test dataset\n",
        "test_p = model.predict(test_x, BATCH_SIZE).flatten()\n",
        "test_p_valid = test_p[valid_mask[test_mask]]\n",
        "\n",
        "precision, recall, thmbps = precision_recall_curve(test_y_valid, test_p_valid)\n",
        "auprc = auc(recall, precision)\n",
        "\n",
        "fpr, tpr, thmbps = roc_curve(test_y_valid, test_p_valid)\n",
        "auroc = auc(fpr, tpr)\n",
        "\n",
        "thval = 0.5\n",
        "f1 = f1_score(test_y_valid, test_p_valid > thval)\n",
        "acc = accuracy_score(test_y_valid, test_p_valid > thval)\n",
        "tn, fp, fn, tp = confusion_matrix(test_y_valid, test_p_valid > thval).ravel()\n",
        "\n",
        "testres = 'auroc={:.3f}, auprc={:.3f} acc={:.3f}, F1={:.3f}, PPV={:.1f}, NPV={:.1f}, TN={}, fp={}, fn={}, TP={}'.format(auroc, auprc, acc, f1, tp/(tp+fp)*100, tn/(tn+fn)*100, tn, fp, fn, tp)\n",
        "print(testres)\n",
        "\n",
        "# rename final output folder\n",
        "odir = testname + ' ' + testres\n",
        "os.rename(tempdir, odir)\n",
        "\n",
        "# auroc curve\n",
        "plt.figure(figsize=(10, 10))\n",
        "plt.plot(fpr, tpr)\n",
        "plt.xlabel('False Positive Rate')\n",
        "plt.ylabel('True Positive Rate')\n",
        "plt.savefig('{}/auroc.png'.format(odir))\n",
        "plt.close()\n",
        "\n",
        "# auprc curve\n",
        "plt.figure(figsize=(10, 10))\n",
        "plt.plot(recall, precision)\n",
        "plt.xlabel('Recall')\n",
        "plt.ylabel('Precision')\n",
        "plt.savefig('{}/auprc.png'.format(odir))\n",
        "plt.close()"
      ],
      "execution_count": null,
      "outputs": []
    },
    {
      "cell_type": "markdown",
      "metadata": {
        "id": "MRE-MRKMkjTm"
      },
      "source": [
        "## Plotting each case in the test dataset"
      ]
    },
    {
      "cell_type": "code",
      "metadata": {
        "id": "TREy3Tuhklqk"
      },
      "source": [
        "for caseid in caseids_test:\n",
        "    case_mask = (c[test_mask] == caseid)\n",
        "    case_len = np.sum(case_mask)\n",
        "    if case_len == 0:\n",
        "        continue\n",
        "\n",
        "    case_x = test_x[case_mask]\n",
        "    case_y = test_y[case_mask]\n",
        "    case_p = test_p[case_mask]\n",
        "    case_valid_mask = valid_mask[test_mask][case_mask]\n",
        "    case_p[~case_valid_mask] = np.nan\n",
        "    if sum(case_valid_mask) == 0:\n",
        "        continue\n",
        "    \n",
        "    # calculate error for this case\n",
        "    case_rmse = np.nanmean(np.square(case_y - case_p)) ** 0.5\n",
        "    print('{}\\t{}\\t'.format(caseid, case_rmse))\n",
        "\n",
        "    # draw\n",
        "    plt.figure(figsize=(20, 4))\n",
        "    plt.xlim([0, case_len])\n",
        "    t = np.arange(0, case_len)\n",
        "\n",
        "    # red bars for the event\n",
        "    ax1 = plt.gca()\n",
        "    for i in range(len(case_y)):\n",
        "        if case_y[i]:\n",
        "            ax1.axvspan(i + MINUTES_AHEAD * 6, i + MINUTES_AHEAD * 6 + 1, color='r', alpha=0.1, lw=0)\n",
        "        if not case_valid_mask[i]:\n",
        "            ax1.axvspan(i, i + 1, color='k', alpha=0.2, lw=0)\n",
        "\n",
        "    # 65 mmHg bar\n",
        "    ax1.axhline(y=65, color='r', alpha=0.5)\n",
        "    ax1.plot(t + 10, np.nanmean(test_x[case_mask], axis=1) * 65 + 65, color='r')\n",
        "    ax1.set_ylim([0, 150])\n",
        "\n",
        "    ax2 = ax1.twinx()\n",
        "    \n",
        "    # draw valid samples only\n",
        "    ax2.plot(t, case_p)\n",
        "    ax2.set_ylim([0, 1])\n",
        "    \n",
        "    # save\n",
        "    plt.show()"
      ],
      "execution_count": null,
      "outputs": []
    }
  ]
}