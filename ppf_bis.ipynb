{
  "nbformat": 4,
  "nbformat_minor": 0,
  "metadata": {
    "colab": {
      "name": "ppf_bis.ipynb",
      "provenance": [],
      "collapsed_sections": [],
      "toc_visible": true,
      "include_colab_link": true
    },
    "kernelspec": {
      "name": "python3",
      "display_name": "Python 3"
    },
    "accelerator": "GPU"
  },
  "cells": [
    {
      "cell_type": "markdown",
      "metadata": {
        "id": "view-in-github",
        "colab_type": "text"
      },
      "source": [
        "<a href=\"https://colab.research.google.com/github/vitaldb/examples/blob/master/ppf_bis.ipynb\" target=\"_parent\"><img src=\"https://colab.research.google.com/assets/colab-badge.svg\" alt=\"Open In Colab\"/></a>"
      ]
    },
    {
      "cell_type": "markdown",
      "metadata": {
        "id": "Yy0WHpW3X9oX",
        "colab_type": "text"
      },
      "source": [
        "# 프로포폴, 레미펜타닐 주입 속도로부터 BIS 예측\n",
        "\n",
        "## VitalDB 데이터 셋 이용\n",
        "본 예제에서는 오픈 생체 신호 데이터셋인 VitalDB를 이용하는 모든 사용자는 반드시 아래 Data Use Agreement에 동의하여야 합니다.\n",
        "\n",
        "https://vitaldb.net/data-bank/?query=guide&documentId=13qqajnNZzkN7NZ9aXnaQ-47NWy7kx-a6gbrcEsi-gak&sectionId=h.usmoena3l4rb\n",
        "\n",
        "동의하지 않을 경우 이 창을 닫으세요."
      ]
    },
    {
      "cell_type": "markdown",
      "metadata": {
        "id": "9SwIjOX9frk6",
        "colab_type": "text"
      },
      "source": [
        "## 본 프로그램의 옵션들"
      ]
    },
    {
      "cell_type": "code",
      "metadata": {
        "id": "Ch6czkFZfw_G",
        "colab_type": "code",
        "colab": {}
      },
      "source": [
        "import numpy as np\n",
        "import pandas as pd\n",
        "import os\n",
        "\n",
        "LSTM_TIMEPOINTS = 180\n",
        "LSTM_NODES = 6\n",
        "FNN_NODES = 16\n",
        "BATCH_SIZE = 256\n",
        "MAX_CASES = 10  # 본 예제에서 사용할 최대 case 수"
      ],
      "execution_count": null,
      "outputs": []
    },
    {
      "cell_type": "markdown",
      "metadata": {
        "id": "ZjxFdZTXBZWb",
        "colab_type": "text"
      },
      "source": [
        "# Data loading"
      ]
    },
    {
      "cell_type": "markdown",
      "metadata": {
        "id": "AabTJc6dflSy",
        "colab_type": "text"
      },
      "source": [
        "## 트랙 데이터 가져오기\n"
      ]
    },
    {
      "cell_type": "code",
      "metadata": {
        "id": "2qsz5TKVf6Nb",
        "colab_type": "code",
        "colab": {}
      },
      "source": [
        "df_trks = pd.read_csv('https://api.vitaldb.net/v2/trks')\n",
        "ppf_cases = set(df_trks[df_trks['tname'] == 'Orchestra/PPF20_VOL']['caseid'])  # print(len(ppf_cases))  # 3523\n",
        "rft_cases = set(df_trks[df_trks['tname'] == 'Orchestra/RFTN20_VOL']['caseid'])  # print(len(rft_cases))  # 4791\n",
        "tiva_cases = ppf_cases & rft_cases  # print(len(tiva_cases))  # 3457\n",
        "bis_cases = set(df_trks[df_trks['tname'] == 'BIS/BIS']['caseid'])  # print(len(bis_cases))  # 5867\n",
        "study_cases = sorted(list(tiva_cases & bis_cases))  # print(len(study_cases))  # 3289"
      ],
      "execution_count": null,
      "outputs": []
    },
    {
      "cell_type": "markdown",
      "metadata": {
        "id": "DosPYRjLfcoB",
        "colab_type": "text"
      },
      "source": [
        "## 임상 데이터 가져오기 (나이, 성별, 키, 몸무게)\n",
        "- clinical informaiton을 df_cases에 읽어오기\n",
        "- 사용할 age, sex, weight, height 가져오기\n",
        "- 성별이 F(=female)은 0으로, M(=male)은 1로 치환\n",
        "- 18세 이상, 몸무게 35이상 기준으로 case 준비(inclusion, exclusion criteria)"
      ]
    },
    {
      "cell_type": "code",
      "metadata": {
        "id": "hw8dXeGXfg0r",
        "colab_type": "code",
        "colab": {}
      },
      "source": [
        "df_cases = pd.read_csv(\"https://api.vitaldb.net/cases\")\n",
        "cases = df_cases.loc[[caseid in study_cases for caseid in df_cases['caseid']], ['caseid', 'age', 'sex', 'weight', 'height']]\n",
        "cases['sex'] = cases['sex'] == 'F'\n",
        "cases = cases[cases['age'] > 18]  \n",
        "cases = cases[cases['weight'] > 35]  \n",
        "cases = cases[1:MAX_CASES]"
      ],
      "execution_count": null,
      "outputs": []
    },
    {
      "cell_type": "markdown",
      "metadata": {
        "id": "5gHJ4YRbnmWJ",
        "colab_type": "text"
      },
      "source": [
        "## 1.2 임상 데이터 쪼개놓기\n",
        "- 전체 case id 모으고(caseids)\n",
        "- caseid별로 나이, 성별, 키, 몸무게 담기(caseid_aswh)\n",
        "- 최대로 로딩 가능한 case 수 알기(ncase) \n",
        "- 그리고 caseid를 무작위로 섞음(.shuffle)\n",
        "- dataset을 담을 변수를 설정(x_ppf, x_rrf, x_aswh, x_caseid, y)"
      ]
    },
    {
      "cell_type": "code",
      "metadata": {
        "id": "8n2o5_2QoFy5",
        "colab_type": "code",
        "colab": {}
      },
      "source": [
        "caseids = cases.values[:,0]\n",
        "caseid_aswh = {row[0]: row[1:].astype(float) for row in cases.values}\n",
        "ncase = min(MAX_CASES, len(caseids))\n",
        "np.random.shuffle(caseids)\n",
        "\n",
        "# vital 파일로부터 dataset 을 만듬\n",
        "x_ppf = []  # 각 레코드의 프로포폴 주입량\n",
        "x_rft = []  # 각 레코드의 레미펜타닐 주입량\n",
        "x_aswh = []  # 각 레코드의 나이, 성별, 키, 몸무게\n",
        "x_caseid = []  # 각 레코드의 caseid\n",
        "y = []  # 각 레코드의 출력값 (bis)"
      ],
      "execution_count": null,
      "outputs": []
    },
    {
      "cell_type": "markdown",
      "metadata": {
        "id": "kd-231U4o4V9",
        "colab_type": "text"
      },
      "source": [
        "## 1.3 각 트랙 로딩할 수 있는 함수 준비\n",
        "- https://colab.research.google.com/github/vitaldb/pyvital/blob/master/vitaldb.ipynb?authuser=2#scrollTo=9SwIjOX9frk6 에서 다룬 [Numeric 트랙의 정규화], [여러 트랙을 한번에 로딩] 을 참고"
      ]
    },
    {
      "cell_type": "code",
      "metadata": {
        "id": "izzNklhBpMLx",
        "colab_type": "code",
        "colab": {}
      },
      "source": [
        "def load_trk(tid, interval=1):\n",
        "    try:\n",
        "        url = 'https://api.vitaldb.net/' + tid\n",
        "        dtvals = pd.read_csv(url).values\n",
        "    except:\n",
        "        return np.empty(0)\n",
        "    if len(dtvals) == 0:\n",
        "        return np.empty(0)\n",
        "    dtvals[:,0] /= interval  # convert time to row\n",
        "    trklen = int(np.nanmax(dtvals[:,0])) + 1  # find maximum index (array length)\n",
        "    ret = np.full(trklen, np.nan)  # create a dense array\n",
        "    for idx, val in dtvals:  # copy values\n",
        "        ret[int(idx)] = val\n",
        "    return ret\n",
        "\n",
        "\n",
        "def load_trks(tids, interval=1):\n",
        "    trks = []\n",
        "    maxlen = 0\n",
        "    for tid in tids:\n",
        "        trk = load_trk(tid, interval)\n",
        "        trks.append(trk)\n",
        "        if len(trk) > maxlen:\n",
        "            maxlen = len(trk)\n",
        "    if maxlen == 0:\n",
        "        return np.empty(0)\n",
        "    ret = np.full((maxlen, len(tids)), np.nan)  # create a dense array\n",
        "    for i in range(len(tids)):  # copy values\n",
        "        ret[:len(trks[i]), i] = trks[i]\n",
        "    return ret\n",
        "    "
      ],
      "execution_count": null,
      "outputs": []
    },
    {
      "cell_type": "markdown",
      "metadata": {
        "id": "aclunhUHxeyH",
        "colab_type": "text"
      },
      "source": [
        "# DATA preparation"
      ]
    },
    {
      "cell_type": "markdown",
      "metadata": {
        "id": "aBusNmsKpc2Z",
        "colab_type": "text"
      },
      "source": [
        "## 2.0 트랙 데이터(df_trks)에서 유효한 데이터 로딩\n",
        "- propofol(ppf20), remifentanyl(rftn20), bis를 로딩한다\n",
        "- 기록된 데이터가 짧거나, drug infusion이 실제 없었던 케이스, bis값이 적절하지 않은 케이스는 거르기\n",
        "- 결측값 및 음수 처리"
      ]
    },
    {
      "cell_type": "code",
      "metadata": {
        "id": "h6CHJpySrDxG",
        "colab_type": "code",
        "colab": {}
      },
      "source": [
        "PPF_DOSE = 0\n",
        "RFT_DOSE = 1\n",
        "BIS = 2\n",
        "icase = 0\n",
        "\n",
        "for caseid in caseids:\n",
        "    ppf20_tid = df_trks[(df_trks['caseid'] == caseid) & (df_trks['tname'] == 'Orchestra/PPF20_VOL')]['tid'].values[0]\n",
        "    rftn20_tid = df_trks[(df_trks['caseid'] == caseid) & (df_trks['tname'] == 'Orchestra/RFTN20_VOL')]['tid'].values[0]\n",
        "    bis_tid = df_trks[(df_trks['caseid'] == caseid) & (df_trks['tname'] == 'BIS/BIS')]['tid'].values[0]\n",
        "    vals = load_trks([ppf20_tid, rftn20_tid, bis_tid], 10) #10s 간격 추출\n",
        "\n",
        "        # 2시간 이내의 case 들은 사용하지 않음, 720 =  2hr * 60min/hr * 6개/min\n",
        "    if vals.shape[0] < 720:\n",
        "        continue\n",
        "\n",
        "    # 결측값은 측정된 마지막 값으로 대체\n",
        "    vals = pd.DataFrame(vals).fillna(method='ffill').values\n",
        "    vals = np.nan_to_num(vals, 0)  # 맨 앞 쪽 결측값은 0으로 대체\n",
        "\n",
        "    # drug 주입을 하지 않은 경우 혹은 bis를 켜지 않은 경우 사용하지 않음\n",
        "    if (np.max(vals, axis=0) <= 1).any():\n",
        "        continue\n",
        "\n",
        "    # drug infusion 시작 시간을 구하고 그 이전을 삭제\n",
        "    first_ppf_idx = np.where(vals[:, PPF_DOSE] > 1)[0][0]\n",
        "    first_rft_idx = np.where(vals[:, RFT_DOSE] > 1)[0][0]\n",
        "    first_drug_idx = min(first_ppf_idx, first_rft_idx)\n",
        "    vals = vals[first_drug_idx:, :]\n",
        "\n",
        "    # volume 을 rate로 변경\n",
        "    vals[1:, PPF_DOSE] -= vals[:-1, PPF_DOSE]\n",
        "    vals[1:, RFT_DOSE] -= vals[:-1, RFT_DOSE]\n",
        "    vals[0, PPF_DOSE] = 0\n",
        "    vals[0, RFT_DOSE] = 0\n",
        "\n",
        "    # 음수 값(volume 감소)을 0으로 대체\n",
        "    vals[vals < 0] = 0\n",
        "\n",
        "    # 유효한 bis 값들을 가져옴\n",
        "    valid_bis_idx = np.where(vals[:, BIS] > 0)[0]\n",
        "\n",
        "    # 2시간 이내의 case들은 사용하지 않음\n",
        "    if valid_bis_idx.shape[0] < 720:\n",
        "        continue\n",
        "\n",
        "    # bis 값의 첫 값이 80 이하이거나 마지막 값이 70 이하인 case는 사용하지 않음\n",
        "    first_bis_idx = valid_bis_idx[0]\n",
        "    last_bis_idx = valid_bis_idx[-1]\n",
        "    if vals[first_bis_idx, BIS] < 80 or vals[last_bis_idx, BIS] < 70:\n",
        "        continue\n",
        "    \n",
        "    \n",
        "\n",
        "    icase += 1\n",
        "    print('loading ({}/{}): caseid {:.0f}, first bis {:.1f}, last bis {:.1f}'.format(icase, ncase, caseid, vals[first_bis_idx, BIS], vals[last_bis_idx, BIS]))\n",
        "\n",
        "    # infusion 시작 전 LSTM_TIMEPOINTS 동안의 dose와 bis를 모두 0으로 세팅\n",
        "    vals = np.vstack((np.zeros((LSTM_TIMEPOINTS - 1, 3)), vals))\n",
        "\n",
        "\n",
        "\n",
        "    # 현 case의 나이, 성별, 키, 몸무게를 가져옴\n",
        "    aswh = caseid_aswh[caseid]\n",
        "\n",
        "    # case 시작 부터 종료 까지 dataset 에 넣음\n",
        "    for irow in range(1, vals.shape[0] - LSTM_TIMEPOINTS - 1):\n",
        "        bis = vals[irow + LSTM_TIMEPOINTS, BIS]\n",
        "        if bis == 0:\n",
        "            continue\n",
        "\n",
        "        # 데이터셋에 입력값을 넣음\n",
        "        x_ppf.append(vals[irow:irow + LSTM_TIMEPOINTS, PPF_DOSE])\n",
        "        x_rft.append(vals[irow:irow + LSTM_TIMEPOINTS, RFT_DOSE])\n",
        "        x_aswh.append(aswh)\n",
        "        x_caseid.append(caseid)\n",
        "        y.append(bis)\n",
        "\n",
        "    if icase >= ncase:\n",
        "        break\n",
        "    "
      ],
      "execution_count": null,
      "outputs": []
    },
    {
      "cell_type": "markdown",
      "metadata": {
        "id": "NwwLDouezDLc",
        "colab_type": "text"
      },
      "source": [
        "## 2.1 확인된 데이터 담기"
      ]
    },
    {
      "cell_type": "code",
      "metadata": {
        "id": "bHa2fte0zGEv",
        "colab_type": "code",
        "colab": {}
      },
      "source": [
        "# 모든 케이스 확인, xppf... y까지 담은후,\n",
        "# 입력 데이터셋을 numpy array로 변경\n",
        "\n",
        "x_ppf = np.array(x_ppf)[..., None]  # LSTM 에 넣기 위해서는 3차원이어야 한다. 마지막 차원을 추가\n",
        "x_rft = np.array(x_rft)[..., None]\n",
        "x_aswh = np.array(x_aswh)\n",
        "y = np.array(y)\n",
        "x_caseid = np.array(x_caseid)\n",
        "\n",
        "# 최종적으로 로딩 된 caseid\n",
        "caseids = np.unique(x_caseid)\n",
        "\n",
        "# normalize data\n",
        "x_aswh = (x_aswh - np.mean(x_aswh, axis=0)) / np.std(x_aswh, axis=0)\n",
        "\n",
        "# bis 값은 최대값이 98 이므로 98로 나눠 normalization\n",
        "y /= 98\n"
      ],
      "execution_count": null,
      "outputs": []
    },
    {
      "cell_type": "markdown",
      "metadata": {
        "id": "VpMowosc0Bzf",
        "colab_type": "text"
      },
      "source": [
        "## 2.2 데이터를 학습(train)과 테스트(test)로 나누기"
      ]
    },
    {
      "cell_type": "code",
      "metadata": {
        "id": "AjdvjsJ10JAe",
        "colab_type": "code",
        "colab": {}
      },
      "source": [
        "# train, test case로 나눔\n",
        "ntest = int(ncase * 0.1)\n",
        "nval = int(ncase * 0.1)\n",
        "ntrain = ncase - nval - ntest\n",
        "train_caseids = caseids[:ntrain]\n",
        "val_caseids = caseids[ntrain:ntrain + nval]\n",
        "test_caseids = caseids[ncase - ntest:ncase]\n",
        "\n",
        "# train set과 test set 으로 나눔\n",
        "train_mask = np.array([caseid in train_caseids for caseid in x_caseid])\n",
        "val_mask = np.array([caseid in val_caseids for caseid in x_caseid])\n",
        "test_mask = np.array([caseid in test_caseids for caseid in x_caseid])\n",
        "x_train = [x_ppf[train_mask], x_rft[train_mask], x_aswh[train_mask]]\n",
        "y_train = y[train_mask]\n",
        "x_val = [x_ppf[val_mask], x_rft[val_mask], x_aswh[val_mask]]\n",
        "y_val = y[val_mask]\n",
        "x_test = [x_ppf[test_mask], x_rft[test_mask], x_aswh[test_mask]]\n",
        "y_test = y[test_mask]\n",
        "\n",
        "print('train: {} cases {} samples'.format(len(train_caseids), np.sum(train_mask)))\n",
        "print('val: {} cases {} samples'.format(len(val_caseids), np.sum(val_mask)))\n",
        "print('test: {} cases {} samples'.format(len(test_caseids), np.sum(test_mask)))"
      ],
      "execution_count": null,
      "outputs": []
    },
    {
      "cell_type": "markdown",
      "metadata": {
        "id": "iPi6FIbB0NkF",
        "colab_type": "text"
      },
      "source": [
        "# Model building\n"
      ]
    },
    {
      "cell_type": "markdown",
      "metadata": {
        "id": "YqaAFBgJ0gdq",
        "colab_type": "text"
      },
      "source": [
        "## 3.1 필요한 module과 output폴더"
      ]
    },
    {
      "cell_type": "code",
      "metadata": {
        "id": "uytYU2Fu0rPi",
        "colab_type": "code",
        "colab": {}
      },
      "source": [
        "from keras.models import Model, load_model\n",
        "from keras.layers import Dense, Dropout, LSTM, Input, concatenate\n",
        "from keras.callbacks import ModelCheckpoint, EarlyStopping\n",
        "\n",
        "# 출력 폴더를 생성\n",
        "odir = 'output'\n",
        "if not os.path.exists(odir):\n",
        "    os.mkdir(odir)\n",
        "weight_path = odir + \"/weights.hdf5\""
      ],
      "execution_count": null,
      "outputs": []
    },
    {
      "cell_type": "markdown",
      "metadata": {
        "id": "6GjQ2I9M0t2p",
        "colab_type": "text"
      },
      "source": [
        "## 3.2 학습마다 데이터를 넘겨줄 함수"
      ]
    },
    {
      "cell_type": "code",
      "metadata": {
        "id": "PzhXUbK901SV",
        "colab_type": "code",
        "colab": {}
      },
      "source": [
        "def gen():\n",
        "    global BATCH_SIZE, x_ppf, x_rft, x_aswh, y, train_mask\n",
        "    train_idx = np.where(train_mask)[0]\n",
        "    while True:\n",
        "        batch_idx = np.random.choice(train_idx, BATCH_SIZE)\n",
        "        yield [np.take(x_ppf, batch_idx, axis=0), np.take(x_rft, batch_idx, axis=0), np.take(x_aswh, batch_idx, axis=0)], [np.take(y, batch_idx, axis=0)]"
      ],
      "execution_count": null,
      "outputs": []
    },
    {
      "cell_type": "markdown",
      "metadata": {
        "id": "tltb0zLu05uA",
        "colab_type": "text"
      },
      "source": [
        "## 3.3 모델 설계\n"
      ]
    },
    {
      "cell_type": "code",
      "metadata": {
        "id": "bIi7ipLg1MK5",
        "colab_type": "code",
        "colab": {}
      },
      "source": [
        "input_cov = Input(batch_shape=(None, 4))\n",
        "input_ppf = Input(batch_shape=(None, LSTM_TIMEPOINTS, 1))\n",
        "input_rft = Input(batch_shape=(None, LSTM_TIMEPOINTS, 1))\n",
        "output_ppf = LSTM(LSTM_NODES, input_shape=(LSTM_TIMEPOINTS, 1), activation='tanh')(input_ppf)\n",
        "output_rft = LSTM(LSTM_NODES, input_shape=(LSTM_TIMEPOINTS, 1), activation='tanh')(input_rft)\n",
        "output = concatenate([output_ppf, output_rft, input_cov])\n",
        "output = Dense(FNN_NODES, activation='relu')(output)\n",
        "output = Dropout(0.2)(output)\n",
        "output = Dense(1, activation='sigmoid')(output)\n"
      ],
      "execution_count": null,
      "outputs": []
    },
    {
      "cell_type": "markdown",
      "metadata": {
        "id": "9McBQdgv1R3N",
        "colab_type": "text"
      },
      "source": [
        "## 3.4 모델 학습"
      ]
    },
    {
      "cell_type": "code",
      "metadata": {
        "id": "rK-TN7gb1UAU",
        "colab_type": "code",
        "colab": {}
      },
      "source": [
        "model = Model(inputs=[input_ppf, input_rft, input_cov], outputs=[output])\n",
        "model.compile(loss='MSE', optimizer='adam')\n",
        "hist = model.fit_generator(gen(), validation_data=[x_val, y_val], epochs=100, steps_per_epoch=100,\n",
        "                           callbacks=[ModelCheckpoint(monitor='val_loss', filepath=weight_path, verbose=1, save_best_only=True),\n",
        "                                      EarlyStopping(monitor='val_loss', patience=0, verbose=0, mode='auto')])\n",
        "# model.load_weights(weight_path)"
      ],
      "execution_count": null,
      "outputs": []
    },
    {
      "cell_type": "markdown",
      "metadata": {
        "id": "SeVpuglt1W0k",
        "colab_type": "text"
      },
      "source": [
        "## 모델 성능 평가 및 그림 출력"
      ]
    },
    {
      "cell_type": "code",
      "metadata": {
        "id": "GNA1cUY71cxs",
        "colab_type": "code",
        "colab": {}
      },
      "source": [
        "y_pred = model.predict(x_test).flatten()\n",
        "test_err = y_pred - y_test\n",
        "test_rmse = np.mean(np.square(test_err)) ** 0.5\n",
        "\n",
        "print(\"Test RMSE: {}\".format(test_rmse))\n",
        "\n",
        "# 각 case에서 예측 결과를 그림으로 확인\n",
        "for caseid in test_caseids:\n",
        "    case_mask = (x_caseid[test_mask] == caseid)\n",
        "    case_len = np.sum(case_mask)\n",
        "    if case_len == 0:\n",
        "        continue\n",
        "\n",
        "    case_rmse = np.mean(np.square(test_err[case_mask])) ** 0.5\n",
        "    print('{}\\t{}'.format(caseid, case_rmse))\n",
        "\n",
        "import matplotlib.pyplot as plt\n",
        "    t = np.arange(0, case_len)\n",
        "    plt.figure(figsize=(20, 5))\n",
        "    plt.plot(t, y_test[case_mask], t, y_pred[case_mask])\n",
        "    plt.xlim([0, case_len])\n",
        "    plt.ylim([0, 1])\n",
        "    plt.savefig('{}/{:.3f}_{}.png'.format(odir, case_rmse, caseid))\n",
        "    plt.close()"
      ],
      "execution_count": null,
      "outputs": []
    }
  ]
}