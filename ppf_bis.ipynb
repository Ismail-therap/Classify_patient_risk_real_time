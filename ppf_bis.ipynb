{
  "nbformat": 4,
  "nbformat_minor": 0,
  "metadata": {
    "colab": {
      "name": "ppf_bis.ipynb",
      "provenance": [],
      "collapsed_sections": [
        "Yy0WHpW3X9oX",
        "9SwIjOX9frk6",
        "ZjxFdZTXBZWb",
        "AabTJc6dflSy",
        "DosPYRjLfcoB",
        "5gHJ4YRbnmWJ",
        "aBusNmsKpc2Z",
        "NwwLDouezDLc",
        "VpMowosc0Bzf"
      ],
      "include_colab_link": true
    },
    "kernelspec": {
      "name": "python3",
      "display_name": "Python 3"
    },
    "accelerator": "GPU"
  },
  "cells": [
    {
      "cell_type": "markdown",
      "metadata": {
        "id": "view-in-github",
        "colab_type": "text"
      },
      "source": [
        "<a href=\"https://colab.research.google.com/github/vitaldb/examples/blob/master/ppf_bis.ipynb\" target=\"_parent\"><img src=\"https://colab.research.google.com/assets/colab-badge.svg\" alt=\"Open In Colab\"/></a>"
      ]
    },
    {
      "cell_type": "markdown",
      "metadata": {
        "id": "Yy0WHpW3X9oX"
      },
      "source": [
        "# 약물 효과 예측 인공지능 모델 실습\n",
        "프로포폴, 레미펜타닐 투여 후 마취 심도(bispectral index) 예측 모델\n",
        "\n",
        "## VitalDB 데이터 셋 이용\n",
        "본 예제에서는 오픈 생체 신호 데이터셋인 VitalDB를 이용하는 모든 사용자는 반드시 아래 Data Use Agreement에 동의하여야 합니다.\n",
        "\n",
        "https://vitaldb.net/data-bank/?query=guide&documentId=13qqajnNZzkN7NZ9aXnaQ-47NWy7kx-a6gbrcEsi-gak&sectionId=h.usmoena3l4rb\n",
        "\n",
        "동의하지 않을 경우 이 창을 닫으세요."
      ]
    },
    {
      "cell_type": "markdown",
      "metadata": {
        "id": "9SwIjOX9frk6"
      },
      "source": [
        "## 본 프로그램에서 이용할 라이브러리 및 옵션들"
      ]
    },
    {
      "cell_type": "code",
      "metadata": {
        "id": "Ch6czkFZfw_G",
        "outputId": "7d725897-328e-44d7-ab61-d41a6b80c48b",
        "colab": {
          "base_uri": "https://localhost:8080/",
          "height": 233
        }
      },
      "source": [
        "!wget -N https://raw.githubusercontent.com/vitaldb/vitalutils/master/python/vitaldb.py\n",
        "\n",
        "import vitaldb\n",
        "import numpy as np\n",
        "import pandas as pd\n",
        "\n",
        "LSTM_TIMEPOINTS = 180\n",
        "LSTM_NODES = 8\n",
        "FNN_NODES = 16\n",
        "BATCH_SIZE = 256  # 한번에 처리할 레코드 수 (GPU 메모리 용량에 따라 결정)\n",
        "MAX_CASES = 50  # 본 예제에서 사용할 최대 case 수"
      ],
      "execution_count": 63,
      "outputs": [
        {
          "output_type": "stream",
          "text": [
            "--2020-10-24 05:17:42--  https://raw.githubusercontent.com/vitaldb/vitalutils/master/python/vitaldb.py\n",
            "Resolving raw.githubusercontent.com (raw.githubusercontent.com)... 151.101.0.133, 151.101.64.133, 151.101.128.133, ...\n",
            "Connecting to raw.githubusercontent.com (raw.githubusercontent.com)|151.101.0.133|:443... connected.\n",
            "HTTP request sent, awaiting response... 200 OK\n",
            "Length: 15111 (15K) [text/plain]\n",
            "Saving to: ‘vitaldb.py’\n",
            "\n",
            "\rvitaldb.py            0%[                    ]       0  --.-KB/s               \rvitaldb.py          100%[===================>]  14.76K  --.-KB/s    in 0.001s  \n",
            "\n",
            "Last-modified header missing -- time-stamps turned off.\n",
            "2020-10-24 05:17:43 (11.8 MB/s) - ‘vitaldb.py’ saved [15111/15111]\n",
            "\n"
          ],
          "name": "stdout"
        }
      ]
    },
    {
      "cell_type": "markdown",
      "metadata": {
        "id": "ZjxFdZTXBZWb"
      },
      "source": [
        "# Data loading"
      ]
    },
    {
      "cell_type": "markdown",
      "metadata": {
        "id": "AabTJc6dflSy"
      },
      "source": [
        "VitalDB Web API를 통해 데이터 로딩\n"
      ]
    },
    {
      "cell_type": "code",
      "metadata": {
        "id": "0b_TyfelWg6e"
      },
      "source": [
        "df_trks = pd.read_csv('https://api.vitaldb.net/trks')\n",
        "df_cases = pd.read_csv(\"https://api.vitaldb.net/cases\")\n",
        "df_cases['sex'] = (df_cases['sex'] == 'F').astype(int)  # female은 1으로, male 은 0으로 치환"
      ],
      "execution_count": null,
      "outputs": []
    },
    {
      "cell_type": "markdown",
      "metadata": {
        "id": "xzuBetNgW5xv"
      },
      "source": [
        "Case ID 선택(inclusion, exclusion criteria)\n",
        "- 2시간 이상\n",
        "- 전신 마취\n",
        "- 18세 이상\n",
        "- PPF20_VOL, RFTN20_VOL, PPF20_CE, RFTN20_CE, BIS 트랙이 존재\n",
        "- 몸무게 35 kg 이상"
      ]
    },
    {
      "cell_type": "code",
      "metadata": {
        "id": "2qsz5TKVf6Nb"
      },
      "source": [
        "caseids = list(\n",
        "  set(df_trks[df_trks['tname'] == 'Orchestra/PPF20_VOL']['caseid']) &\n",
        "  set(df_trks[df_trks['tname'] == 'Orchestra/RFTN20_VOL']['caseid']) &\n",
        "  set(df_trks[df_trks['tname'] == 'Orchestra/PPF20_CE']['caseid']) &\n",
        "  set(df_trks[df_trks['tname'] == 'Orchestra/RFTN20_CE']['caseid']) &\n",
        "  set(df_trks[df_trks['tname'] == 'BIS/BIS']['caseid']) & \n",
        "  set(df_cases[df_cases['age'] > 18]['caseid']) & \n",
        "  set(df_cases[df_cases['weight'] > 35]['caseid']) &\n",
        "  set(df_cases[df_cases['caseend'] > 7200]['caseid']) &\n",
        "  set(df_cases[df_cases['ane_type'] == 'General']['caseid'])\n",
        "  )\n",
        "np.random.shuffle(caseids)"
      ],
      "execution_count": null,
      "outputs": []
    },
    {
      "cell_type": "markdown",
      "metadata": {
        "id": "aBusNmsKpc2Z"
      },
      "source": [
        "# 데이터 전처리\n",
        "- dataset을 담을 변수를 설정\n",
        "- propofol(ppf20), remifentanil(rftn20), bis를 로딩한다\n",
        "- 기록된 데이터가 짧거나, drug infusion이 실제 없었던 케이스, bis값이 적절하지 않은 케이스는 거르기\n",
        "- 결측값 및 음수 처리"
      ]
    },
    {
      "cell_type": "code",
      "metadata": {
        "id": "h6CHJpySrDxG"
      },
      "source": [
        "# vital 파일로부터 dataset 을 만듬\n",
        "x_ppf_dose = []  # 각 레코드의 프로포폴 주입량\n",
        "x_rft_dose = []  # 각 레코드의 레미펜타닐 주입량\n",
        "x_aswh = []  # 각 레코드의 나이, 성별, 키, 몸무게\n",
        "x_caseid = []  # 각 레코드의 caseid\n",
        "y = []  # 각 레코드의 출력값 (bis)\n",
        "y_old = []  # 고전적 모델의 예측값\n",
        "\n",
        "# 데이터 로딩했을 때 컬럼 순서\n",
        "PPF_DOSE = 0\n",
        "RFT_DOSE = 1\n",
        "PPF_CE = 2\n",
        "RFT_CE = 3\n",
        "BIS = 4\n",
        "\n",
        "icase = 0  # 현재 로딩 중인 케이스 번호\n",
        "ncase = min(MAX_CASES, len(caseids))\n",
        "for caseid in caseids:  # 본 연구에 사용할 각 case에 대하여\n",
        "    print('loading {} ({}/{})'.format(caseid, icase, ncase), end='...', flush=True)\n",
        "\n",
        "    # 10초 간격 추출\n",
        "    vals = vitaldb.load_trks([\n",
        "      df_trks[(df_trks['caseid'] == caseid) & (df_trks['tname'] == 'Orchestra/PPF20_VOL')]['tid'].values[0],\n",
        "      df_trks[(df_trks['caseid'] == caseid) & (df_trks['tname'] == 'Orchestra/RFTN20_VOL')]['tid'].values[0],\n",
        "      df_trks[(df_trks['caseid'] == caseid) & (df_trks['tname'] == 'Orchestra/PPF20_CE')]['tid'].values[0],\n",
        "      df_trks[(df_trks['caseid'] == caseid) & (df_trks['tname'] == 'Orchestra/RFTN20_CE')]['tid'].values[0],\n",
        "      df_trks[(df_trks['caseid'] == caseid) & (df_trks['tname'] == 'BIS/BIS')]['tid'].values[0]\n",
        "      ], 10)\n",
        "\n",
        "    # 결측값은 측정된 마지막 값으로 대체\n",
        "    vals = pd.DataFrame(vals).fillna(method='ffill').values\n",
        "    vals = np.nan_to_num(vals, 0)  # 맨 앞 쪽 결측값은 0으로 대체\n",
        "\n",
        "    # drug 주입을 하지 않은 case 혹은 bis를 사용하지 않은 case는 제외\n",
        "    if (np.max(vals, axis=0) <= 1).any():\n",
        "        print('no drug infusion or bis')\n",
        "        continue\n",
        "\n",
        "    # drug infusion 시작 시간을 구하고 그 이전을 삭제\n",
        "    first_ppf_idx = np.where(vals[:, PPF_DOSE] > 1)[0][0]\n",
        "    first_rft_idx = np.where(vals[:, RFT_DOSE] > 1)[0][0]\n",
        "    first_drug_idx = min(first_ppf_idx, first_rft_idx)\n",
        "    vals = vals[first_drug_idx:, :]\n",
        "\n",
        "    # volume 을 rate로 변경\n",
        "    vals[1:, PPF_DOSE] -= vals[:-1, PPF_DOSE]\n",
        "    vals[1:, RFT_DOSE] -= vals[:-1, RFT_DOSE]\n",
        "    vals[0, PPF_DOSE] = 0\n",
        "    vals[0, RFT_DOSE] = 0\n",
        "\n",
        "    # 음수 값(volume 감소)을 0으로 대체\n",
        "    vals[vals < 0] = 0\n",
        "\n",
        "    # bis 값의 첫 값이 80 이하이거나 마지막 값이 70 이하인 case는 사용하지 않음\n",
        "    valid_bis_idx = np.where(vals[:, BIS] > 0)[0]\n",
        "    first_bis_idx = valid_bis_idx[0]\n",
        "    last_bis_idx = valid_bis_idx[-1]\n",
        "    if vals[first_bis_idx, BIS] < 80:\n",
        "        print('first bis < 80')\n",
        "        continue\n",
        "    if vals[last_bis_idx, BIS] < 70:\n",
        "        print('last bis < 70')\n",
        "        continue\n",
        "\n",
        "    # infusion 시작 전 LSTM_TIMEPOINTS 동안의 dose와 bis를 모두 0으로 세팅\n",
        "    vals = np.vstack((np.zeros((LSTM_TIMEPOINTS - 1, vals.shape[1])), vals))\n",
        "\n",
        "    # 현 case의 나이, 성별, 키, 몸무게를 가져옴\n",
        "    aswh = df_cases.loc[df_cases['caseid'] == caseid, ['age','sex','weight','height']].values.astype(float).flatten()\n",
        "\n",
        "    # case 시작 부터 종료까지 dataset 에 넣음\n",
        "    for irow in range(1, vals.shape[0] - LSTM_TIMEPOINTS - 1):\n",
        "        bis = vals[irow + LSTM_TIMEPOINTS, BIS]\n",
        "        if bis == 0:\n",
        "            continue\n",
        "\n",
        "        # 데이터셋에 입력값을 넣음\n",
        "        x_ppf_dose.append(vals[irow:irow + LSTM_TIMEPOINTS, PPF_DOSE])\n",
        "        x_rft_dose.append(vals[irow:irow + LSTM_TIMEPOINTS, RFT_DOSE])\n",
        "\n",
        "        x_aswh.append(aswh)\n",
        "        x_caseid.append(caseid)\n",
        "        y.append(bis)\n",
        "\n",
        "        ppf_ce = vals[irow + LSTM_TIMEPOINTS, PPF_CE]\n",
        "        rft_ce = vals[irow + LSTM_TIMEPOINTS, RFT_CE]\n",
        "        y_old.append(0.98 * (1 + ppf_ce / 4.47 + rft_ce / 19.3) ** -1.43)\n",
        "\n",
        "    # 사용할 case\n",
        "    print('done')\n",
        "    icase += 1\n",
        "    if icase >= ncase:\n",
        "        break\n"
      ],
      "execution_count": null,
      "outputs": []
    },
    {
      "cell_type": "markdown",
      "metadata": {
        "id": "NwwLDouezDLc"
      },
      "source": [
        "## 데이터셋 포맷 및 차원 변환"
      ]
    },
    {
      "cell_type": "code",
      "metadata": {
        "id": "bHa2fte0zGEv"
      },
      "source": [
        "# 입력 데이터셋을 numpy array로 변경\n",
        "x_ppf_dose = np.array(x_ppf_dose)[..., None]  # LSTM 에 넣기 위해서는 3차원이어야 한다. 마지막 차원을 추가\n",
        "x_rft_dose = np.array(x_rft_dose)[..., None]\n",
        "x_aswh = np.array(x_aswh)\n",
        "y = np.array(y)\n",
        "y_old = np.array(y_old)\n",
        "x_caseid = np.array(x_caseid)\n",
        "\n",
        "# 최종적으로 로딩 된 caseid\n",
        "caseids = np.unique(x_caseid)\n",
        "\n",
        "# normalize data\n",
        "x_aswh = (x_aswh - np.mean(x_aswh, axis=0)) / np.std(x_aswh, axis=0)\n",
        "\n",
        "# bis 값은 최대값이 98 이므로 98로 나눠 normalization\n",
        "y /= 98\n"
      ],
      "execution_count": null,
      "outputs": []
    },
    {
      "cell_type": "markdown",
      "metadata": {
        "id": "VpMowosc0Bzf"
      },
      "source": [
        "## 데이터를 학습(train)과 테스트(test)로 나누기"
      ]
    },
    {
      "cell_type": "code",
      "metadata": {
        "id": "AjdvjsJ10JAe"
      },
      "source": [
        "# train, test case로 나눔\n",
        "ntest = int(ncase * 0.1)\n",
        "ntrain = ncase - ntest\n",
        "train_caseids = caseids[:ntrain]\n",
        "test_caseids = caseids[ntrain:ncase]\n",
        "\n",
        "# train set과 test set 으로 나눔\n",
        "train_mask = np.array([caseid in train_caseids for caseid in x_caseid])\n",
        "test_mask = np.array([caseid in test_caseids for caseid in x_caseid])\n",
        "x_train = [x_ppf_dose[train_mask], x_rft_dose[train_mask], x_aswh[train_mask]]\n",
        "y_train = y[train_mask]\n",
        "x_test = [x_ppf_dose[test_mask], x_rft_dose[test_mask], x_aswh[test_mask]]\n",
        "y_test = y[test_mask]\n",
        "y_old = y_old[test_mask]\n",
        "\n",
        "print('train: {} cases {} samples, testing: {} cases {} samples'.format(len(train_caseids), np.sum(train_mask), len(test_caseids), np.sum(test_mask)))"
      ],
      "execution_count": null,
      "outputs": []
    },
    {
      "cell_type": "markdown",
      "metadata": {
        "id": "iPi6FIbB0NkF"
      },
      "source": [
        "# Model building\n"
      ]
    },
    {
      "cell_type": "code",
      "metadata": {
        "id": "uytYU2Fu0rPi"
      },
      "source": [
        "from keras.models import Model, load_model\n",
        "from keras.layers import Dense, Dropout, LSTM, Input, concatenate\n",
        "from keras.callbacks import EarlyStopping\n",
        "import tensorflow as tf\n",
        "\n",
        "# 모델 설계\n",
        "input_cov = Input(batch_shape=(None, 4))\n",
        "input_ppf = Input(batch_shape=(None, LSTM_TIMEPOINTS, 1))\n",
        "input_rft = Input(batch_shape=(None, LSTM_TIMEPOINTS, 1))\n",
        "output_ppf = LSTM(LSTM_NODES, input_shape=(LSTM_TIMEPOINTS, 1), activation='tanh')(input_ppf)\n",
        "output_rft = LSTM(LSTM_NODES, input_shape=(LSTM_TIMEPOINTS, 1), activation='tanh')(input_rft)\n",
        "output = concatenate([output_ppf, output_rft, input_cov])\n",
        "output = Dense(FNN_NODES)(output)\n",
        "output = Dropout(0.2)(output)\n",
        "output = Dense(1, activation='sigmoid')(output)\n",
        "\n",
        "mae = tf.keras.losses.MeanAbsoluteError()\n",
        "mape = tf.keras.losses.MeanAbsolutePercentageError()\n",
        "\n",
        "model = Model(inputs=[input_ppf, input_rft, input_cov], outputs=[output])\n",
        "model.compile(loss=mae, optimizer='adam', metrics=[mape])\n",
        "hist = model.fit(x_train, y_train, validation_split=0.1, epochs=100, steps_per_epoch=100,\n",
        "                           callbacks=[EarlyStopping(monitor='val_loss', patience=3, verbose=0, mode='auto')])"
      ],
      "execution_count": null,
      "outputs": []
    },
    {
      "cell_type": "markdown",
      "metadata": {
        "id": "SeVpuglt1W0k"
      },
      "source": [
        "# 결과 출력"
      ]
    },
    {
      "cell_type": "code",
      "metadata": {
        "id": "GNA1cUY71cxs"
      },
      "source": [
        "# 예측\n",
        "y_pred = model.predict(x_test).flatten()\n",
        "print(\"Test MAPE: {}\".format(mape(y_test, y_pred)))\n",
        "\n",
        "# 각 case에서 예측 결과를 그림으로 확인\n",
        "import matplotlib.pyplot as plt\n",
        "for caseid in test_caseids:\n",
        "    case_mask = (x_caseid[test_mask] == caseid)\n",
        "    case_len = np.sum(case_mask)\n",
        "    if case_len == 0:\n",
        "        continue\n",
        "\n",
        "    print('CaseID {}, LSTM MAPE={}, Short MAPE={}'.format(caseid, \n",
        "      mape(y_test[case_mask], y_pred[case_mask]), \n",
        "      mape(y_test[case_mask], y_old[case_mask])\n",
        "      ))\n",
        "\n",
        "    t = np.arange(0, case_len)\n",
        "    plt.figure(figsize=(20, 5))\n",
        "    plt.plot(t, y_test[case_mask], label='BIS')  # 측정 결과\n",
        "    plt.plot(t, y_pred[case_mask], label='LSTM')  # LSTM model\n",
        "    plt.plot(t, y_old[case_mask], label='Short')  # Short model\n",
        "    plt.xlim([0, case_len])\n",
        "    plt.ylim([0, 1])\n",
        "    plt.show()"
      ],
      "execution_count": null,
      "outputs": []
    }
  ]
}