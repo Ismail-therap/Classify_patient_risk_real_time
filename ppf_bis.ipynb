{
  "nbformat": 4,
  "nbformat_minor": 0,
  "metadata": {
    "colab": {
      "name": "ppf_bis.ipynb",
      "provenance": [],
      "collapsed_sections": [
        "Yy0WHpW3X9oX",
        "9SwIjOX9frk6",
        "ZjxFdZTXBZWb",
        "AabTJc6dflSy",
        "DosPYRjLfcoB",
        "5gHJ4YRbnmWJ",
        "aBusNmsKpc2Z",
        "NwwLDouezDLc",
        "VpMowosc0Bzf"
      ],
      "toc_visible": true,
      "include_colab_link": true
    },
    "kernelspec": {
      "name": "python3",
      "display_name": "Python 3"
    },
    "accelerator": "GPU"
  },
  "cells": [
    {
      "cell_type": "markdown",
      "metadata": {
        "id": "view-in-github",
        "colab_type": "text"
      },
      "source": [
        "<a href=\"https://colab.research.google.com/github/vitaldb/examples/blob/master/ppf_bis.ipynb\" target=\"_parent\"><img src=\"https://colab.research.google.com/assets/colab-badge.svg\" alt=\"Open In Colab\"/></a>"
      ]
    },
    {
      "cell_type": "code",
      "metadata": {
        "id": "kQynUvM6He1j",
        "colab_type": "code",
        "colab": {}
      },
      "source": [
        ""
      ],
      "execution_count": null,
      "outputs": []
    },
    {
      "cell_type": "markdown",
      "metadata": {
        "id": "Yy0WHpW3X9oX",
        "colab_type": "text"
      },
      "source": [
        "# 약물 효과 예측 인공지능 모델 실습\n",
        "프로포폴, 레미펜타닐 투여 후 마취 심도(bispectral index) 예측 모델\n",
        "\n",
        "## VitalDB 데이터 셋 이용\n",
        "본 예제에서는 오픈 생체 신호 데이터셋인 VitalDB를 이용하는 모든 사용자는 반드시 아래 Data Use Agreement에 동의하여야 합니다.\n",
        "\n",
        "https://vitaldb.net/data-bank/?query=guide&documentId=13qqajnNZzkN7NZ9aXnaQ-47NWy7kx-a6gbrcEsi-gak&sectionId=h.usmoena3l4rb\n",
        "\n",
        "동의하지 않을 경우 이 창을 닫으세요."
      ]
    },
    {
      "cell_type": "markdown",
      "metadata": {
        "id": "9SwIjOX9frk6",
        "colab_type": "text"
      },
      "source": [
        "## 본 프로그램에서 이용할 라이브러리 및 옵션들"
      ]
    },
    {
      "cell_type": "code",
      "metadata": {
        "id": "Ch6czkFZfw_G",
        "colab_type": "code",
        "colab": {
          "base_uri": "https://localhost:8080/",
          "height": 230
        },
        "outputId": "1cfa8ac8-16d6-411f-eb65-56e1932abe88"
      },
      "source": [
        "!wget -N https://raw.githubusercontent.com/vitaldb/vitalutils/master/python/vitaldb.py\n",
        "\n",
        "import vitaldb\n",
        "import numpy as np\n",
        "import pandas as pd\n",
        "\n",
        "LSTM_TIMEPOINTS = 180\n",
        "LSTM_NODES = 8\n",
        "FNN_NODES = 16\n",
        "BATCH_SIZE = 256  # 한번에 처리할 레코드 수 (GPU 메모리 용량에 따라 결정)\n",
        "MAX_CASES = 50  # 본 예제에서 사용할 최대 case 수"
      ],
      "execution_count": 9,
      "outputs": [
        {
          "output_type": "stream",
          "text": [
            "--2020-09-12 02:12:14--  https://raw.githubusercontent.com/vitaldb/vitalutils/master/python/vitaldb.py\n",
            "Resolving raw.githubusercontent.com (raw.githubusercontent.com)... 151.101.0.133, 151.101.64.133, 151.101.128.133, ...\n",
            "Connecting to raw.githubusercontent.com (raw.githubusercontent.com)|151.101.0.133|:443... connected.\n",
            "HTTP request sent, awaiting response... 200 OK\n",
            "Length: 15107 (15K) [text/plain]\n",
            "Saving to: ‘vitaldb.py’\n",
            "\n",
            "vitaldb.py          100%[===================>]  14.75K  --.-KB/s    in 0.007s  \n",
            "\n",
            "Last-modified header missing -- time-stamps turned off.\n",
            "2020-09-12 02:12:14 (2.00 MB/s) - ‘vitaldb.py’ saved [15107/15107]\n",
            "\n"
          ],
          "name": "stdout"
        }
      ]
    },
    {
      "cell_type": "markdown",
      "metadata": {
        "id": "ZjxFdZTXBZWb",
        "colab_type": "text"
      },
      "source": [
        "# Data loading"
      ]
    },
    {
      "cell_type": "markdown",
      "metadata": {
        "id": "AabTJc6dflSy",
        "colab_type": "text"
      },
      "source": [
        "## 트랙 데이터 가져오기\n"
      ]
    },
    {
      "cell_type": "code",
      "metadata": {
        "id": "2qsz5TKVf6Nb",
        "colab_type": "code",
        "colab": {}
      },
      "source": [
        "df_trks = pd.read_csv('https://api.vitaldb.net/v2/trks')\n",
        "ppf_cases = set(df_trks[df_trks['tname'] == 'Orchestra/PPF20_VOL']['caseid'])  # print(len(ppf_cases))  # 3523\n",
        "rft_cases = set(df_trks[df_trks['tname'] == 'Orchestra/RFTN20_VOL']['caseid'])  # print(len(rft_cases))  # 4791\n",
        "tiva_cases = ppf_cases & rft_cases  # print(len(tiva_cases))  # 3457\n",
        "bis_cases = set(df_trks[df_trks['tname'] == 'BIS/BIS']['caseid'])  # print(len(bis_cases))  # 5867\n",
        "study_cases = sorted(list(tiva_cases & bis_cases))  # print(len(study_cases))  # 3289"
      ],
      "execution_count": 10,
      "outputs": []
    },
    {
      "cell_type": "markdown",
      "metadata": {
        "id": "DosPYRjLfcoB",
        "colab_type": "text"
      },
      "source": [
        "## 임상 데이터 가져오기 (나이, 성별, 키, 몸무게)\n",
        "- clinical informaiton을 df_cases에 읽어오기\n",
        "- 사용할 age, sex, weight, height 가져오기\n",
        "- 성별이 F(=female)은 0으로, M(=male)은 1로 치환\n",
        "- 18세 이상, 몸무게 35이상 기준으로 case 준비(inclusion, exclusion criteria)"
      ]
    },
    {
      "cell_type": "code",
      "metadata": {
        "id": "hw8dXeGXfg0r",
        "colab_type": "code",
        "colab": {}
      },
      "source": [
        "df_cases = pd.read_csv(\"https://api.vitaldb.net/cases\")\n",
        "cases = df_cases.loc[[caseid in study_cases for caseid in df_cases['caseid']], ['caseid', 'age', 'sex', 'weight', 'height']]\n",
        "cases['sex'] = cases['sex'] == 'F'\n",
        "cases = cases[cases['age'] > 18]  \n",
        "cases = cases[cases['weight'] > 35]"
      ],
      "execution_count": 11,
      "outputs": []
    },
    {
      "cell_type": "markdown",
      "metadata": {
        "id": "5gHJ4YRbnmWJ",
        "colab_type": "text"
      },
      "source": [
        "## 데이터셋 준비\n",
        "- 전체 case id 모으고(caseids)\n",
        "- caseid별로 나이, 성별, 키, 몸무게 담기(caseid_aswh)\n",
        "- 최대로 로딩 가능한 case 수 알기(ncase) \n",
        "- 그리고 caseid를 무작위로 섞음(.shuffle)\n",
        "- dataset을 담을 변수를 설정(x_ppf, x_rrf, x_aswh, x_caseid, y)"
      ]
    },
    {
      "cell_type": "code",
      "metadata": {
        "id": "8n2o5_2QoFy5",
        "colab_type": "code",
        "colab": {}
      },
      "source": [
        "caseids = cases.values[:,0]\n",
        "caseid_aswh = {row[0]: row[1:].astype(float) for row in cases.values}\n",
        "np.random.shuffle(caseids)\n",
        "\n",
        "# vital 파일로부터 dataset 을 만듬\n",
        "x_ppf = []  # 각 레코드의 프로포폴 주입량\n",
        "x_rft = []  # 각 레코드의 레미펜타닐 주입량\n",
        "x_aswh = []  # 각 레코드의 나이, 성별, 키, 몸무게\n",
        "x_caseid = []  # 각 레코드의 caseid\n",
        "y = []  # 각 레코드의 출력값 (bis)"
      ],
      "execution_count": 12,
      "outputs": []
    },
    {
      "cell_type": "markdown",
      "metadata": {
        "id": "aBusNmsKpc2Z",
        "colab_type": "text"
      },
      "source": [
        "# 데이터 전처리\n",
        "- propofol(ppf20), remifentanil(rftn20), bis를 로딩한다\n",
        "- 기록된 데이터가 짧거나, drug infusion이 실제 없었던 케이스, bis값이 적절하지 않은 케이스는 거르기\n",
        "- 결측값 및 음수 처리"
      ]
    },
    {
      "cell_type": "code",
      "metadata": {
        "id": "h6CHJpySrDxG",
        "colab_type": "code",
        "colab": {
          "base_uri": "https://localhost:8080/",
          "height": 905
        },
        "outputId": "363ccb01-756d-4bbf-e276-ab1c26eba876"
      },
      "source": [
        "PPF_DOSE = 0\n",
        "RFT_DOSE = 1\n",
        "BIS = 2\n",
        "icase = 0\n",
        "ncase = min(MAX_CASES, len(caseids))\n",
        "for caseid in caseids:\n",
        "    ppf20_tid = df_trks[(df_trks['caseid'] == caseid) & (df_trks['tname'] == 'Orchestra/PPF20_VOL')]['tid'].values[0]\n",
        "    rftn20_tid = df_trks[(df_trks['caseid'] == caseid) & (df_trks['tname'] == 'Orchestra/RFTN20_VOL')]['tid'].values[0]\n",
        "    bis_tid = df_trks[(df_trks['caseid'] == caseid) & (df_trks['tname'] == 'BIS/BIS')]['tid'].values[0]\n",
        "\n",
        "    vals = vitaldb.load_trks([ppf20_tid, rftn20_tid, bis_tid], 10) #10s 간격 추출\n",
        "\n",
        "    # 2시간 이내의 case 들은 사용하지 않음, 720 =  2hr * 60min/hr * 6개/min\n",
        "    if vals.shape[0] < 720:\n",
        "        continue\n",
        "\n",
        "    # 결측값은 측정된 마지막 값으로 대체\n",
        "    vals = pd.DataFrame(vals).fillna(method='ffill').values\n",
        "    vals = np.nan_to_num(vals, 0)  # 맨 앞 쪽 결측값은 0으로 대체\n",
        "\n",
        "    # drug 주입을 하지 않은 경우 혹은 bis를 켜지 않은 경우 사용하지 않음\n",
        "    if (np.max(vals, axis=0) <= 1).any():\n",
        "        continue\n",
        "\n",
        "    # drug infusion 시작 시간을 구하고 그 이전을 삭제\n",
        "    first_ppf_idx = np.where(vals[:, PPF_DOSE] > 1)[0][0]\n",
        "    first_rft_idx = np.where(vals[:, RFT_DOSE] > 1)[0][0]\n",
        "    first_drug_idx = min(first_ppf_idx, first_rft_idx)\n",
        "    vals = vals[first_drug_idx:, :]\n",
        "\n",
        "    # volume 을 rate로 변경\n",
        "    vals[1:, PPF_DOSE] -= vals[:-1, PPF_DOSE]\n",
        "    vals[1:, RFT_DOSE] -= vals[:-1, RFT_DOSE]\n",
        "    vals[0, PPF_DOSE] = 0\n",
        "    vals[0, RFT_DOSE] = 0\n",
        "\n",
        "    # 음수 값(volume 감소)을 0으로 대체\n",
        "    vals[vals < 0] = 0\n",
        "\n",
        "    # 유효한 bis 값들을 가져옴\n",
        "    valid_bis_idx = np.where(vals[:, BIS] > 0)[0]\n",
        "\n",
        "    # 2시간 이내의 case들은 사용하지 않음\n",
        "    if valid_bis_idx.shape[0] < 720:\n",
        "        continue\n",
        "\n",
        "    # bis 값의 첫 값이 80 이하이거나 마지막 값이 70 이하인 case는 사용하지 않음\n",
        "    first_bis_idx = valid_bis_idx[0]\n",
        "    last_bis_idx = valid_bis_idx[-1]\n",
        "    if vals[first_bis_idx, BIS] < 80 or vals[last_bis_idx, BIS] < 70:\n",
        "        continue\n",
        "\n",
        "    icase += 1\n",
        "    print('loading ({}/{}): caseid {:.0f}, first bis {:.1f}, last bis {:.1f}'.format(icase, ncase, caseid, vals[first_bis_idx, BIS], vals[last_bis_idx, BIS]))\n",
        "\n",
        "    # infusion 시작 전 LSTM_TIMEPOINTS 동안의 dose와 bis를 모두 0으로 세팅\n",
        "    vals = np.vstack((np.zeros((LSTM_TIMEPOINTS - 1, 3)), vals))\n",
        "\n",
        "    # 현 case의 나이, 성별, 키, 몸무게를 가져옴\n",
        "    aswh = caseid_aswh[caseid]\n",
        "\n",
        "    # case 시작 부터 종료 까지 dataset 에 넣음\n",
        "    for irow in range(1, vals.shape[0] - LSTM_TIMEPOINTS - 1):\n",
        "        bis = vals[irow + LSTM_TIMEPOINTS, BIS]\n",
        "        if bis == 0:\n",
        "            continue\n",
        "\n",
        "        # 데이터셋에 입력값을 넣음\n",
        "        x_ppf.append(vals[irow:irow + LSTM_TIMEPOINTS, PPF_DOSE])\n",
        "        x_rft.append(vals[irow:irow + LSTM_TIMEPOINTS, RFT_DOSE])\n",
        "        x_aswh.append(aswh)\n",
        "        x_caseid.append(caseid)\n",
        "        y.append(bis)\n",
        "\n",
        "    if icase >= ncase:\n",
        "        break\n",
        "    "
      ],
      "execution_count": 13,
      "outputs": [
        {
          "output_type": "stream",
          "text": [
            "loading (1/50): caseid 4150, first bis 90.9, last bis 84.2\n",
            "loading (2/50): caseid 2497, first bis 95.3, last bis 82.2\n",
            "loading (3/50): caseid 5720, first bis 91.2, last bis 88.7\n",
            "loading (4/50): caseid 4271, first bis 91.8, last bis 88.7\n",
            "loading (5/50): caseid 3423, first bis 92.0, last bis 74.8\n",
            "loading (6/50): caseid 3732, first bis 88.7, last bis 83.0\n",
            "loading (7/50): caseid 6243, first bis 97.7, last bis 75.8\n",
            "loading (8/50): caseid 1482, first bis 88.9, last bis 82.0\n",
            "loading (9/50): caseid 4371, first bis 94.6, last bis 83.9\n",
            "loading (10/50): caseid 2443, first bis 92.1, last bis 78.3\n",
            "loading (11/50): caseid 2641, first bis 97.3, last bis 79.4\n",
            "loading (12/50): caseid 2324, first bis 97.7, last bis 75.4\n",
            "loading (13/50): caseid 2560, first bis 83.8, last bis 78.8\n",
            "loading (14/50): caseid 816, first bis 83.6, last bis 88.4\n",
            "loading (15/50): caseid 286, first bis 97.7, last bis 84.8\n",
            "loading (16/50): caseid 2444, first bis 97.0, last bis 81.5\n",
            "loading (17/50): caseid 448, first bis 97.4, last bis 80.6\n",
            "loading (18/50): caseid 2249, first bis 97.7, last bis 73.2\n",
            "loading (19/50): caseid 5842, first bis 91.8, last bis 85.8\n",
            "loading (20/50): caseid 602, first bis 95.9, last bis 82.9\n",
            "loading (21/50): caseid 4164, first bis 97.6, last bis 75.7\n",
            "loading (22/50): caseid 5168, first bis 97.1, last bis 76.0\n",
            "loading (23/50): caseid 3315, first bis 92.7, last bis 81.9\n",
            "loading (24/50): caseid 4071, first bis 94.9, last bis 75.1\n",
            "loading (25/50): caseid 2680, first bis 90.9, last bis 75.3\n",
            "loading (26/50): caseid 1210, first bis 97.7, last bis 88.2\n",
            "loading (27/50): caseid 1555, first bis 96.7, last bis 76.9\n",
            "loading (28/50): caseid 3737, first bis 97.1, last bis 76.6\n",
            "loading (29/50): caseid 593, first bis 97.7, last bis 72.9\n",
            "loading (30/50): caseid 5345, first bis 97.7, last bis 78.1\n",
            "loading (31/50): caseid 4651, first bis 94.9, last bis 75.6\n",
            "loading (32/50): caseid 5750, first bis 97.7, last bis 76.2\n",
            "loading (33/50): caseid 3053, first bis 85.9, last bis 79.9\n",
            "loading (34/50): caseid 1674, first bis 80.5, last bis 82.6\n",
            "loading (35/50): caseid 1922, first bis 92.6, last bis 74.8\n",
            "loading (36/50): caseid 2284, first bis 97.7, last bis 82.2\n",
            "loading (37/50): caseid 2772, first bis 96.0, last bis 81.4\n",
            "loading (38/50): caseid 3958, first bis 94.9, last bis 76.8\n",
            "loading (39/50): caseid 2981, first bis 97.7, last bis 82.7\n",
            "loading (40/50): caseid 3680, first bis 93.1, last bis 81.0\n",
            "loading (41/50): caseid 3840, first bis 93.4, last bis 79.3\n",
            "loading (42/50): caseid 1742, first bis 87.5, last bis 81.6\n",
            "loading (43/50): caseid 742, first bis 94.7, last bis 76.9\n",
            "loading (44/50): caseid 4411, first bis 90.5, last bis 78.4\n",
            "loading (45/50): caseid 6111, first bis 96.9, last bis 89.8\n",
            "loading (46/50): caseid 5211, first bis 93.9, last bis 78.0\n",
            "loading (47/50): caseid 3211, first bis 95.8, last bis 70.8\n",
            "loading (48/50): caseid 4639, first bis 86.7, last bis 75.4\n",
            "loading (49/50): caseid 5379, first bis 97.6, last bis 85.2\n",
            "loading (50/50): caseid 4699, first bis 97.7, last bis 72.8\n"
          ],
          "name": "stdout"
        }
      ]
    },
    {
      "cell_type": "markdown",
      "metadata": {
        "id": "NwwLDouezDLc",
        "colab_type": "text"
      },
      "source": [
        "## 데이터셋 포맷 및 차원 변환"
      ]
    },
    {
      "cell_type": "code",
      "metadata": {
        "id": "bHa2fte0zGEv",
        "colab_type": "code",
        "colab": {}
      },
      "source": [
        "# 모든 케이스 확인, xppf... y까지 담은후,\n",
        "# 입력 데이터셋을 numpy array로 변경\n",
        "\n",
        "x_ppf = np.array(x_ppf)[..., None]  # LSTM 에 넣기 위해서는 3차원이어야 한다. 마지막 차원을 추가\n",
        "x_rft = np.array(x_rft)[..., None]\n",
        "x_aswh = np.array(x_aswh)\n",
        "y = np.array(y)\n",
        "x_caseid = np.array(x_caseid)\n",
        "\n",
        "# 최종적으로 로딩 된 caseid\n",
        "caseids = np.unique(x_caseid)\n",
        "\n",
        "# normalize data\n",
        "x_aswh = (x_aswh - np.mean(x_aswh, axis=0)) / np.std(x_aswh, axis=0)\n",
        "\n",
        "# bis 값은 최대값이 98 이므로 98로 나눠 normalization\n",
        "y /= 98\n"
      ],
      "execution_count": 14,
      "outputs": []
    },
    {
      "cell_type": "markdown",
      "metadata": {
        "id": "VpMowosc0Bzf",
        "colab_type": "text"
      },
      "source": [
        "## 데이터를 학습(train)과 테스트(test)로 나누기"
      ]
    },
    {
      "cell_type": "code",
      "metadata": {
        "id": "AjdvjsJ10JAe",
        "colab_type": "code",
        "colab": {
          "base_uri": "https://localhost:8080/",
          "height": 52
        },
        "outputId": "cdd5df55-8e4e-48de-c424-5f6b133e0c4f"
      },
      "source": [
        "# train, test case로 나눔\n",
        "ntest = int(ncase * 0.1)\n",
        "ntrain = ncase - ntest\n",
        "train_caseids = caseids[:ntrain]\n",
        "test_caseids = caseids[ntrain:ncase]\n",
        "\n",
        "# train set과 test set 으로 나눔\n",
        "train_mask = np.array([caseid in train_caseids for caseid in x_caseid])\n",
        "test_mask = np.array([caseid in test_caseids for caseid in x_caseid])\n",
        "x_train = [x_ppf[train_mask], x_rft[train_mask], x_aswh[train_mask]]\n",
        "y_train = y[train_mask]\n",
        "x_test = [x_ppf[test_mask], x_rft[test_mask], x_aswh[test_mask]]\n",
        "y_test = y[test_mask]\n",
        "\n",
        "print('train: {} cases {} samples'.format(len(train_caseids), np.sum(train_mask)))\n",
        "print('test: {} cases {} samples'.format(len(test_caseids), np.sum(test_mask)))"
      ],
      "execution_count": 15,
      "outputs": [
        {
          "output_type": "stream",
          "text": [
            "train: 45 cases 60857 samples\n",
            "test: 5 cases 6394 samples\n"
          ],
          "name": "stdout"
        }
      ]
    },
    {
      "cell_type": "markdown",
      "metadata": {
        "id": "iPi6FIbB0NkF",
        "colab_type": "text"
      },
      "source": [
        "# Model building\n"
      ]
    },
    {
      "cell_type": "code",
      "metadata": {
        "id": "uytYU2Fu0rPi",
        "colab_type": "code",
        "colab": {
          "base_uri": "https://localhost:8080/",
          "height": 534
        },
        "outputId": "1c42bf2b-40c4-42b1-aa68-701a5ce9272f"
      },
      "source": [
        "from keras.models import Model, load_model\n",
        "from keras.layers import Dense, Dropout, LSTM, Input, concatenate\n",
        "from keras.callbacks import EarlyStopping\n",
        "import tensorflow as tf\n",
        "\n",
        "# 모델 설계\n",
        "input_cov = Input(batch_shape=(None, 4))\n",
        "input_ppf = Input(batch_shape=(None, LSTM_TIMEPOINTS, 1))\n",
        "input_rft = Input(batch_shape=(None, LSTM_TIMEPOINTS, 1))\n",
        "output_ppf = LSTM(LSTM_NODES, input_shape=(LSTM_TIMEPOINTS, 1), activation='tanh')(input_ppf)\n",
        "output_rft = LSTM(LSTM_NODES, input_shape=(LSTM_TIMEPOINTS, 1), activation='tanh')(input_rft)\n",
        "output = concatenate([output_ppf, output_rft, input_cov])\n",
        "output = Dense(FNN_NODES)(output)\n",
        "output = Dropout(0.2)(output)\n",
        "output = Dense(1, activation='sigmoid')(output)\n",
        "\n",
        "mae = tf.keras.losses.MeanAbsoluteError()\n",
        "mape = tf.keras.losses.MeanAbsolutePercentageError()\n",
        "\n",
        "model = Model(inputs=[input_ppf, input_rft, input_cov], outputs=[output])\n",
        "model.compile(loss=mae, optimizer='adam', metrics=[mape])\n",
        "hist = model.fit(x_train, y_train, validation_split=0.1, epochs=100, steps_per_epoch=100,\n",
        "                           callbacks=[EarlyStopping(monitor='val_loss', patience=3, verbose=0, mode='auto')])"
      ],
      "execution_count": 16,
      "outputs": [
        {
          "output_type": "stream",
          "text": [
            "Epoch 1/100\n",
            "100/100 [==============================] - 4s 36ms/step - loss: 0.1009 - mean_absolute_percentage_error: 22.7955 - val_loss: 0.0770 - val_mean_absolute_percentage_error: 17.0263\n",
            "Epoch 2/100\n",
            "100/100 [==============================] - 3s 29ms/step - loss: 0.0882 - mean_absolute_percentage_error: 19.4965 - val_loss: 0.0748 - val_mean_absolute_percentage_error: 16.4110\n",
            "Epoch 3/100\n",
            "100/100 [==============================] - 3s 29ms/step - loss: 0.0848 - mean_absolute_percentage_error: 18.7097 - val_loss: 0.0742 - val_mean_absolute_percentage_error: 16.4436\n",
            "Epoch 4/100\n",
            "100/100 [==============================] - 3s 29ms/step - loss: 0.0812 - mean_absolute_percentage_error: 18.0903 - val_loss: 0.0734 - val_mean_absolute_percentage_error: 16.5130\n",
            "Epoch 5/100\n",
            "100/100 [==============================] - 3s 29ms/step - loss: 0.0787 - mean_absolute_percentage_error: 17.6366 - val_loss: 0.0744 - val_mean_absolute_percentage_error: 17.1453\n",
            "Epoch 6/100\n",
            "100/100 [==============================] - 3s 29ms/step - loss: 0.0761 - mean_absolute_percentage_error: 17.2539 - val_loss: 0.0708 - val_mean_absolute_percentage_error: 16.3796\n",
            "Epoch 7/100\n",
            "100/100 [==============================] - 3s 29ms/step - loss: 0.0752 - mean_absolute_percentage_error: 17.0946 - val_loss: 0.0669 - val_mean_absolute_percentage_error: 15.2759\n",
            "Epoch 8/100\n",
            "100/100 [==============================] - 3s 29ms/step - loss: 0.0740 - mean_absolute_percentage_error: 16.9584 - val_loss: 0.0665 - val_mean_absolute_percentage_error: 15.1485\n",
            "Epoch 9/100\n",
            "100/100 [==============================] - 3s 29ms/step - loss: 0.0738 - mean_absolute_percentage_error: 16.8869 - val_loss: 0.0668 - val_mean_absolute_percentage_error: 15.3547\n",
            "Epoch 10/100\n",
            "100/100 [==============================] - 3s 29ms/step - loss: 0.0735 - mean_absolute_percentage_error: 16.8737 - val_loss: 0.0645 - val_mean_absolute_percentage_error: 14.6838\n",
            "Epoch 11/100\n",
            "100/100 [==============================] - 3s 29ms/step - loss: 0.0732 - mean_absolute_percentage_error: 16.8054 - val_loss: 0.0643 - val_mean_absolute_percentage_error: 14.6464\n",
            "Epoch 12/100\n",
            "100/100 [==============================] - 3s 29ms/step - loss: 0.0729 - mean_absolute_percentage_error: 16.7520 - val_loss: 0.0650 - val_mean_absolute_percentage_error: 14.8008\n",
            "Epoch 13/100\n",
            "100/100 [==============================] - 3s 29ms/step - loss: 0.0727 - mean_absolute_percentage_error: 16.7240 - val_loss: 0.0675 - val_mean_absolute_percentage_error: 15.7024\n",
            "Epoch 14/100\n",
            "100/100 [==============================] - 3s 29ms/step - loss: 0.0728 - mean_absolute_percentage_error: 16.7548 - val_loss: 0.0652 - val_mean_absolute_percentage_error: 14.9732\n"
          ],
          "name": "stdout"
        }
      ]
    },
    {
      "cell_type": "markdown",
      "metadata": {
        "id": "SeVpuglt1W0k",
        "colab_type": "text"
      },
      "source": [
        "# 결과 출력"
      ]
    },
    {
      "cell_type": "code",
      "metadata": {
        "id": "GNA1cUY71cxs",
        "colab_type": "code",
        "colab": {
          "base_uri": "https://localhost:8080/",
          "height": 123
        },
        "outputId": "7c286d58-8f0f-4f80-cddd-e7eadaaca90d"
      },
      "source": [
        "# 출력 폴더를 생성\n",
        "import os\n",
        "odir = 'output'\n",
        "if not os.path.exists(odir):\n",
        "    os.mkdir(odir)\n",
        "\n",
        "y_pred = model.predict(x_test).flatten()\n",
        "test_mape = mape(y_test, y_pred)\n",
        "\n",
        "print(\"Test MAPE: {}\".format(test_mape))\n",
        "\n",
        "# 각 case에서 예측 결과를 그림으로 확인\n",
        "import matplotlib.pyplot as plt\n",
        "for caseid in test_caseids:\n",
        "    case_mask = (x_caseid[test_mask] == caseid)\n",
        "    case_len = np.sum(case_mask)\n",
        "    if case_len == 0:\n",
        "        continue\n",
        "\n",
        "    case_mape = mape(y_test[case_mask], y_pred[case_mask])\n",
        "    print('{}\\t{}'.format(caseid, case_mape))\n",
        "\n",
        "    t = np.arange(0, case_len)\n",
        "    plt.figure(figsize=(20, 5))\n",
        "    plt.plot(t, y_test[case_mask], t, y_pred[case_mask])\n",
        "    plt.xlim([0, case_len])\n",
        "    plt.ylim([0, 1])\n",
        "    plt.savefig('{}/{:.3f}_{}.png'.format(odir, case_mape, caseid))\n",
        "    plt.close()\n",
        "\n",
        "os.rename(odir, 'res {}'.format(test_mape))"
      ],
      "execution_count": 17,
      "outputs": [
        {
          "output_type": "stream",
          "text": [
            "Test MAPE: 19.66157341003418\n",
            "5720\t16.67171287536621\n",
            "5750\t29.384967803955078\n",
            "5842\t18.37054443359375\n",
            "6111\t16.68216896057129\n",
            "6243\t9.341527938842773\n"
          ],
          "name": "stdout"
        }
      ]
    }
  ]
}