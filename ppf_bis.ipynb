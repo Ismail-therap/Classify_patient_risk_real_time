{
  "nbformat": 4,
  "nbformat_minor": 0,
  "metadata": {
    "colab": {
      "name": "ppf_bis.ipynb",
      "provenance": [],
      "collapsed_sections": [
        "Yy0WHpW3X9oX",
        "9SwIjOX9frk6",
        "ZjxFdZTXBZWb",
        "AabTJc6dflSy",
        "DosPYRjLfcoB",
        "5gHJ4YRbnmWJ",
        "aBusNmsKpc2Z",
        "NwwLDouezDLc",
        "VpMowosc0Bzf"
      ],
      "toc_visible": true,
      "include_colab_link": true
    },
    "kernelspec": {
      "name": "python3",
      "display_name": "Python 3"
    },
    "accelerator": "GPU"
  },
  "cells": [
    {
      "cell_type": "markdown",
      "metadata": {
        "id": "view-in-github",
        "colab_type": "text"
      },
      "source": [
        "<a href=\"https://colab.research.google.com/github/vitaldb/examples/blob/master/ppf_bis.ipynb\" target=\"_parent\"><img src=\"https://colab.research.google.com/assets/colab-badge.svg\" alt=\"Open In Colab\"/></a>"
      ]
    },
    {
      "cell_type": "markdown",
      "metadata": {
        "id": "Yy0WHpW3X9oX",
        "colab_type": "text"
      },
      "source": [
        "# 프로포폴, 레미펜타닐 주입 속도로부터 BIS 예측\n",
        "\n",
        "## VitalDB 데이터 셋 이용\n",
        "본 예제에서는 오픈 생체 신호 데이터셋인 VitalDB를 이용하는 모든 사용자는 반드시 아래 Data Use Agreement에 동의하여야 합니다.\n",
        "\n",
        "https://vitaldb.net/data-bank/?query=guide&documentId=13qqajnNZzkN7NZ9aXnaQ-47NWy7kx-a6gbrcEsi-gak&sectionId=h.usmoena3l4rb\n",
        "\n",
        "동의하지 않을 경우 이 창을 닫으세요."
      ]
    },
    {
      "cell_type": "markdown",
      "metadata": {
        "id": "9SwIjOX9frk6",
        "colab_type": "text"
      },
      "source": [
        "## 본 프로그램에서 이용할 라이브러리 및 옵션들"
      ]
    },
    {
      "cell_type": "code",
      "metadata": {
        "id": "Ch6czkFZfw_G",
        "colab_type": "code",
        "colab": {
          "base_uri": "https://localhost:8080/"
        },
        "outputId": "60139b2b-1786-41da-d644-cefc671f8718"
      },
      "source": [
        "!wget -N https://raw.githubusercontent.com/vitaldb/vitalutils/master/python/vitaldb.py\n",
        "\n",
        "import vitaldb\n",
        "import numpy as np\n",
        "import pandas as pd\n",
        "\n",
        "LSTM_TIMEPOINTS = 180\n",
        "LSTM_NODES = 16  \n",
        "BATCH_SIZE = 256  # 한번에 처리할 레코드 수 (GPU 메모리 용량에 따라 결정)\n",
        "MAX_CASES = 100  # 본 예제에서 사용할 최대 case 수"
      ],
      "execution_count": null,
      "outputs": [
        {
          "output_type": "stream",
          "text": [
            "--2020-09-12 01:01:22--  https://raw.githubusercontent.com/vitaldb/vitalutils/master/python/vitaldb.py\n",
            "Resolving raw.githubusercontent.com (raw.githubusercontent.com)... 151.101.0.133, 151.101.64.133, 151.101.128.133, ...\n",
            "Connecting to raw.githubusercontent.com (raw.githubusercontent.com)|151.101.0.133|:443... connected.\n",
            "HTTP request sent, awaiting response... 200 OK\n",
            "Length: 15107 (15K) [text/plain]\n",
            "Saving to: ‘vitaldb.py.6’\n",
            "\n",
            "\rvitaldb.py.6          0%[                    ]       0  --.-KB/s               \rvitaldb.py.6        100%[===================>]  14.75K  --.-KB/s    in 0.007s  \n",
            "\n",
            "2020-09-12 01:01:22 (2.08 MB/s) - ‘vitaldb.py.6’ saved [15107/15107]\n",
            "\n"
          ],
          "name": "stdout"
        }
      ]
    },
    {
      "cell_type": "markdown",
      "metadata": {
        "id": "ZjxFdZTXBZWb",
        "colab_type": "text"
      },
      "source": [
        "# Data loading"
      ]
    },
    {
      "cell_type": "markdown",
      "metadata": {
        "id": "AabTJc6dflSy",
        "colab_type": "text"
      },
      "source": [
        "## 트랙 데이터 가져오기\n"
      ]
    },
    {
      "cell_type": "code",
      "metadata": {
        "id": "2qsz5TKVf6Nb",
        "colab_type": "code",
        "colab": {}
      },
      "source": [
        "df_trks = pd.read_csv('https://api.vitaldb.net/v2/trks')\n",
        "ppf_cases = set(df_trks[df_trks['tname'] == 'Orchestra/PPF20_VOL']['caseid'])  # print(len(ppf_cases))  # 3523\n",
        "rft_cases = set(df_trks[df_trks['tname'] == 'Orchestra/RFTN20_VOL']['caseid'])  # print(len(rft_cases))  # 4791\n",
        "tiva_cases = ppf_cases & rft_cases  # print(len(tiva_cases))  # 3457\n",
        "bis_cases = set(df_trks[df_trks['tname'] == 'BIS/BIS']['caseid'])  # print(len(bis_cases))  # 5867\n",
        "study_cases = sorted(list(tiva_cases & bis_cases))  # print(len(study_cases))  # 3289"
      ],
      "execution_count": null,
      "outputs": []
    },
    {
      "cell_type": "markdown",
      "metadata": {
        "id": "DosPYRjLfcoB",
        "colab_type": "text"
      },
      "source": [
        "## 임상 데이터 가져오기 (나이, 성별, 키, 몸무게)\n",
        "- clinical informaiton을 df_cases에 읽어오기\n",
        "- 사용할 age, sex, weight, height 가져오기\n",
        "- 성별이 F(=female)은 0으로, M(=male)은 1로 치환\n",
        "- 18세 이상, 몸무게 35이상 기준으로 case 준비(inclusion, exclusion criteria)"
      ]
    },
    {
      "cell_type": "code",
      "metadata": {
        "id": "hw8dXeGXfg0r",
        "colab_type": "code",
        "colab": {}
      },
      "source": [
        "df_cases = pd.read_csv(\"https://api.vitaldb.net/cases\")\n",
        "cases = df_cases.loc[[caseid in study_cases for caseid in df_cases['caseid']], ['caseid', 'age', 'sex', 'weight', 'height']]\n",
        "cases['sex'] = cases['sex'] == 'F'\n",
        "cases = cases[cases['age'] > 18]  \n",
        "cases = cases[cases['weight'] > 35]"
      ],
      "execution_count": null,
      "outputs": []
    },
    {
      "cell_type": "markdown",
      "metadata": {
        "id": "5gHJ4YRbnmWJ",
        "colab_type": "text"
      },
      "source": [
        "## 데이터셋 준비\n",
        "- 전체 case id 모으고(caseids)\n",
        "- caseid별로 나이, 성별, 키, 몸무게 담기(caseid_aswh)\n",
        "- 최대로 로딩 가능한 case 수 알기(ncase) \n",
        "- 그리고 caseid를 무작위로 섞음(.shuffle)\n",
        "- dataset을 담을 변수를 설정(x_ppf, x_rrf, x_aswh, x_caseid, y)"
      ]
    },
    {
      "cell_type": "code",
      "metadata": {
        "id": "8n2o5_2QoFy5",
        "colab_type": "code",
        "colab": {}
      },
      "source": [
        "caseids = cases.values[:,0]\n",
        "caseid_aswh = {row[0]: row[1:].astype(float) for row in cases.values}\n",
        "np.random.shuffle(caseids)\n",
        "\n",
        "# vital 파일로부터 dataset 을 만듬\n",
        "x_ppf = []  # 각 레코드의 프로포폴 주입량\n",
        "x_rft = []  # 각 레코드의 레미펜타닐 주입량\n",
        "x_aswh = []  # 각 레코드의 나이, 성별, 키, 몸무게\n",
        "x_caseid = []  # 각 레코드의 caseid\n",
        "y = []  # 각 레코드의 출력값 (bis)"
      ],
      "execution_count": null,
      "outputs": []
    },
    {
      "cell_type": "markdown",
      "metadata": {
        "id": "aBusNmsKpc2Z",
        "colab_type": "text"
      },
      "source": [
        "# 데이터 전처리\n",
        "- propofol(ppf20), remifentanil(rftn20), bis를 로딩한다\n",
        "- 기록된 데이터가 짧거나, drug infusion이 실제 없었던 케이스, bis값이 적절하지 않은 케이스는 거르기\n",
        "- 결측값 및 음수 처리"
      ]
    },
    {
      "cell_type": "code",
      "metadata": {
        "id": "h6CHJpySrDxG",
        "colab_type": "code",
        "colab": {
          "base_uri": "https://localhost:8080/"
        },
        "outputId": "38ce4c67-2f2d-43e3-87a2-db1b91124583"
      },
      "source": [
        "PPF_DOSE = 0\n",
        "RFT_DOSE = 1\n",
        "BIS = 2\n",
        "icase = 0\n",
        "ncase = min(MAX_CASES, len(caseids))\n",
        "for caseid in caseids:\n",
        "    ppf20_tid = df_trks[(df_trks['caseid'] == caseid) & (df_trks['tname'] == 'Orchestra/PPF20_VOL')]['tid'].values[0]\n",
        "    rftn20_tid = df_trks[(df_trks['caseid'] == caseid) & (df_trks['tname'] == 'Orchestra/RFTN20_VOL')]['tid'].values[0]\n",
        "    bis_tid = df_trks[(df_trks['caseid'] == caseid) & (df_trks['tname'] == 'BIS/BIS')]['tid'].values[0]\n",
        "\n",
        "    vals = vitaldb.load_trks([ppf20_tid, rftn20_tid, bis_tid], 10) #10s 간격 추출\n",
        "\n",
        "    # 2시간 이내의 case 들은 사용하지 않음, 720 =  2hr * 60min/hr * 6개/min\n",
        "    if vals.shape[0] < 720:\n",
        "        continue\n",
        "\n",
        "    # 결측값은 측정된 마지막 값으로 대체\n",
        "    vals = pd.DataFrame(vals).fillna(method='ffill').values\n",
        "    vals = np.nan_to_num(vals, 0)  # 맨 앞 쪽 결측값은 0으로 대체\n",
        "\n",
        "    # drug 주입을 하지 않은 경우 혹은 bis를 켜지 않은 경우 사용하지 않음\n",
        "    if (np.max(vals, axis=0) <= 1).any():\n",
        "        continue\n",
        "\n",
        "    # drug infusion 시작 시간을 구하고 그 이전을 삭제\n",
        "    first_ppf_idx = np.where(vals[:, PPF_DOSE] > 1)[0][0]\n",
        "    first_rft_idx = np.where(vals[:, RFT_DOSE] > 1)[0][0]\n",
        "    first_drug_idx = min(first_ppf_idx, first_rft_idx)\n",
        "    vals = vals[first_drug_idx:, :]\n",
        "\n",
        "    # volume 을 rate로 변경\n",
        "    vals[1:, PPF_DOSE] -= vals[:-1, PPF_DOSE]\n",
        "    vals[1:, RFT_DOSE] -= vals[:-1, RFT_DOSE]\n",
        "    vals[0, PPF_DOSE] = 0\n",
        "    vals[0, RFT_DOSE] = 0\n",
        "\n",
        "    # 음수 값(volume 감소)을 0으로 대체\n",
        "    vals[vals < 0] = 0\n",
        "\n",
        "    # 유효한 bis 값들을 가져옴\n",
        "    valid_bis_idx = np.where(vals[:, BIS] > 0)[0]\n",
        "\n",
        "    # 2시간 이내의 case들은 사용하지 않음\n",
        "    if valid_bis_idx.shape[0] < 720:\n",
        "        continue\n",
        "\n",
        "    # bis 값의 첫 값이 80 이하이거나 마지막 값이 70 이하인 case는 사용하지 않음\n",
        "    first_bis_idx = valid_bis_idx[0]\n",
        "    last_bis_idx = valid_bis_idx[-1]\n",
        "    if vals[first_bis_idx, BIS] < 80 or vals[last_bis_idx, BIS] < 70:\n",
        "        continue\n",
        "\n",
        "    icase += 1\n",
        "    print('loading ({}/{}): caseid {:.0f}, first bis {:.1f}, last bis {:.1f}'.format(icase, ncase, caseid, vals[first_bis_idx, BIS], vals[last_bis_idx, BIS]))\n",
        "\n",
        "    # infusion 시작 전 LSTM_TIMEPOINTS 동안의 dose와 bis를 모두 0으로 세팅\n",
        "    vals = np.vstack((np.zeros((LSTM_TIMEPOINTS - 1, 3)), vals))\n",
        "\n",
        "    # 현 case의 나이, 성별, 키, 몸무게를 가져옴\n",
        "    aswh = caseid_aswh[caseid]\n",
        "\n",
        "    # case 시작 부터 종료 까지 dataset 에 넣음\n",
        "    for irow in range(1, vals.shape[0] - LSTM_TIMEPOINTS - 1):\n",
        "        bis = vals[irow + LSTM_TIMEPOINTS, BIS]\n",
        "        if bis == 0:\n",
        "            continue\n",
        "\n",
        "        # 데이터셋에 입력값을 넣음\n",
        "        x_ppf.append(vals[irow:irow + LSTM_TIMEPOINTS, PPF_DOSE])\n",
        "        x_rft.append(vals[irow:irow + LSTM_TIMEPOINTS, RFT_DOSE])\n",
        "        x_aswh.append(aswh)\n",
        "        x_caseid.append(caseid)\n",
        "        y.append(bis)\n",
        "\n",
        "    if icase >= ncase:\n",
        "        break\n",
        "    "
      ],
      "execution_count": null,
      "outputs": [
        {
          "output_type": "stream",
          "text": [
            "loading (1/100): caseid 143, first bis 97.1, last bis 75.6\n",
            "loading (2/100): caseid 1723, first bis 85.7, last bis 76.6\n",
            "loading (3/100): caseid 4750, first bis 97.2, last bis 90.8\n",
            "loading (4/100): caseid 3532, first bis 97.7, last bis 89.1\n",
            "loading (5/100): caseid 5777, first bis 95.8, last bis 93.8\n",
            "loading (6/100): caseid 1461, first bis 90.6, last bis 94.8\n",
            "loading (7/100): caseid 863, first bis 97.3, last bis 87.0\n",
            "loading (8/100): caseid 13, first bis 95.8, last bis 79.7\n",
            "loading (9/100): caseid 4954, first bis 94.7, last bis 88.3\n",
            "loading (10/100): caseid 949, first bis 97.7, last bis 96.2\n",
            "loading (11/100): caseid 6205, first bis 96.4, last bis 79.1\n",
            "loading (12/100): caseid 624, first bis 95.6, last bis 92.8\n",
            "loading (13/100): caseid 443, first bis 93.3, last bis 80.4\n",
            "loading (14/100): caseid 3223, first bis 94.5, last bis 77.6\n",
            "loading (15/100): caseid 4974, first bis 82.9, last bis 77.2\n",
            "loading (16/100): caseid 4504, first bis 97.7, last bis 89.9\n",
            "loading (17/100): caseid 2863, first bis 95.2, last bis 85.0\n",
            "loading (18/100): caseid 3274, first bis 97.7, last bis 83.1\n",
            "loading (19/100): caseid 6053, first bis 96.1, last bis 89.8\n",
            "loading (20/100): caseid 5114, first bis 87.3, last bis 77.7\n",
            "loading (21/100): caseid 3369, first bis 95.6, last bis 86.3\n",
            "loading (22/100): caseid 1528, first bis 97.5, last bis 82.8\n",
            "loading (23/100): caseid 3424, first bis 84.4, last bis 83.9\n",
            "loading (24/100): caseid 5936, first bis 97.2, last bis 71.8\n",
            "loading (25/100): caseid 1836, first bis 95.8, last bis 86.7\n",
            "loading (26/100): caseid 2352, first bis 97.7, last bis 83.2\n",
            "loading (27/100): caseid 5434, first bis 97.7, last bis 87.6\n",
            "loading (28/100): caseid 5077, first bis 97.5, last bis 92.0\n",
            "loading (29/100): caseid 2066, first bis 97.0, last bis 76.5\n",
            "loading (30/100): caseid 3314, first bis 97.4, last bis 89.5\n",
            "loading (31/100): caseid 866, first bis 86.1, last bis 88.3\n",
            "loading (32/100): caseid 2587, first bis 95.7, last bis 81.2\n",
            "loading (33/100): caseid 4612, first bis 97.7, last bis 77.5\n",
            "loading (34/100): caseid 1586, first bis 97.3, last bis 77.1\n",
            "loading (35/100): caseid 2052, first bis 96.9, last bis 82.9\n",
            "loading (36/100): caseid 19, first bis 97.6, last bis 94.7\n",
            "loading (37/100): caseid 889, first bis 89.5, last bis 74.6\n",
            "loading (38/100): caseid 4145, first bis 91.3, last bis 80.8\n",
            "loading (39/100): caseid 3861, first bis 97.7, last bis 76.9\n",
            "loading (40/100): caseid 692, first bis 94.4, last bis 76.1\n",
            "loading (41/100): caseid 6208, first bis 97.1, last bis 72.1\n",
            "loading (42/100): caseid 6383, first bis 86.6, last bis 80.5\n",
            "loading (43/100): caseid 4837, first bis 90.5, last bis 83.7\n",
            "loading (44/100): caseid 2685, first bis 96.6, last bis 76.8\n",
            "loading (45/100): caseid 4897, first bis 87.8, last bis 74.8\n",
            "loading (46/100): caseid 1923, first bis 97.7, last bis 83.7\n",
            "loading (47/100): caseid 6295, first bis 85.7, last bis 80.1\n",
            "loading (48/100): caseid 2098, first bis 97.0, last bis 77.9\n",
            "loading (49/100): caseid 6235, first bis 97.4, last bis 76.1\n",
            "loading (50/100): caseid 5439, first bis 94.1, last bis 77.1\n",
            "loading (51/100): caseid 2409, first bis 95.7, last bis 71.8\n",
            "loading (52/100): caseid 308, first bis 94.0, last bis 73.6\n",
            "loading (53/100): caseid 29, first bis 94.3, last bis 86.1\n",
            "loading (54/100): caseid 5463, first bis 84.0, last bis 86.9\n",
            "loading (55/100): caseid 414, first bis 93.1, last bis 83.9\n",
            "loading (56/100): caseid 5399, first bis 91.9, last bis 84.0\n",
            "loading (57/100): caseid 5054, first bis 94.8, last bis 77.1\n",
            "loading (58/100): caseid 2851, first bis 92.4, last bis 79.2\n",
            "loading (59/100): caseid 4905, first bis 97.2, last bis 78.2\n",
            "loading (60/100): caseid 1480, first bis 95.1, last bis 78.1\n",
            "loading (61/100): caseid 3073, first bis 95.7, last bis 77.9\n",
            "loading (62/100): caseid 2401, first bis 97.7, last bis 85.8\n",
            "loading (63/100): caseid 3046, first bis 95.6, last bis 79.4\n",
            "loading (64/100): caseid 3417, first bis 96.2, last bis 77.2\n",
            "loading (65/100): caseid 1258, first bis 97.6, last bis 71.3\n",
            "loading (66/100): caseid 1508, first bis 90.3, last bis 87.0\n",
            "loading (67/100): caseid 210, first bis 93.4, last bis 79.0\n",
            "loading (68/100): caseid 1784, first bis 97.7, last bis 82.3\n",
            "loading (69/100): caseid 1523, first bis 92.0, last bis 74.9\n",
            "loading (70/100): caseid 4426, first bis 97.3, last bis 91.0\n",
            "loading (71/100): caseid 3303, first bis 88.1, last bis 77.2\n",
            "loading (72/100): caseid 6042, first bis 93.2, last bis 86.6\n",
            "loading (73/100): caseid 4519, first bis 97.6, last bis 75.8\n",
            "loading (74/100): caseid 6359, first bis 89.8, last bis 77.2\n",
            "loading (75/100): caseid 2713, first bis 97.7, last bis 82.6\n",
            "loading (76/100): caseid 5246, first bis 97.1, last bis 76.6\n",
            "loading (77/100): caseid 4140, first bis 86.4, last bis 85.0\n",
            "loading (78/100): caseid 3058, first bis 95.9, last bis 77.3\n",
            "loading (79/100): caseid 378, first bis 97.3, last bis 82.6\n",
            "loading (80/100): caseid 3781, first bis 97.7, last bis 83.9\n",
            "loading (81/100): caseid 2010, first bis 97.3, last bis 78.2\n",
            "loading (82/100): caseid 5206, first bis 97.3, last bis 75.8\n",
            "loading (83/100): caseid 4987, first bis 85.6, last bis 76.5\n",
            "loading (84/100): caseid 1396, first bis 97.7, last bis 77.0\n",
            "loading (85/100): caseid 2836, first bis 96.1, last bis 89.3\n",
            "loading (86/100): caseid 1944, first bis 97.5, last bis 91.3\n",
            "loading (87/100): caseid 2563, first bis 90.9, last bis 76.3\n",
            "loading (88/100): caseid 4662, first bis 87.5, last bis 90.6\n",
            "loading (89/100): caseid 4248, first bis 94.4, last bis 76.4\n",
            "loading (90/100): caseid 4948, first bis 91.7, last bis 87.7\n",
            "loading (91/100): caseid 3842, first bis 97.7, last bis 77.1\n",
            "loading (92/100): caseid 5163, first bis 97.6, last bis 77.0\n",
            "loading (93/100): caseid 5842, first bis 91.8, last bis 85.8\n",
            "loading (94/100): caseid 5784, first bis 97.3, last bis 84.6\n",
            "loading (95/100): caseid 2491, first bis 89.8, last bis 76.8\n",
            "loading (96/100): caseid 2134, first bis 90.4, last bis 78.2\n",
            "loading (97/100): caseid 5418, first bis 94.4, last bis 83.7\n",
            "loading (98/100): caseid 5347, first bis 95.6, last bis 78.6\n",
            "loading (99/100): caseid 1298, first bis 97.5, last bis 76.6\n",
            "loading (100/100): caseid 4898, first bis 93.9, last bis 73.9\n"
          ],
          "name": "stdout"
        }
      ]
    },
    {
      "cell_type": "markdown",
      "metadata": {
        "id": "NwwLDouezDLc",
        "colab_type": "text"
      },
      "source": [
        "## 데이터셋 포맷 및 차원 변환"
      ]
    },
    {
      "cell_type": "code",
      "metadata": {
        "id": "bHa2fte0zGEv",
        "colab_type": "code",
        "colab": {}
      },
      "source": [
        "# 모든 케이스 확인, xppf... y까지 담은후,\n",
        "# 입력 데이터셋을 numpy array로 변경\n",
        "\n",
        "x_ppf = np.array(x_ppf)[..., None]  # LSTM 에 넣기 위해서는 3차원이어야 한다. 마지막 차원을 추가\n",
        "x_rft = np.array(x_rft)[..., None]\n",
        "x_aswh = np.array(x_aswh)\n",
        "y = np.array(y)\n",
        "x_caseid = np.array(x_caseid)\n",
        "\n",
        "# 최종적으로 로딩 된 caseid\n",
        "caseids = np.unique(x_caseid)\n",
        "\n",
        "# normalize data\n",
        "x_aswh = (x_aswh - np.mean(x_aswh, axis=0)) / np.std(x_aswh, axis=0)\n",
        "\n",
        "# bis 값은 최대값이 98 이므로 98로 나눠 normalization\n",
        "y /= 98\n"
      ],
      "execution_count": null,
      "outputs": []
    },
    {
      "cell_type": "markdown",
      "metadata": {
        "id": "VpMowosc0Bzf",
        "colab_type": "text"
      },
      "source": [
        "## 데이터를 학습(train)과 테스트(test)로 나누기"
      ]
    },
    {
      "cell_type": "code",
      "metadata": {
        "id": "AjdvjsJ10JAe",
        "colab_type": "code",
        "colab": {
          "base_uri": "https://localhost:8080/",
          "height": 52
        },
        "outputId": "855b6731-446b-46c9-f57b-c1092a5beebc"
      },
      "source": [
        "# train, test case로 나눔\n",
        "ntest = int(ncase * 0.1)\n",
        "ntrain = ncase - ntest\n",
        "train_caseids = caseids[:ntrain]\n",
        "test_caseids = caseids[ntrain:ncase]\n",
        "\n",
        "# train set과 test set 으로 나눔\n",
        "train_mask = np.array([caseid in train_caseids for caseid in x_caseid])\n",
        "test_mask = np.array([caseid in test_caseids for caseid in x_caseid])\n",
        "x_train = [x_ppf[train_mask], x_rft[train_mask], x_aswh[train_mask]]\n",
        "y_train = y[train_mask]\n",
        "x_test = [x_ppf[test_mask], x_rft[test_mask], x_aswh[test_mask]]\n",
        "y_test = y[test_mask]\n",
        "\n",
        "print('train: {} cases {} samples'.format(len(train_caseids), np.sum(train_mask)))\n",
        "print('test: {} cases {} samples'.format(len(test_caseids), np.sum(test_mask)))"
      ],
      "execution_count": null,
      "outputs": [
        {
          "output_type": "stream",
          "text": [
            "train: 90 cases 121808 samples\n",
            "test: 10 cases 12170 samples\n"
          ],
          "name": "stdout"
        }
      ]
    },
    {
      "cell_type": "markdown",
      "metadata": {
        "id": "iPi6FIbB0NkF",
        "colab_type": "text"
      },
      "source": [
        "# Model building\n"
      ]
    },
    {
      "cell_type": "code",
      "metadata": {
        "id": "uytYU2Fu0rPi",
        "colab_type": "code",
        "colab": {
          "base_uri": "https://localhost:8080/",
          "height": 570
        },
        "outputId": "6d72cc2f-f77d-4852-e4c8-8fd9aa9c6d6f"
      },
      "source": [
        "from keras.models import Model, load_model\n",
        "from keras.layers import Dense, Dropout, LSTM, Input, concatenate\n",
        "from keras.callbacks import EarlyStopping\n",
        "import tensorflow as tf\n",
        "\n",
        "# 모델 설계\n",
        "input_cov = Input(batch_shape=(None, 4))\n",
        "input_ppf = Input(batch_shape=(None, LSTM_TIMEPOINTS, 1))\n",
        "input_rft = Input(batch_shape=(None, LSTM_TIMEPOINTS, 1))\n",
        "output_ppf = LSTM(LSTM_NODES, input_shape=(LSTM_TIMEPOINTS, 1), activation='tanh')(input_ppf)\n",
        "output_rft = LSTM(LSTM_NODES, input_shape=(LSTM_TIMEPOINTS, 1), activation='tanh')(input_rft)\n",
        "output = concatenate([output_ppf, output_rft, input_cov])\n",
        "output = Dense(FNN_NODES)(output)\n",
        "output = Dropout(0.2)(output)\n",
        "output = Dense(1, activation='sigmoid')(output)\n",
        "\n",
        "mae = tf.keras.losses.MeanAbsoluteError()\n",
        "mape = tf.keras.losses.MeanAbsolutePercentageError()\n",
        "\n",
        "model = Model(inputs=[input_ppf, input_rft, input_cov], outputs=[output])\n",
        "model.compile(loss=mae, optimizer='adam', metrics=[mape])\n",
        "hist = model.fit(x_train, y_train, validation_split=0.1, epochs=100, steps_per_epoch=100,\n",
        "                           callbacks=[EarlyStopping(monitor='val_loss', patience=3, verbose=0, mode='auto')])"
      ],
      "execution_count": null,
      "outputs": [
        {
          "output_type": "stream",
          "text": [
            "Epoch 1/100\n",
            "100/100 [==============================] - 5s 52ms/step - loss: 0.1047 - mean_absolute_percentage_error: 24.3606 - val_loss: 0.0722 - val_mean_absolute_percentage_error: 16.2087\n",
            "Epoch 2/100\n",
            "100/100 [==============================] - 4s 44ms/step - loss: 0.0912 - mean_absolute_percentage_error: 20.7732 - val_loss: 0.0713 - val_mean_absolute_percentage_error: 16.0349\n",
            "Epoch 3/100\n",
            "100/100 [==============================] - 4s 44ms/step - loss: 0.0851 - mean_absolute_percentage_error: 19.6413 - val_loss: 0.0644 - val_mean_absolute_percentage_error: 14.6684\n",
            "Epoch 4/100\n",
            "100/100 [==============================] - 4s 45ms/step - loss: 0.0800 - mean_absolute_percentage_error: 18.9025 - val_loss: 0.0629 - val_mean_absolute_percentage_error: 14.9477\n",
            "Epoch 5/100\n",
            "100/100 [==============================] - 4s 44ms/step - loss: 0.0777 - mean_absolute_percentage_error: 18.4964 - val_loss: 0.0620 - val_mean_absolute_percentage_error: 14.0115\n",
            "Epoch 6/100\n",
            "100/100 [==============================] - 4s 45ms/step - loss: 0.0771 - mean_absolute_percentage_error: 18.3083 - val_loss: 0.0616 - val_mean_absolute_percentage_error: 14.3886\n",
            "Epoch 7/100\n",
            "100/100 [==============================] - 4s 44ms/step - loss: 0.0763 - mean_absolute_percentage_error: 18.1986 - val_loss: 0.0618 - val_mean_absolute_percentage_error: 14.5149\n",
            "Epoch 8/100\n",
            "100/100 [==============================] - 4s 43ms/step - loss: 0.0759 - mean_absolute_percentage_error: 18.0867 - val_loss: 0.0627 - val_mean_absolute_percentage_error: 14.8038\n",
            "Epoch 9/100\n",
            "100/100 [==============================] - 4s 44ms/step - loss: 0.0756 - mean_absolute_percentage_error: 18.0234 - val_loss: 0.0614 - val_mean_absolute_percentage_error: 14.1848\n",
            "Epoch 10/100\n",
            "100/100 [==============================] - 4s 45ms/step - loss: 0.0754 - mean_absolute_percentage_error: 17.9485 - val_loss: 0.0621 - val_mean_absolute_percentage_error: 14.6060\n",
            "Epoch 11/100\n",
            "100/100 [==============================] - 4s 44ms/step - loss: 0.0753 - mean_absolute_percentage_error: 17.9412 - val_loss: 0.0611 - val_mean_absolute_percentage_error: 14.2576\n",
            "Epoch 12/100\n",
            "100/100 [==============================] - 4s 45ms/step - loss: 0.0748 - mean_absolute_percentage_error: 17.8512 - val_loss: 0.0607 - val_mean_absolute_percentage_error: 14.1263\n",
            "Epoch 13/100\n",
            "100/100 [==============================] - 5s 46ms/step - loss: 0.0745 - mean_absolute_percentage_error: 17.8147 - val_loss: 0.0611 - val_mean_absolute_percentage_error: 14.3710\n",
            "Epoch 14/100\n",
            "100/100 [==============================] - 4s 45ms/step - loss: 0.0744 - mean_absolute_percentage_error: 17.7931 - val_loss: 0.0614 - val_mean_absolute_percentage_error: 14.5506\n",
            "Epoch 15/100\n",
            "100/100 [==============================] - 5s 45ms/step - loss: 0.0741 - mean_absolute_percentage_error: 17.7566 - val_loss: 0.0610 - val_mean_absolute_percentage_error: 14.4892\n"
          ],
          "name": "stdout"
        }
      ]
    },
    {
      "cell_type": "markdown",
      "metadata": {
        "id": "SeVpuglt1W0k",
        "colab_type": "text"
      },
      "source": [
        "# 결과 출력"
      ]
    },
    {
      "cell_type": "code",
      "metadata": {
        "id": "GNA1cUY71cxs",
        "colab_type": "code",
        "colab": {
          "base_uri": "https://localhost:8080/",
          "height": 212
        },
        "outputId": "3b4a0655-b643-480b-f4b3-21a9ea42628d"
      },
      "source": [
        "# 출력 폴더를 생성\n",
        "import os\n",
        "odir = 'output'\n",
        "if not os.path.exists(odir):\n",
        "    os.mkdir(odir)\n",
        "\n",
        "y_pred = model.predict(x_test).flatten()\n",
        "test_mape = mape(y_test, y_pred)\n",
        "\n",
        "print(\"Test MAPE: {}\".format(test_mape))\n",
        "\n",
        "# 각 case에서 예측 결과를 그림으로 확인\n",
        "import matplotlib.pyplot as plt\n",
        "for caseid in test_caseids:\n",
        "    case_mask = (x_caseid[test_mask] == caseid)\n",
        "    case_len = np.sum(case_mask)\n",
        "    if case_len == 0:\n",
        "        continue\n",
        "\n",
        "    case_mape = mape(y_test[case_mask], y_pred[case_mask])\n",
        "    print('{}\\t{}'.format(caseid, case_mape))\n",
        "\n",
        "    t = np.arange(0, case_len)\n",
        "    plt.figure(figsize=(20, 5))\n",
        "    plt.plot(t, y_test[case_mask], t, y_pred[case_mask])\n",
        "    plt.xlim([0, case_len])\n",
        "    plt.ylim([0, 1])\n",
        "    plt.savefig('{}/{:.3f}_{}.png'.format(odir, case_mape, caseid))\n",
        "    plt.close()\n",
        "\n",
        "os.rename(odir, 'res {}'.format(test_mape))"
      ],
      "execution_count": null,
      "outputs": [
        {
          "output_type": "stream",
          "text": [
            "Test MAPE: 18.215606689453125\n",
            "5842\t17.52947235107422\n",
            "5936\t16.791683197021484\n",
            "6042\t19.17328643798828\n",
            "6053\t15.848745346069336\n",
            "6205\t17.105350494384766\n",
            "6208\t20.68853759765625\n",
            "6235\t25.955718994140625\n",
            "6295\t15.162101745605469\n",
            "6359\t23.88058090209961\n",
            "6383\t17.60094451904297\n"
          ],
          "name": "stdout"
        }
      ]
    }
  ]
}