{
  "cells": [
    {
      "cell_type": "markdown",
      "metadata": {
        "id": "view-in-github",
        "colab_type": "text"
      },
      "source": [
        "<a href=\"https://colab.research.google.com/github/vitaldb/examples/blob/master/mbp_aki.ipynb\" target=\"_parent\"><img src=\"https://colab.research.google.com/assets/colab-badge.svg\" alt=\"Open In Colab\"/></a>"
      ]
    },
    {
      "cell_type": "markdown",
      "metadata": {
        "id": "bpQy0pzwVUBL"
      },
      "source": [
        "# Calculation of AKI risk depending on BP during surgery\n",
        "In this example, we will calculate the risk of acute kidney injury (AKI) depending on blood pressure during surgery, using the VitalDB open dataset."
      ]
    },
    {
      "cell_type": "markdown",
      "metadata": {
        "id": "SqQZp4YdV2tg"
      },
      "source": [
        "## Required libraries and datasets"
      ]
    },
    {
      "cell_type": "code",
      "execution_count": 2,
      "metadata": {
        "colab": {
          "base_uri": "https://localhost:8080/"
        },
        "id": "9wmjfMpGN6_z",
        "outputId": "f76ee6ba-a2ed-4e2a-ab51-4c0366d53897"
      },
      "outputs": [
        {
          "output_type": "stream",
          "name": "stdout",
          "text": [
            "Looking in indexes: https://pypi.org/simple, https://us-python.pkg.dev/colab-wheels/public/simple/\n",
            "Requirement already satisfied: vitaldb in /usr/local/lib/python3.7/dist-packages (1.2.7)\n",
            "Requirement already satisfied: s3fs in /usr/local/lib/python3.7/dist-packages (from vitaldb) (2022.8.2)\n",
            "Requirement already satisfied: numpy in /usr/local/lib/python3.7/dist-packages (from vitaldb) (1.21.6)\n",
            "Requirement already satisfied: pandas in /usr/local/lib/python3.7/dist-packages (from vitaldb) (1.3.5)\n",
            "Requirement already satisfied: pyarrow in /usr/local/lib/python3.7/dist-packages (from vitaldb) (6.0.1)\n",
            "Requirement already satisfied: requests in /usr/local/lib/python3.7/dist-packages (from vitaldb) (2.23.0)\n",
            "Requirement already satisfied: wfdb in /usr/local/lib/python3.7/dist-packages (from vitaldb) (4.0.0)\n",
            "Requirement already satisfied: pytz>=2017.3 in /usr/local/lib/python3.7/dist-packages (from pandas->vitaldb) (2022.2.1)\n",
            "Requirement already satisfied: python-dateutil>=2.7.3 in /usr/local/lib/python3.7/dist-packages (from pandas->vitaldb) (2.8.2)\n",
            "Requirement already satisfied: six>=1.5 in /usr/local/lib/python3.7/dist-packages (from python-dateutil>=2.7.3->pandas->vitaldb) (1.15.0)\n",
            "Requirement already satisfied: certifi>=2017.4.17 in /usr/local/lib/python3.7/dist-packages (from requests->vitaldb) (2022.6.15)\n",
            "Requirement already satisfied: chardet<4,>=3.0.2 in /usr/local/lib/python3.7/dist-packages (from requests->vitaldb) (3.0.4)\n",
            "Requirement already satisfied: idna<3,>=2.5 in /usr/local/lib/python3.7/dist-packages (from requests->vitaldb) (2.10)\n",
            "Requirement already satisfied: urllib3!=1.25.0,!=1.25.1,<1.26,>=1.21.1 in /usr/local/lib/python3.7/dist-packages (from requests->vitaldb) (1.25.11)\n",
            "Requirement already satisfied: fsspec==2022.8.2 in /usr/local/lib/python3.7/dist-packages (from s3fs->vitaldb) (2022.8.2)\n",
            "Requirement already satisfied: aiohttp!=4.0.0a0,!=4.0.0a1 in /usr/local/lib/python3.7/dist-packages (from s3fs->vitaldb) (3.8.1)\n",
            "Requirement already satisfied: aiobotocore~=2.4.0 in /usr/local/lib/python3.7/dist-packages (from s3fs->vitaldb) (2.4.0)\n",
            "Requirement already satisfied: aioitertools>=0.5.1 in /usr/local/lib/python3.7/dist-packages (from aiobotocore~=2.4.0->s3fs->vitaldb) (0.10.0)\n",
            "Requirement already satisfied: botocore<1.27.60,>=1.27.59 in /usr/local/lib/python3.7/dist-packages (from aiobotocore~=2.4.0->s3fs->vitaldb) (1.27.59)\n",
            "Requirement already satisfied: wrapt>=1.10.10 in /usr/local/lib/python3.7/dist-packages (from aiobotocore~=2.4.0->s3fs->vitaldb) (1.14.1)\n",
            "Requirement already satisfied: frozenlist>=1.1.1 in /usr/local/lib/python3.7/dist-packages (from aiohttp!=4.0.0a0,!=4.0.0a1->s3fs->vitaldb) (1.3.1)\n",
            "Requirement already satisfied: typing-extensions>=3.7.4 in /usr/local/lib/python3.7/dist-packages (from aiohttp!=4.0.0a0,!=4.0.0a1->s3fs->vitaldb) (4.1.1)\n",
            "Requirement already satisfied: multidict<7.0,>=4.5 in /usr/local/lib/python3.7/dist-packages (from aiohttp!=4.0.0a0,!=4.0.0a1->s3fs->vitaldb) (6.0.2)\n",
            "Requirement already satisfied: yarl<2.0,>=1.0 in /usr/local/lib/python3.7/dist-packages (from aiohttp!=4.0.0a0,!=4.0.0a1->s3fs->vitaldb) (1.8.1)\n",
            "Requirement already satisfied: async-timeout<5.0,>=4.0.0a3 in /usr/local/lib/python3.7/dist-packages (from aiohttp!=4.0.0a0,!=4.0.0a1->s3fs->vitaldb) (4.0.2)\n",
            "Requirement already satisfied: charset-normalizer<3.0,>=2.0 in /usr/local/lib/python3.7/dist-packages (from aiohttp!=4.0.0a0,!=4.0.0a1->s3fs->vitaldb) (2.1.1)\n",
            "Requirement already satisfied: aiosignal>=1.1.2 in /usr/local/lib/python3.7/dist-packages (from aiohttp!=4.0.0a0,!=4.0.0a1->s3fs->vitaldb) (1.2.0)\n",
            "Requirement already satisfied: attrs>=17.3.0 in /usr/local/lib/python3.7/dist-packages (from aiohttp!=4.0.0a0,!=4.0.0a1->s3fs->vitaldb) (22.1.0)\n",
            "Requirement already satisfied: asynctest==0.13.0 in /usr/local/lib/python3.7/dist-packages (from aiohttp!=4.0.0a0,!=4.0.0a1->s3fs->vitaldb) (0.13.0)\n",
            "Requirement already satisfied: jmespath<2.0.0,>=0.7.1 in /usr/local/lib/python3.7/dist-packages (from botocore<1.27.60,>=1.27.59->aiobotocore~=2.4.0->s3fs->vitaldb) (1.0.1)\n",
            "Requirement already satisfied: scipy<2.0.0,>=1.0.0 in /usr/local/lib/python3.7/dist-packages (from wfdb->vitaldb) (1.7.3)\n",
            "Requirement already satisfied: SoundFile<0.12.0,>=0.10.0 in /usr/local/lib/python3.7/dist-packages (from wfdb->vitaldb) (0.10.3.post1)\n",
            "Requirement already satisfied: matplotlib<4.0.0,>=3.2.2 in /usr/local/lib/python3.7/dist-packages (from wfdb->vitaldb) (3.2.2)\n",
            "Requirement already satisfied: pyparsing!=2.0.4,!=2.1.2,!=2.1.6,>=2.0.1 in /usr/local/lib/python3.7/dist-packages (from matplotlib<4.0.0,>=3.2.2->wfdb->vitaldb) (3.0.9)\n",
            "Requirement already satisfied: cycler>=0.10 in /usr/local/lib/python3.7/dist-packages (from matplotlib<4.0.0,>=3.2.2->wfdb->vitaldb) (0.11.0)\n",
            "Requirement already satisfied: kiwisolver>=1.0.1 in /usr/local/lib/python3.7/dist-packages (from matplotlib<4.0.0,>=3.2.2->wfdb->vitaldb) (1.4.4)\n",
            "Requirement already satisfied: cffi>=1.0 in /usr/local/lib/python3.7/dist-packages (from SoundFile<0.12.0,>=0.10.0->wfdb->vitaldb) (1.15.1)\n",
            "Requirement already satisfied: pycparser in /usr/local/lib/python3.7/dist-packages (from cffi>=1.0->SoundFile<0.12.0,>=0.10.0->wfdb->vitaldb) (2.21)\n"
          ]
        }
      ],
      "source": [
        "!pip install vitaldb\n",
        "import vitaldb\n",
        "import pandas as pd\n",
        "import numpy as np\n",
        "\n",
        "df_cases = pd.read_csv(\"https://api.vitaldb.net/cases\")  # Load clinical data\n",
        "df_trks = pd.read_csv('https://api.vitaldb.net/trks')  # Load track list\n",
        "df_labs = pd.read_csv('https://api.vitaldb.net/labs')  # Load lab result"
      ]
    },
    {
      "cell_type": "markdown",
      "metadata": {
        "id": "lbUrsNBzV8ok"
      },
      "source": [
        "## Case Selection\n",
        "- Let's use only 100 emergency surgical patients."
      ]
    },
    {
      "cell_type": "code",
      "execution_count": 3,
      "metadata": {
        "colab": {
          "base_uri": "https://localhost:8080/"
        },
        "id": "WXeQT1UPWER5",
        "outputId": "ddb14b65-5b2d-4a4e-a19c-a019f0fd1154"
      },
      "outputs": [
        {
          "output_type": "stream",
          "name": "stdout",
          "text": [
            "Total 100 cases found\n"
          ]
        }
      ],
      "source": [
        "# inclusion / exclusion criteria\n",
        "caseids = list(\n",
        "    set(df_trks.loc[df_trks['tname'] == 'Solar8000/ART_MBP', 'caseid']) & \n",
        "    set(df_cases.loc[df_cases['department'] == 'General surgery', 'caseid']) &\n",
        "    set(df_cases.loc[df_cases['emop'] == 1, 'caseid'])\n",
        ")\n",
        "caseids = caseids[:100]\n",
        "print('Total {} cases found'.format(len(caseids)))"
      ]
    },
    {
      "cell_type": "markdown",
      "metadata": {
        "id": "OkpKkCKbWL9B"
      },
      "source": [
        "## Load and calculate data for each case\n",
        "- First of all, calculate the preoperative and postoperative creatinine concentration for each case, and then calculate the possibility that AKI occurs.\n",
        "\n",
        "- Secondly, obtain the ART_MBP data from vitaldb datasets. Then, calculate the proportion of surgeries that have a measured value lower than the threshold between 40-80 mmHg in all surgeries."
      ]
    },
    {
      "cell_type": "code",
      "execution_count": 4,
      "metadata": {
        "colab": {
          "base_uri": "https://localhost:8080/"
        },
        "id": "yckBVdfxWQEz",
        "outputId": "5676fe3e-fd29-4698-a322-9f0eaf6794f0",
        "scrolled": true
      },
      "outputs": [
        {
          "output_type": "stream",
          "name": "stdout",
          "text": [
            "loading 6144...0.5 -> 0.57, no AKI\n",
            "loading 2063...0.71 -> 1.26, AKI\n",
            "loading 4112...no postop cr\n",
            "loading 4115...1.07 -> 0.9, no AKI\n",
            "loading 4116...0.63 -> 0.72, no AKI\n",
            "loading 24...no preop cr\n",
            "loading 29...0.78 -> 0.74, no AKI\n",
            "loading 32...no postop cr\n",
            "loading 4135...2.65 -> 2.3, no AKI\n",
            "loading 4144...17.74 -> 15.82, no AKI\n",
            "loading 6196...0.82 -> 1.0, no AKI\n",
            "loading 4150...no postop cr\n",
            "loading 4155...1.15 -> 2.19, AKI\n",
            "loading 60...9.36 -> 7.95, no AKI\n",
            "loading 2117...0.84 -> 0.89, no AKI\n",
            "loading 4168...0.73 -> 0.62, no AKI\n",
            "loading 2130...14.8 -> 9.02, no AKI\n",
            "loading 83...8.13 -> 7.36, no AKI\n",
            "loading 87...2.72 -> 2.35, no AKI\n",
            "loading 2138...no postop cr\n",
            "loading 2147...0.44 -> 0.52, no AKI\n",
            "loading 4195...0.89 -> 0.96, no AKI\n",
            "loading 2157...0.78 -> 0.74, no AKI\n",
            "loading 4213...0.88 -> 0.66, no AKI\n",
            "loading 6262...no preop cr\n",
            "loading 124...0.63 -> 0.63, no AKI\n",
            "loading 2174...5.42 -> 4.63, no AKI\n",
            "loading 4225...no postop cr\n",
            "loading 6273...no preop cr\n",
            "loading 138...0.72 -> 0.65, no AKI\n",
            "loading 6283...0.86 -> 0.77, no AKI\n",
            "loading 143...no preop cr\n",
            "loading 146...0.62 -> 1.8, AKI\n",
            "loading 6290...1.54 -> 1.79, no AKI\n",
            "loading 6292...9.47 -> 7.41, no AKI\n",
            "loading 6293...0.94 -> 1.09, no AKI\n",
            "loading 4247...0.95 -> 1.05, no AKI\n",
            "loading 6297...0.79 -> 0.63, no AKI\n",
            "loading 4251...0.98 -> 0.82, no AKI\n",
            "loading 4254...0.83 -> 1.22, no AKI\n",
            "loading 2214...no preop cr\n",
            "loading 6315...no postop cr\n",
            "loading 2223...1.52 -> 1.15, no AKI\n",
            "loading 177...15.94 -> 14.2, no AKI\n",
            "loading 185...0.45 -> 0.4, no AKI\n",
            "loading 2239...no preop cr\n",
            "loading 6335...0.95 -> 0.98, no AKI\n",
            "loading 2241...0.57 -> 0.54, no AKI\n",
            "loading 4290...0.89 -> 0.79, no AKI\n",
            "loading 4302...0.66 -> 0.74, no AKI\n",
            "loading 2255...0.88 -> 0.72, no AKI\n",
            "loading 4308...no preop cr\n",
            "loading 2265...0.84 -> 0.66, no AKI\n",
            "loading 2272...1.2 -> 1.79, no AKI\n",
            "loading 6372...1.01 -> 0.76, no AKI\n",
            "loading 232...no postop cr\n",
            "loading 4328...1.33 -> 1.78, no AKI\n",
            "loading 239...0.79 -> 1.45, AKI\n",
            "loading 6383...6.7 -> 6.14, no AKI\n",
            "loading 242...no postop cr\n",
            "loading 243...no postop cr\n",
            "loading 250...0.79 -> 0.73, no AKI\n",
            "loading 264...no postop cr\n",
            "loading 268...0.86 -> 0.86, no AKI\n",
            "loading 2327...0.61 -> 1.0, AKI\n",
            "loading 2331...1.37 -> 0.99, no AKI\n",
            "loading 284...6.82 -> 5.98, no AKI\n",
            "loading 2337...8.78 -> 8.65, no AKI\n",
            "loading 2345...1.28 -> 1.15, no AKI\n",
            "loading 4408...0.58 -> 0.63, no AKI\n",
            "loading 2372...0.95 -> 1.03, no AKI\n",
            "loading 2373...0.51 -> 0.55, no AKI\n",
            "loading 4433...1.0 -> 1.07, no AKI\n",
            "loading 349...1.07 -> 1.61, AKI\n",
            "loading 4449...0.21 -> 0.3, no AKI\n",
            "loading 355...2.24 -> 1.45, no AKI\n",
            "loading 4465...9.27 -> 7.3, no AKI\n",
            "loading 370...no preop cr\n",
            "loading 381...no preop cr\n",
            "loading 2432...no preop cr\n",
            "loading 387...2.05 -> 1.49, no AKI\n",
            "loading 4489...0.66 -> 0.76, no AKI\n",
            "loading 2447...1.02 -> 1.12, no AKI\n",
            "loading 4496...0.57 -> 0.53, no AKI\n",
            "loading 406...8.96 -> 8.5, no AKI\n",
            "loading 4509...10.76 -> 6.83, no AKI\n",
            "loading 415...0.51 -> 0.45, no AKI\n",
            "loading 427...0.91 -> 0.8, no AKI\n",
            "loading 431...15.12 -> 13.18, no AKI\n",
            "loading 2480...0.46 -> 0.55, no AKI\n",
            "loading 441...no preop cr\n",
            "loading 4538...no preop cr\n",
            "loading 2494...0.73 -> 0.63, no AKI\n",
            "loading 2501...1.03 -> 1.05, no AKI\n",
            "loading 2504...0.72 -> 0.61, no AKI\n",
            "loading 4556...0.9 -> 0.9, no AKI\n",
            "loading 464...no postop cr\n",
            "loading 2516...1.23 -> 1.86, AKI\n",
            "loading 476...no preop cr\n",
            "loading 477...0.58 -> 0.43, no AKI\n",
            "7.0 AKI 9.2%\n"
          ]
        }
      ],
      "source": [
        "# Set blood pressure threshold\n",
        "mbp_thresholds = np.arange(40, 80)\n",
        "\n",
        "# Save the final result\n",
        "df = pd.DataFrame()\n",
        "for caseid in caseids:\n",
        "    print('loading {}...'.format(caseid), flush=True, end='')\n",
        "\n",
        "    # Column ['anend'] : anesthesia end time\n",
        "    aneend = df_cases[(df_cases['caseid'] == caseid)]['aneend'].values[0]\n",
        "\n",
        "    # Last creatinine concentration before surgery\n",
        "    preop_cr = df_labs[(df_labs['caseid'] == caseid) & (df_labs['dt'] < 0) & (df_labs['name'] == 'cr')].sort_values(by=['dt'], axis=0, ascending=False)['result'].values.flatten()\n",
        "    if len(preop_cr) == 0:\n",
        "        print('no preop cr')\n",
        "        continue\n",
        "    preop_cr = preop_cr[0]\n",
        "\n",
        "    # Maximum creatinine concentration within 48 hours after surgery\n",
        "    postop_cr = df_labs[(df_labs['caseid'] == caseid) & (df_labs['dt'] > aneend) &\n",
        "        (df_labs['dt'] < aneend + 48 * 3600) & (df_labs['name'] == 'cr')]['result'].max(skipna=True)\n",
        "    if not postop_cr or np.isnan(postop_cr):\n",
        "        print('no postop cr')\n",
        "        continue\n",
        "\n",
        "    # KDIGO stage I\n",
        "    aki = postop_cr > preop_cr * 1.5\n",
        "\n",
        "    # Blood pressure during surgery\n",
        "    mbps = vitaldb.load_case(caseid, 'ART_MBP').flatten()\n",
        "    mbps = mbps[~np.isnan(mbps)]\n",
        "    mbps = mbps[(mbps > 20) & (mbps < 150)]\n",
        "    if len(mbps) < 10:\n",
        "        print('no mbp')\n",
        "        continue\n",
        "    \n",
        "    # Calculate the percentage that stays for the time as increasing the blood pressure by 1 unit.\n",
        "    row = {'aki':aki}\n",
        "    for mbp_threshold in mbp_thresholds:\n",
        "        row['under{}'.format(mbp_threshold)] = np.nanmean(mbps < mbp_threshold) * 100\n",
        "    \n",
        "    # Append the result into row\n",
        "    df = df.append(row, ignore_index=True)\n",
        "\n",
        "    print('{} -> {}, {}'.format(preop_cr, postop_cr, 'AKI' if aki else 'no AKI'))\n",
        "\n",
        "print('{} AKI {:.1f}%'.format(df['aki'].sum(), df['aki'].mean() * 100))"
      ]
    },
    {
      "cell_type": "markdown",
      "metadata": {
        "id": "YYHU8na4WV-0"
      },
      "source": [
        "## Calculate the odds ratio for AKI prediction depending on blood pressure threshold\n",
        "\n",
        "- Let's calculate the odds ratio regarding how much each BP class increases the risk of AKI, using the above-measured values."
      ]
    },
    {
      "cell_type": "code",
      "execution_count": 5,
      "metadata": {
        "colab": {
          "base_uri": "https://localhost:8080/"
        },
        "id": "X5O0yxHJWcjh",
        "outputId": "021c3dbe-8934-4e76-fcfd-478ee454cb6e"
      },
      "outputs": [
        {
          "output_type": "stream",
          "name": "stdout",
          "text": [
            "Optimization terminated successfully.\n",
            "         Current function value: 0.278640\n",
            "         Iterations 7\n",
            "under40\tb=0.329, exp(b)=1.390, pval=0.026\n",
            "Optimization terminated successfully.\n",
            "         Current function value: 0.276060\n",
            "         Iterations 7\n",
            "under41\tb=0.311, exp(b)=1.365, pval=0.022\n",
            "Optimization terminated successfully.\n",
            "         Current function value: 0.275147\n",
            "         Iterations 7\n",
            "under42\tb=0.285, exp(b)=1.329, pval=0.023\n",
            "Optimization terminated successfully.\n",
            "         Current function value: 0.269124\n",
            "         Iterations 7\n",
            "under43\tb=0.271, exp(b)=1.312, pval=0.016\n",
            "Optimization terminated successfully.\n",
            "         Current function value: 0.263108\n",
            "         Iterations 7\n",
            "under44\tb=0.247, exp(b)=1.280, pval=0.010\n",
            "Optimization terminated successfully.\n",
            "         Current function value: 0.260074\n",
            "         Iterations 7\n",
            "under45\tb=0.212, exp(b)=1.236, pval=0.012\n",
            "Optimization terminated successfully.\n",
            "         Current function value: 0.257080\n",
            "         Iterations 7\n",
            "under46\tb=0.181, exp(b)=1.199, pval=0.015\n",
            "Optimization terminated successfully.\n",
            "         Current function value: 0.256225\n",
            "         Iterations 7\n",
            "under47\tb=0.153, exp(b)=1.166, pval=0.021\n",
            "Optimization terminated successfully.\n",
            "         Current function value: 0.253702\n",
            "         Iterations 7\n",
            "under48\tb=0.135, exp(b)=1.144, pval=0.020\n",
            "Optimization terminated successfully.\n",
            "         Current function value: 0.248523\n",
            "         Iterations 7\n",
            "under49\tb=0.125, exp(b)=1.133, pval=0.015\n",
            "Optimization terminated successfully.\n",
            "         Current function value: 0.244306\n",
            "         Iterations 7\n",
            "under50\tb=0.114, exp(b)=1.121, pval=0.010\n",
            "Optimization terminated successfully.\n",
            "         Current function value: 0.238924\n",
            "         Iterations 7\n",
            "under51\tb=0.104, exp(b)=1.110, pval=0.006\n",
            "Optimization terminated successfully.\n",
            "         Current function value: 0.238552\n",
            "         Iterations 7\n",
            "under52\tb=0.095, exp(b)=1.100, pval=0.005\n",
            "Optimization terminated successfully.\n",
            "         Current function value: 0.237661\n",
            "         Iterations 7\n",
            "under53\tb=0.087, exp(b)=1.090, pval=0.004\n",
            "Optimization terminated successfully.\n",
            "         Current function value: 0.238319\n",
            "         Iterations 7\n",
            "under54\tb=0.080, exp(b)=1.083, pval=0.004\n",
            "Optimization terminated successfully.\n",
            "         Current function value: 0.239298\n",
            "         Iterations 7\n",
            "under55\tb=0.073, exp(b)=1.076, pval=0.003\n",
            "Optimization terminated successfully.\n",
            "         Current function value: 0.241085\n",
            "         Iterations 7\n",
            "under56\tb=0.067, exp(b)=1.069, pval=0.003\n",
            "Optimization terminated successfully.\n",
            "         Current function value: 0.242355\n",
            "         Iterations 7\n",
            "under57\tb=0.062, exp(b)=1.064, pval=0.003\n",
            "Optimization terminated successfully.\n",
            "         Current function value: 0.243113\n",
            "         Iterations 7\n",
            "under58\tb=0.057, exp(b)=1.059, pval=0.002\n",
            "Optimization terminated successfully.\n",
            "         Current function value: 0.245366\n",
            "         Iterations 7\n",
            "under59\tb=0.053, exp(b)=1.055, pval=0.003\n",
            "Optimization terminated successfully.\n",
            "         Current function value: 0.246216\n",
            "         Iterations 7\n",
            "under60\tb=0.050, exp(b)=1.052, pval=0.003\n",
            "Optimization terminated successfully.\n",
            "         Current function value: 0.248496\n",
            "         Iterations 7\n",
            "under61\tb=0.048, exp(b)=1.049, pval=0.003\n",
            "Optimization terminated successfully.\n",
            "         Current function value: 0.252137\n",
            "         Iterations 7\n",
            "under62\tb=0.045, exp(b)=1.046, pval=0.004\n",
            "Optimization terminated successfully.\n",
            "         Current function value: 0.256010\n",
            "         Iterations 7\n",
            "under63\tb=0.042, exp(b)=1.043, pval=0.005\n",
            "Optimization terminated successfully.\n",
            "         Current function value: 0.260325\n",
            "         Iterations 7\n",
            "under64\tb=0.039, exp(b)=1.040, pval=0.006\n",
            "Optimization terminated successfully.\n",
            "         Current function value: 0.264558\n",
            "         Iterations 7\n",
            "under65\tb=0.037, exp(b)=1.037, pval=0.009\n",
            "Optimization terminated successfully.\n",
            "         Current function value: 0.268627\n",
            "         Iterations 7\n",
            "under66\tb=0.034, exp(b)=1.035, pval=0.012\n",
            "Optimization terminated successfully.\n",
            "         Current function value: 0.272879\n",
            "         Iterations 7\n",
            "under67\tb=0.032, exp(b)=1.033, pval=0.018\n",
            "Optimization terminated successfully.\n",
            "         Current function value: 0.276888\n",
            "         Iterations 7\n",
            "under68\tb=0.030, exp(b)=1.030, pval=0.026\n",
            "Optimization terminated successfully.\n",
            "         Current function value: 0.280960\n",
            "         Iterations 7\n",
            "under69\tb=0.028, exp(b)=1.028, pval=0.038\n",
            "Optimization terminated successfully.\n",
            "         Current function value: 0.284386\n",
            "         Iterations 7\n",
            "under70\tb=0.025, exp(b)=1.026, pval=0.053\n",
            "Optimization terminated successfully.\n",
            "         Current function value: 0.287273\n",
            "         Iterations 7\n",
            "under71\tb=0.024, exp(b)=1.024, pval=0.071\n",
            "Optimization terminated successfully.\n",
            "         Current function value: 0.289687\n",
            "         Iterations 7\n",
            "under72\tb=0.022, exp(b)=1.022, pval=0.091\n",
            "Optimization terminated successfully.\n",
            "         Current function value: 0.292085\n",
            "         Iterations 7\n",
            "under73\tb=0.020, exp(b)=1.021, pval=0.117\n",
            "Optimization terminated successfully.\n",
            "         Current function value: 0.294417\n",
            "         Iterations 7\n",
            "under74\tb=0.019, exp(b)=1.019, pval=0.150\n",
            "Optimization terminated successfully.\n",
            "         Current function value: 0.296350\n",
            "         Iterations 7\n",
            "under75\tb=0.017, exp(b)=1.017, pval=0.186\n",
            "Optimization terminated successfully.\n",
            "         Current function value: 0.297488\n",
            "         Iterations 7\n",
            "under76\tb=0.016, exp(b)=1.016, pval=0.212\n",
            "Optimization terminated successfully.\n",
            "         Current function value: 0.298386\n",
            "         Iterations 7\n",
            "under77\tb=0.016, exp(b)=1.016, pval=0.236\n",
            "Optimization terminated successfully.\n",
            "         Current function value: 0.298604\n",
            "         Iterations 7\n",
            "under78\tb=0.016, exp(b)=1.016, pval=0.245\n",
            "Optimization terminated successfully.\n",
            "         Current function value: 0.298320\n",
            "         Iterations 7\n",
            "under79\tb=0.016, exp(b)=1.016, pval=0.240\n"
          ]
        }
      ],
      "source": [
        "import statsmodels.api as sm\n",
        "\n",
        "# Get odd ration using univariate logistic regression\n",
        "df['intercept'] = 1\n",
        "df['aki'] = df['aki'].astype(bool)\n",
        "odd_ratios = []\n",
        "for mbp_threshold in mbp_thresholds:\n",
        "    c = 'under{}'.format(mbp_threshold)\n",
        "    model = sm.Logit(df['aki'], df[['intercept', c]])\n",
        "    res = model.fit()\n",
        "    b = res.params[c]\n",
        "    pval = res.pvalues[c]\n",
        "    odd_ratios.append(np.exp(b))\n",
        "    print('{}\\tb={:.3f}, exp(b)={:.3f}, pval={:.3f}'.format(c, b, np.exp(b), pval))"
      ]
    },
    {
      "cell_type": "markdown",
      "metadata": {
        "id": "baARXo6kWeO4"
      },
      "source": [
        "## Draw a graph\n",
        "- We can find out that the odds ratio of AKI increases as the time that MBP stays below 60-65mmHg increases.\n"
      ]
    },
    {
      "cell_type": "code",
      "execution_count": 6,
      "metadata": {
        "colab": {
          "base_uri": "https://localhost:8080/",
          "height": 265
        },
        "id": "mut5q3MeWnKQ",
        "outputId": "fc1130ec-13d7-48ca-bd7a-ec574d2f18cc"
      },
      "outputs": [
        {
          "output_type": "display_data",
          "data": {
            "text/plain": [
              "<Figure size 432x288 with 1 Axes>"
            ],
            "image/png": "[encoded data removed]"
          },
          "metadata": {
            "needs_background": "light"
          }
        }
      ],
      "source": [
        "import matplotlib.pyplot as plt\n",
        "plt.plot(mbp_thresholds, odd_ratios)\n",
        "plt.show()"
      ]
    }
  ],
  "metadata": {
    "colab": {
      "collapsed_sections": [],
      "name": "mbp_aki.ipynb",
      "provenance": [],
      "include_colab_link": true
    },
    "kernelspec": {
      "display_name": "Python 3 (ipykernel)",
      "language": "python",
      "name": "python3"
    },
    "language_info": {
      "codemirror_mode": {
        "name": "ipython",
        "version": 3
      },
      "file_extension": ".py",
      "mimetype": "text/x-python",
      "name": "python",
      "nbconvert_exporter": "python",
      "pygments_lexer": "ipython3",
      "version": "3.9.12"
    }
  },
  "nbformat": 4,
  "nbformat_minor": 0
}