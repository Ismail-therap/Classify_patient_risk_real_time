{
  "nbformat": 4,
  "nbformat_minor": 0,
  "metadata": {
    "colab": {
      "name": "xgb_mortality.ipynb",
      "provenance": [],
      "collapsed_sections": [],
      "authorship_tag": "ABX9TyMp51Jr7AuKB/aLy8bSaZoQ",
      "include_colab_link": true
    },
    "kernelspec": {
      "name": "python3",
      "display_name": "Python 3"
    }
  },
  "cells": [
    {
      "cell_type": "markdown",
      "metadata": {
        "id": "view-in-github",
        "colab_type": "text"
      },
      "source": [
        "<a href=\"https://colab.research.google.com/github/vitaldb/examples/blob/master/xgb_mortality.ipynb\" target=\"_parent\"><img src=\"https://colab.research.google.com/assets/colab-badge.svg\" alt=\"Open In Colab\"/></a>"
      ]
    },
    {
      "cell_type": "code",
      "metadata": {
        "id": "vKrrZHp_9oqc",
        "colab": {
          "base_uri": "https://localhost:8080/"
        },
        "outputId": "77792b67-f4b1-4aad-c482-a0186f5bcaed"
      },
      "source": [
        "#!pip install -q xgboost\n",
        "import xgboost as xgb\n",
        "import pandas as pd\n",
        "import numpy as np\n",
        "import matplotlib.pyplot as plt\n",
        "from sklearn.metrics import confusion_matrix, accuracy_score, roc_curve, roc_auc_score, f1_score, precision_recall_curve, auc\n",
        "\n",
        "df = pd.read_csv('https://api.vitaldb.net/cases')\n",
        "df['sex'] = (df['sex'] == 'M')\n",
        "\n",
        "# remove categorical variables\n",
        "df = df.drop(['department','optype', 'dx', 'opname', 'approach', 'position', 'ane_type', 'cormack', 'airway', 'tubesize', 'dltubesize', 'lmasize', 'lmasize', 'preop_ecg', 'preop_pft', 'iv1', 'iv2', 'aline1', 'aline2', 'cline1', 'cline2'], axis=1)\n",
        "df = df.astype(float)\n",
        "\n",
        "# remove outcome variables\n",
        "y = df['death_inhosp'].values.flatten()\n",
        "y_old = df['asa'].values.flatten()\n",
        "df = df.drop(['death_inhosp','caseid','subjectid','icu_days','asa','casestart','caseend','anestart','aneend','opstart','opend','adm','dis'], axis=1)\n",
        "\n",
        "# input variables\n",
        "x = df.values\n",
        "\n",
        "df.columns"
      ],
      "execution_count": 13,
      "outputs": [
        {
          "output_type": "execute_result",
          "data": {
            "text/plain": [
              "Index(['age', 'sex', 'height', 'weight', 'bmi', 'emop', 'preop_htn',\n",
              "       'preop_dm', 'preop_hb', 'preop_plt', 'preop_pt', 'preop_aptt',\n",
              "       'preop_na', 'preop_k', 'preop_gluc', 'preop_alb', 'preop_ast',\n",
              "       'preop_alt', 'preop_bun', 'preop_cr', 'preop_ph', 'preop_hco3',\n",
              "       'preop_be', 'preop_pao2', 'preop_paco2', 'preop_sao2', 'intraop_ebl',\n",
              "       'intraop_uo', 'intraop_rbc', 'intraop_ffp', 'intraop_crystalloid',\n",
              "       'intraop_colloid', 'intraop_ppf', 'intraop_mdz', 'intraop_ftn',\n",
              "       'intraop_rocu', 'intraop_vecu', 'intraop_eph', 'intraop_phe',\n",
              "       'intraop_epi', 'intraop_ca'],\n",
              "      dtype='object')"
            ]
          },
          "metadata": {},
          "execution_count": 13
        }
      ]
    },
    {
      "cell_type": "code",
      "metadata": {
        "id": "AppFFIg_3c6j",
        "outputId": "daab75d4-0612-43bf-837a-6cbf6fa60799",
        "colab": {
          "base_uri": "https://localhost:8080/",
          "height": 410
        }
      },
      "source": [
        "nsamp = len(x)\n",
        "ntest = int(nsamp * 0.2)\n",
        "ntrain = nsamp - ntest\n",
        "x_test = x[-ntest:, :]\n",
        "y_test = y[-ntest:]\n",
        "y_old = y_old[-ntest:]\n",
        "x_train = x[:-ntest, :]\n",
        "y_train = y[:-ntest]\n",
        "\n",
        "print('{} (event {:.1f}%) training, {} testing (event {:.1f} %) samples'.format(ntrain, np.mean(y_train) * 100 , ntest, np.mean(y_test) * 100))\n",
        "\n",
        "model = xgb.XGBClassifier(objective=\"binary:logistic\", n_estimators=50, max_depth=5).fit(x_train, y_train)\n",
        "y_pred = model.predict_proba(x_test)[:, 1].ravel()\n",
        "\n",
        "# test the final model\n",
        "fpr, tpr, thvals = roc_curve(y_test, y_pred)\n",
        "auroc = auc(fpr, tpr)\n",
        "precision, recall, _ = precision_recall_curve(y_test, y_pred)\n",
        "auprc = auc(recall, precision)\n",
        "optimal_idx = np.argmax(tpr - fpr)\n",
        "thval = thvals[optimal_idx]\n",
        "\n",
        "print('optimal thval: {}'.format(thval))\n",
        "y_pred = y_pred > thval\n",
        "f1 = f1_score(y_test, y_pred)\n",
        "acc = accuracy_score(y_test, y_pred)\n",
        "tn, fp, fn, tp = confusion_matrix(y_test, y_pred).ravel()\n",
        "print('new auroc: {:.3f}, auprc: {:.3f}\\tacc: {:.3f}\\tf1: {:.3f}\\tTN {}\\tfp {}\\tfn {}\\tTP {}'.format(auroc, auprc, acc, f1, tn, fp, fn, tp))\n",
        "\n",
        "old_y_valid_mask = ~np.isnan(y_old)\n",
        "fpr_old, tpr_old, _ = roc_curve(y_test[old_y_valid_mask], y_old[old_y_valid_mask])\n",
        "auroc_old = auc(fpr_old, tpr_old)\n",
        "precision_old, recall_old, _ = precision_recall_curve(y_test[old_y_valid_mask], y_old[old_y_valid_mask])\n",
        "auprc_old = auc(recall_old, precision_old)\n",
        "\n",
        "print('old auroc: {:.3f}, auprc: {:.3f}'.format(auroc_old, auprc_old), flush=True)\n",
        "\n",
        "plt.figure(figsize=(5, 5))\n",
        "plt.plot(fpr, tpr, label='NEW AUROC = {:0.3f}'.format(auroc))\n",
        "plt.plot(fpr_old, tpr_old, label='OLD AUROC = {:0.3f}'.format(auroc_old))\n",
        "plt.plot([0, 1], [0, 1], lw=1, linestyle='--')\n",
        "plt.xlim([0, 1])\n",
        "plt.ylim([0, 1])\n",
        "plt.legend()\n",
        "plt.xlabel('False Positive Rate')\n",
        "plt.ylabel('True Positive Rate')\n",
        "plt.show()"
      ],
      "execution_count": 14,
      "outputs": [
        {
          "output_type": "stream",
          "text": [
            "5111 (event 0.9%) training, 1277 testing (event 1.0 %) samples\n",
            "optimal thval: 0.012971937656402588\n",
            "new auroc: 0.891, auprc: 0.655\tacc: 0.872\tf1: 0.109\tTN 1104\tfp 160\tfn 3\tTP 10\n",
            "old auroc: 0.903, auprc: 0.154\n"
          ],
          "name": "stdout"
        },
        {
          "output_type": "display_data",
          "data": {
            "image/png": "[encoded data removed]",
            "text/plain": [
              "<Figure size 360x360 with 1 Axes>"
            ]
          },
          "metadata": {
            "needs_background": "light"
          }
        }
      ]
    }
  ]
}